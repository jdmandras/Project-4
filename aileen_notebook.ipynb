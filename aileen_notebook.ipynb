{
 "cells": [
  {
   "cell_type": "code",
   "execution_count": 1,
   "metadata": {},
   "outputs": [],
   "source": [
    "# Import the modules\n",
    "import numpy as np\n",
    "import pandas as pd\n",
    "import codecs\n",
    "from pathlib import Path\n",
    "from sklearn.metrics import balanced_accuracy_score, confusion_matrix, classification_report\n",
    "from sklearn.model_selection import train_test_split\n",
    "from sklearn.linear_model import LogisticRegression\n",
    "from imblearn.over_sampling import RandomOverSampler"
   ]
  },
  {
   "cell_type": "code",
   "execution_count": 2,
   "metadata": {},
   "outputs": [
    {
     "data": {
      "text/html": [
       "<div>\n",
       "<style scoped>\n",
       "    .dataframe tbody tr th:only-of-type {\n",
       "        vertical-align: middle;\n",
       "    }\n",
       "\n",
       "    .dataframe tbody tr th {\n",
       "        vertical-align: top;\n",
       "    }\n",
       "\n",
       "    .dataframe thead th {\n",
       "        text-align: right;\n",
       "    }\n",
       "</style>\n",
       "<table border=\"1\" class=\"dataframe\">\n",
       "  <thead>\n",
       "    <tr style=\"text-align: right;\">\n",
       "      <th></th>\n",
       "      <th>Type</th>\n",
       "      <th>Days for shipping (real)</th>\n",
       "      <th>Days for shipment (scheduled)</th>\n",
       "      <th>Benefit per order</th>\n",
       "      <th>Sales per customer</th>\n",
       "      <th>Delivery Status</th>\n",
       "      <th>Late_delivery_risk</th>\n",
       "      <th>Category Id</th>\n",
       "      <th>Category Name</th>\n",
       "      <th>Customer City</th>\n",
       "      <th>...</th>\n",
       "      <th>Order Zipcode</th>\n",
       "      <th>Product Card Id</th>\n",
       "      <th>Product Category Id</th>\n",
       "      <th>Product Description</th>\n",
       "      <th>Product Image</th>\n",
       "      <th>Product Name</th>\n",
       "      <th>Product Price</th>\n",
       "      <th>Product Status</th>\n",
       "      <th>shipping date (DateOrders)</th>\n",
       "      <th>Shipping Mode</th>\n",
       "    </tr>\n",
       "  </thead>\n",
       "  <tbody>\n",
       "    <tr>\n",
       "      <th>0</th>\n",
       "      <td>DEBIT</td>\n",
       "      <td>3</td>\n",
       "      <td>4</td>\n",
       "      <td>91.250000</td>\n",
       "      <td>314.640015</td>\n",
       "      <td>Advance shipping</td>\n",
       "      <td>0</td>\n",
       "      <td>73</td>\n",
       "      <td>Sporting Goods</td>\n",
       "      <td>Caguas</td>\n",
       "      <td>...</td>\n",
       "      <td>NaN</td>\n",
       "      <td>1360</td>\n",
       "      <td>73</td>\n",
       "      <td>NaN</td>\n",
       "      <td>http://images.acmesports.sports/Smart+watch</td>\n",
       "      <td>Smart watch</td>\n",
       "      <td>327.75</td>\n",
       "      <td>0</td>\n",
       "      <td>2/3/2018 22:56</td>\n",
       "      <td>Standard Class</td>\n",
       "    </tr>\n",
       "    <tr>\n",
       "      <th>1</th>\n",
       "      <td>TRANSFER</td>\n",
       "      <td>5</td>\n",
       "      <td>4</td>\n",
       "      <td>-249.089996</td>\n",
       "      <td>311.359985</td>\n",
       "      <td>Late delivery</td>\n",
       "      <td>1</td>\n",
       "      <td>73</td>\n",
       "      <td>Sporting Goods</td>\n",
       "      <td>Caguas</td>\n",
       "      <td>...</td>\n",
       "      <td>NaN</td>\n",
       "      <td>1360</td>\n",
       "      <td>73</td>\n",
       "      <td>NaN</td>\n",
       "      <td>http://images.acmesports.sports/Smart+watch</td>\n",
       "      <td>Smart watch</td>\n",
       "      <td>327.75</td>\n",
       "      <td>0</td>\n",
       "      <td>1/18/2018 12:27</td>\n",
       "      <td>Standard Class</td>\n",
       "    </tr>\n",
       "    <tr>\n",
       "      <th>2</th>\n",
       "      <td>CASH</td>\n",
       "      <td>4</td>\n",
       "      <td>4</td>\n",
       "      <td>-247.779999</td>\n",
       "      <td>309.720001</td>\n",
       "      <td>Shipping on time</td>\n",
       "      <td>0</td>\n",
       "      <td>73</td>\n",
       "      <td>Sporting Goods</td>\n",
       "      <td>San Jose</td>\n",
       "      <td>...</td>\n",
       "      <td>NaN</td>\n",
       "      <td>1360</td>\n",
       "      <td>73</td>\n",
       "      <td>NaN</td>\n",
       "      <td>http://images.acmesports.sports/Smart+watch</td>\n",
       "      <td>Smart watch</td>\n",
       "      <td>327.75</td>\n",
       "      <td>0</td>\n",
       "      <td>1/17/2018 12:06</td>\n",
       "      <td>Standard Class</td>\n",
       "    </tr>\n",
       "    <tr>\n",
       "      <th>3</th>\n",
       "      <td>DEBIT</td>\n",
       "      <td>3</td>\n",
       "      <td>4</td>\n",
       "      <td>22.860001</td>\n",
       "      <td>304.809998</td>\n",
       "      <td>Advance shipping</td>\n",
       "      <td>0</td>\n",
       "      <td>73</td>\n",
       "      <td>Sporting Goods</td>\n",
       "      <td>Los Angeles</td>\n",
       "      <td>...</td>\n",
       "      <td>NaN</td>\n",
       "      <td>1360</td>\n",
       "      <td>73</td>\n",
       "      <td>NaN</td>\n",
       "      <td>http://images.acmesports.sports/Smart+watch</td>\n",
       "      <td>Smart watch</td>\n",
       "      <td>327.75</td>\n",
       "      <td>0</td>\n",
       "      <td>1/16/2018 11:45</td>\n",
       "      <td>Standard Class</td>\n",
       "    </tr>\n",
       "    <tr>\n",
       "      <th>4</th>\n",
       "      <td>PAYMENT</td>\n",
       "      <td>2</td>\n",
       "      <td>4</td>\n",
       "      <td>134.210007</td>\n",
       "      <td>298.250000</td>\n",
       "      <td>Advance shipping</td>\n",
       "      <td>0</td>\n",
       "      <td>73</td>\n",
       "      <td>Sporting Goods</td>\n",
       "      <td>Caguas</td>\n",
       "      <td>...</td>\n",
       "      <td>NaN</td>\n",
       "      <td>1360</td>\n",
       "      <td>73</td>\n",
       "      <td>NaN</td>\n",
       "      <td>http://images.acmesports.sports/Smart+watch</td>\n",
       "      <td>Smart watch</td>\n",
       "      <td>327.75</td>\n",
       "      <td>0</td>\n",
       "      <td>1/15/2018 11:24</td>\n",
       "      <td>Standard Class</td>\n",
       "    </tr>\n",
       "  </tbody>\n",
       "</table>\n",
       "<p>5 rows × 53 columns</p>\n",
       "</div>"
      ],
      "text/plain": [
       "       Type  Days for shipping (real)  Days for shipment (scheduled)  \\\n",
       "0     DEBIT                         3                              4   \n",
       "1  TRANSFER                         5                              4   \n",
       "2      CASH                         4                              4   \n",
       "3     DEBIT                         3                              4   \n",
       "4   PAYMENT                         2                              4   \n",
       "\n",
       "   Benefit per order  Sales per customer   Delivery Status  \\\n",
       "0          91.250000          314.640015  Advance shipping   \n",
       "1        -249.089996          311.359985     Late delivery   \n",
       "2        -247.779999          309.720001  Shipping on time   \n",
       "3          22.860001          304.809998  Advance shipping   \n",
       "4         134.210007          298.250000  Advance shipping   \n",
       "\n",
       "   Late_delivery_risk  Category Id   Category Name Customer City  ...  \\\n",
       "0                   0           73  Sporting Goods        Caguas  ...   \n",
       "1                   1           73  Sporting Goods        Caguas  ...   \n",
       "2                   0           73  Sporting Goods      San Jose  ...   \n",
       "3                   0           73  Sporting Goods   Los Angeles  ...   \n",
       "4                   0           73  Sporting Goods        Caguas  ...   \n",
       "\n",
       "  Order Zipcode Product Card Id Product Category Id  Product Description  \\\n",
       "0           NaN            1360                  73                  NaN   \n",
       "1           NaN            1360                  73                  NaN   \n",
       "2           NaN            1360                  73                  NaN   \n",
       "3           NaN            1360                  73                  NaN   \n",
       "4           NaN            1360                  73                  NaN   \n",
       "\n",
       "                                  Product Image  Product Name Product Price  \\\n",
       "0  http://images.acmesports.sports/Smart+watch   Smart watch         327.75   \n",
       "1  http://images.acmesports.sports/Smart+watch   Smart watch         327.75   \n",
       "2  http://images.acmesports.sports/Smart+watch   Smart watch         327.75   \n",
       "3  http://images.acmesports.sports/Smart+watch   Smart watch         327.75   \n",
       "4  http://images.acmesports.sports/Smart+watch   Smart watch         327.75   \n",
       "\n",
       "  Product Status shipping date (DateOrders)   Shipping Mode  \n",
       "0              0             2/3/2018 22:56  Standard Class  \n",
       "1              0            1/18/2018 12:27  Standard Class  \n",
       "2              0            1/17/2018 12:06  Standard Class  \n",
       "3              0            1/16/2018 11:45  Standard Class  \n",
       "4              0            1/15/2018 11:24  Standard Class  \n",
       "\n",
       "[5 rows x 53 columns]"
      ]
     },
     "execution_count": 2,
     "metadata": {},
     "output_type": "execute_result"
    }
   ],
   "source": [
    "#readining in CSV file \n",
    "with codecs.open(\"/Users/aileen/Downloads/DataCoSupplyChainDataset_Original.csv\", 'r', encoding='ISO-8859-1') as f:\n",
    "    dataco_df = pd.read_csv(f)\n",
    "\n",
    "#printing df\n",
    "dataco_df.head()"
   ]
  },
  {
   "cell_type": "code",
   "execution_count": 3,
   "metadata": {},
   "outputs": [
    {
     "data": {
      "text/plain": [
       "Index(['Type', 'Days for shipping (real)', 'Days for shipment (scheduled)',\n",
       "       'Benefit per order', 'Sales per customer', 'Delivery Status',\n",
       "       'Late_delivery_risk', 'Category Id', 'Category Name', 'Customer City',\n",
       "       'Customer Country', 'Customer Email', 'Customer Fname', 'Customer Id',\n",
       "       'Customer Lname', 'Customer Password', 'Customer Segment',\n",
       "       'Customer State', 'Customer Street', 'Customer Zipcode',\n",
       "       'Department Id', 'Department Name', 'Latitude', 'Longitude', 'Market',\n",
       "       'Order City', 'Order Country', 'Order Customer Id',\n",
       "       'order date (DateOrders)', 'Order Id', 'Order Item Cardprod Id',\n",
       "       'Order Item Discount', 'Order Item Discount Rate', 'Order Item Id',\n",
       "       'Order Item Product Price', 'Order Item Profit Ratio',\n",
       "       'Order Item Quantity', 'Sales', 'Order Item Total',\n",
       "       'Order Profit Per Order', 'Order Region', 'Order State', 'Order Status',\n",
       "       'Order Zipcode', 'Product Card Id', 'Product Category Id',\n",
       "       'Product Description', 'Product Image', 'Product Name', 'Product Price',\n",
       "       'Product Status', 'shipping date (DateOrders)', 'Shipping Mode'],\n",
       "      dtype='object')"
      ]
     },
     "execution_count": 3,
     "metadata": {},
     "output_type": "execute_result"
    }
   ],
   "source": [
    "all_columns = dataco_df.columns\n",
    "all_columns"
   ]
  },
  {
   "cell_type": "code",
   "execution_count": 4,
   "metadata": {},
   "outputs": [
    {
     "data": {
      "text/plain": [
       "array(['Advance shipping', 'Late delivery', 'Shipping on time',\n",
       "       'Shipping canceled'], dtype=object)"
      ]
     },
     "execution_count": 4,
     "metadata": {},
     "output_type": "execute_result"
    }
   ],
   "source": [
    "#all delivery statuses\n",
    "unique_delivery_values = dataco_df['Delivery Status'].unique()\n",
    "unique_delivery_values"
   ]
  },
  {
   "cell_type": "code",
   "execution_count": 5,
   "metadata": {},
   "outputs": [
    {
     "data": {
      "text/plain": [
       "array([   nan, 99301., 90049., 94110., 66212., 77041., 85234., 95123.,\n",
       "       93727., 85345., 45231., 47201., 19134., 60016., 60126., 98103.,\n",
       "       94601., 10009., 28110., 80219., 90008., 77095., 32216., 77036.,\n",
       "       74133., 94109., 92553., 20735., 60543., 60174., 31907., 62521.,\n",
       "       92627., 28806., 35630.,  1852., 10024., 44312., 22153., 89015.,\n",
       "       90045., 10011., 49505., 78664., 76017., 92105., 85705., 90032.,\n",
       "       48227., 55407., 28205., 23602., 94122., 11572., 78207., 68104.,\n",
       "       21215., 75081., 10035., 98115., 49201., 43229., 60653.,  6708.,\n",
       "       98105., 19143., 42420., 80134., 94533., 92037., 90036., 22304.,\n",
       "       35810., 19711., 38109., 72701., 23223., 40475., 65807., 33801.,\n",
       "       13021., 45503., 78577., 11550., 40214., 67212., 76106., 21044.,\n",
       "       30318., 79762., 60610., 75217., 90004., 89115., 95037., 97206.,\n",
       "       14215., 79109., 33614., 75034., 28540., 32303.,  4240., 34952.,\n",
       "       63116., 77070.,  1841., 97756., 19140., 28314., 13440., 60623.,\n",
       "       95823., 37042., 46060.,  8701., 26003., 19120., 19013., 99207.,\n",
       "        2138., 72209., 39212., 44256., 19805., 74012., 23320., 80112.,\n",
       "       85023., 38671., 92374., 62301., 55106., 22801., 47150., 37167.,\n",
       "       28403., 29203., 37064., 27604., 80013., 24153., 43055., 54880.,\n",
       "       85281., 92024., 87105., 27893., 75150., 95695., 33311., 77506.,\n",
       "       44240.,  4401., 77340.,  7960., 35601., 33023., 22204., 37211.,\n",
       "       92704., 30062., 33178., 91104., 60302., 54401., 68025., 33180.,\n",
       "       53209., 60505., 55044., 27707., 75701., 72401., 98661., 48234.,\n",
       "       95051., 41042., 46368., 91941., 74403., 37130., 36608.,  7090.,\n",
       "       66062., 70506.,  7501., 47905., 11561., 33021., 33142., 80004.,\n",
       "       30344., 90301., 43130., 76117., 98042., 98632., 48146., 73120.,\n",
       "       32839., 45373., 92804., 80027., 72032., 79907., 90805.,  2908.,\n",
       "       55901., 92503.,  1453., 78745., 98052., 84106.,  6824., 76706.,\n",
       "       60440., 92404., 32712.,  2169., 33024., 98208., 98006., 42104.,\n",
       "       85301., 30328., 71203., 32137., 22980., 61032., 92345., 37620.,\n",
       "       97301., 78539., 97477., 92530., 46203., 18103., 75051.,  2740.,\n",
       "       12180., 67846., 54601., 43017., 94061.,  2149., 37421., 38301.,\n",
       "       85204.,  3820., 10550., 89031., 53142., 47374., 44105., 75220.,\n",
       "       85323., 54302., 60540., 60025., 13601., 48183., 44107., 93309.,\n",
       "       75023., 87124., 94591., 71111., 30080., 61701.,  7601., 27217.,\n",
       "       43615., 93101., 77590.,  6457., 60201., 97405., 32503., 98026.,\n",
       "        7060., 33437., 46350., 75061., 30605., 48205., 48126., 17403.,\n",
       "       91767., 83605., 28052., 48601., 19901., 44052., 79424., 10701.,\n",
       "       36116., 55113., 23434., 98198., 13501., 92307., 20016.,  8302.,\n",
       "       97224.,  2038., 61107.,  2148., 45014., 90712., 94086., 75007.,\n",
       "       71603., 78041., 46544., 37075., 85254., 28601., 83642., 37918.,\n",
       "       48310., 33012., 85224.,  7050., 76021.,  6010., 37604., 70601.,\n",
       "       92691., 20877., 88220.,  8360., 78501., 27405., 92054., 29501.,\n",
       "       92630., 43302., 33458., 33065., 40324., 28027., 33317., 84107.,\n",
       "       39401.,  6040., 14609., 98502., 78415., 84041., 61761., 84084.,\n",
       "       94509., 95661., 80020., 84062., 33063.,  1915., 10801., 77642.,\n",
       "       90503., 84604., 80906., 32114., 91776., 23464., 85635., 48911.,\n",
       "       27834., 77705., 90278., 38401., 22901., 50315., 98031.,  7055.,\n",
       "       84057., 75002.,  3301., 36830., 44221., 30076., 60462., 78550.,\n",
       "       94568., 44134., 48127., 84043., 61821., 46226., 35244., 47401.,\n",
       "       92025., 33319., 75056., 53132., 60076., 65203., 92683., 68701.,\n",
       "       55124., 77573.,  6450., 78666., 77840., 96003., 90640.,  5408.,\n",
       "       56301., 63301., 55122., 92677., 43123., 20852., 59601., 89431.,\n",
       "       23666., 59405., 78521.,  6484., 18018., 11520., 76063., 48640.,\n",
       "       92646., 94513.,  8401., 97504.,  2920., 52601., 14304.,  6360.,\n",
       "       57701.,  8861., 27360., 83201., 81001., 55369., 84321., 53711.,\n",
       "        7011., 89502.,  7109.,  7002., 91505., 75080., 94526., 31088.,\n",
       "       72762., 32771., 97123., 95336., 93405., 95240., 80501., 80229.,\n",
       "       93454., 97030., 33068., 42301., 50322., 16602., 60035., 76903.,\n",
       "       70065., 44060., 53081., 29464., 85364., 48185., 53214., 27511.,\n",
       "       57103., 60090., 37087., 29483., 83704., 93534., 93905.,  2886.,\n",
       "       79605., 43402., 52302., 17602.,  8901., 55016., 64118., 54703.,\n",
       "       95928., 95351., 94521., 45011., 31204., 33407.,  2151., 71901.,\n",
       "       60098., 48307., 86442.,  6460., 98059., 35401., 92592., 39503.,\n",
       "       77571., 93030., 95207.,  2895., 60089., 75043., 73034., 48180.,\n",
       "       49423., 53186., 73505., 33433.,  1810., 95610., 80538., 55125.,\n",
       "       88101., 33445., 92563., 61604., 93010., 58103., 52001., 90604.,\n",
       "       91761., 77803., 52402., 44035., 33710., 33030., 98270., 48073.,\n",
       "       73071., 75019., 29730.,  1752., 46142., 68801., 48104., 59715.,\n",
       "       87505., 19601., 45040., 92672., 60004., 80525., 33161., 83301.,\n",
       "       91730., 93277., 29406., 91360., 84020., 48237., 63122., 32725.,\n",
       "       61832., 60188., 60477., 77301., 94403., 77489., 59102., 42071.,\n",
       "       14701., 92236., 46614., 98002., 54915., 60068., 48187.,  1040.,\n",
       "       60441., 64055., 32174., 20707., 98226., 48066.,  7017., 92020.,\n",
       "       91911., 75104., 56560., 88001., 47362., 76051., 50701., 57401.,\n",
       "       80022., 77536., 71854., 55433., 77581., 63376., 48858., 34741.,\n",
       "       95616., 46514., 87401.,  7036., 30188., 59801., 11757., 92399.,\n",
       "       90660.,  3060.])"
      ]
     },
     "execution_count": 5,
     "metadata": {},
     "output_type": "execute_result"
    }
   ],
   "source": [
    "#all zipcodes\n",
    "unique_zipcode_values = dataco_df['Order Zipcode'].unique()\n",
    "unique_zipcode_values"
   ]
  },
  {
   "cell_type": "code",
   "execution_count": 6,
   "metadata": {},
   "outputs": [
    {
     "data": {
      "text/plain": [
       "array(['COMPLETE', 'PENDING', 'CLOSED', 'PENDING_PAYMENT', 'CANCELED',\n",
       "       'PROCESSING', 'SUSPECTED_FRAUD', 'ON_HOLD', 'PAYMENT_REVIEW'],\n",
       "      dtype=object)"
      ]
     },
     "execution_count": 6,
     "metadata": {},
     "output_type": "execute_result"
    }
   ],
   "source": [
    "#all order statuses \n",
    "order_statuses = dataco_df['Order Status'].unique()\n",
    "order_statuses"
   ]
  },
  {
   "cell_type": "code",
   "execution_count": 7,
   "metadata": {},
   "outputs": [
    {
     "data": {
      "text/plain": [
       "COMPLETE           59491\n",
       "PENDING_PAYMENT    39832\n",
       "PROCESSING         21902\n",
       "PENDING            20227\n",
       "CLOSED             19616\n",
       "ON_HOLD             9804\n",
       "SUSPECTED_FRAUD     4062\n",
       "CANCELED            3692\n",
       "PAYMENT_REVIEW      1893\n",
       "Name: Order Status, dtype: int64"
      ]
     },
     "execution_count": 7,
     "metadata": {},
     "output_type": "execute_result"
    }
   ],
   "source": [
    "#looking at the most frequent order status\n",
    "counts = dataco_df['Order Status'].value_counts()\n",
    "counts"
   ]
  },
  {
   "cell_type": "code",
   "execution_count": 8,
   "metadata": {},
   "outputs": [
    {
     "data": {
      "text/plain": [
       "array(['Southeast Asia', 'South Asia', 'Oceania', 'Eastern Asia',\n",
       "       'West Asia', 'West of USA ', 'US Center ', 'West Africa',\n",
       "       'Central Africa', 'North Africa', 'Western Europe',\n",
       "       'Northern Europe', 'Central America', 'Caribbean', 'South America',\n",
       "       'East Africa', 'Southern Europe', 'East of USA', 'Canada',\n",
       "       'Southern Africa', 'Central Asia', 'Eastern Europe',\n",
       "       'South of  USA '], dtype=object)"
      ]
     },
     "execution_count": 8,
     "metadata": {},
     "output_type": "execute_result"
    }
   ],
   "source": [
    "#all order regions \n",
    "unique_regions = dataco_df['Order Region'].unique()\n",
    "unique_regions"
   ]
  },
  {
   "cell_type": "code",
   "execution_count": 9,
   "metadata": {},
   "outputs": [
    {
     "data": {
      "text/plain": [
       "array(['Southeast Asia', 'South Asia', 'Oceania', 'Eastern Asia',\n",
       "       'West Asia', 'USA', 'West Africa', 'Central Africa',\n",
       "       'North Africa', 'Western Europe', 'Northern Europe',\n",
       "       'Central America', 'Caribbean', 'South America', 'East Africa',\n",
       "       'Southern Europe', 'Canada', 'Southern Africa', 'Central Asia',\n",
       "       'Eastern Europe'], dtype=object)"
      ]
     },
     "execution_count": 9,
     "metadata": {},
     "output_type": "execute_result"
    }
   ],
   "source": [
    "# Use str.replace to update USA region values \n",
    "dataco_df['Order Region'] = dataco_df['Order Region'].str.replace('West of USA', 'USA').str.replace('South of USA', 'USA').str.replace('South of USA ', 'USA').str.replace('East of USA', 'USA').str.replace('US Center', 'USA').str.replace('South of  USA ', 'USA').str.replace('USA ', 'USA')\n",
    "\n",
    "#checking to make sure data is compiled\n",
    "unique_regions = dataco_df['Order Region'].unique()\n",
    "unique_regions"
   ]
  },
  {
   "cell_type": "code",
   "execution_count": 10,
   "metadata": {},
   "outputs": [
    {
     "data": {
      "text/html": [
       "<div>\n",
       "<style scoped>\n",
       "    .dataframe tbody tr th:only-of-type {\n",
       "        vertical-align: middle;\n",
       "    }\n",
       "\n",
       "    .dataframe tbody tr th {\n",
       "        vertical-align: top;\n",
       "    }\n",
       "\n",
       "    .dataframe thead th {\n",
       "        text-align: right;\n",
       "    }\n",
       "</style>\n",
       "<table border=\"1\" class=\"dataframe\">\n",
       "  <thead>\n",
       "    <tr style=\"text-align: right;\">\n",
       "      <th></th>\n",
       "      <th>Type</th>\n",
       "      <th>Days for shipping (real)</th>\n",
       "      <th>Days for shipment (scheduled)</th>\n",
       "      <th>Benefit per order</th>\n",
       "      <th>Sales per customer</th>\n",
       "      <th>Delivery Status</th>\n",
       "      <th>Late_delivery_risk</th>\n",
       "      <th>Category Id</th>\n",
       "      <th>Category Name</th>\n",
       "      <th>Customer City</th>\n",
       "      <th>...</th>\n",
       "      <th>Order Zipcode</th>\n",
       "      <th>Product Card Id</th>\n",
       "      <th>Product Category Id</th>\n",
       "      <th>Product Description</th>\n",
       "      <th>Product Image</th>\n",
       "      <th>Product Name</th>\n",
       "      <th>Product Price</th>\n",
       "      <th>Product Status</th>\n",
       "      <th>shipping date (DateOrders)</th>\n",
       "      <th>Shipping Mode</th>\n",
       "    </tr>\n",
       "  </thead>\n",
       "  <tbody>\n",
       "  </tbody>\n",
       "</table>\n",
       "<p>0 rows × 53 columns</p>\n",
       "</div>"
      ],
      "text/plain": [
       "Empty DataFrame\n",
       "Columns: [Type, Days for shipping (real), Days for shipment (scheduled), Benefit per order, Sales per customer, Delivery Status, Late_delivery_risk, Category Id, Category Name, Customer City, Customer Country, Customer Email, Customer Fname, Customer Id, Customer Lname, Customer Password, Customer Segment, Customer State, Customer Street, Customer Zipcode, Department Id, Department Name, Latitude, Longitude, Market, Order City, Order Country, Order Customer Id, order date (DateOrders), Order Id, Order Item Cardprod Id, Order Item Discount, Order Item Discount Rate, Order Item Id, Order Item Product Price, Order Item Profit Ratio, Order Item Quantity, Sales, Order Item Total, Order Profit Per Order, Order Region, Order State, Order Status, Order Zipcode, Product Card Id, Product Category Id, Product Description, Product Image, Product Name, Product Price, Product Status, shipping date (DateOrders), Shipping Mode]\n",
       "Index: []\n",
       "\n",
       "[0 rows x 53 columns]"
      ]
     },
     "execution_count": 10,
     "metadata": {},
     "output_type": "execute_result"
    }
   ],
   "source": [
    "#checking to see if there are any null values in order region\n",
    "result = dataco_df.loc[dataco_df['Order Region'].isnull()]\n",
    "result"
   ]
  },
  {
   "cell_type": "code",
   "execution_count": 11,
   "metadata": {},
   "outputs": [
    {
     "data": {
      "text/html": [
       "<div>\n",
       "<style scoped>\n",
       "    .dataframe tbody tr th:only-of-type {\n",
       "        vertical-align: middle;\n",
       "    }\n",
       "\n",
       "    .dataframe tbody tr th {\n",
       "        vertical-align: top;\n",
       "    }\n",
       "\n",
       "    .dataframe thead th {\n",
       "        text-align: right;\n",
       "    }\n",
       "</style>\n",
       "<table border=\"1\" class=\"dataframe\">\n",
       "  <thead>\n",
       "    <tr style=\"text-align: right;\">\n",
       "      <th></th>\n",
       "      <th>Type</th>\n",
       "      <th>Days for shipment (scheduled)</th>\n",
       "      <th>Late_delivery_risk</th>\n",
       "      <th>Customer Zipcode</th>\n",
       "      <th>Latitude</th>\n",
       "      <th>Longitude</th>\n",
       "      <th>Market</th>\n",
       "      <th>Order City</th>\n",
       "      <th>Order Country</th>\n",
       "      <th>order date (DateOrders)</th>\n",
       "      <th>Order Item Quantity</th>\n",
       "      <th>Sales</th>\n",
       "      <th>Order Region</th>\n",
       "      <th>Order State</th>\n",
       "      <th>Product Name</th>\n",
       "      <th>Product Price</th>\n",
       "      <th>shipping date (DateOrders)</th>\n",
       "      <th>Shipping Mode</th>\n",
       "    </tr>\n",
       "  </thead>\n",
       "  <tbody>\n",
       "    <tr>\n",
       "      <th>0</th>\n",
       "      <td>DEBIT</td>\n",
       "      <td>4</td>\n",
       "      <td>0</td>\n",
       "      <td>725.0</td>\n",
       "      <td>18.251453</td>\n",
       "      <td>-66.037056</td>\n",
       "      <td>Pacific Asia</td>\n",
       "      <td>Bekasi</td>\n",
       "      <td>Indonesia</td>\n",
       "      <td>1/31/2018 22:56</td>\n",
       "      <td>1</td>\n",
       "      <td>327.750000</td>\n",
       "      <td>Southeast Asia</td>\n",
       "      <td>Java Occidental</td>\n",
       "      <td>Smart watch</td>\n",
       "      <td>327.750000</td>\n",
       "      <td>2/3/2018 22:56</td>\n",
       "      <td>Standard Class</td>\n",
       "    </tr>\n",
       "    <tr>\n",
       "      <th>1</th>\n",
       "      <td>TRANSFER</td>\n",
       "      <td>4</td>\n",
       "      <td>1</td>\n",
       "      <td>725.0</td>\n",
       "      <td>18.279451</td>\n",
       "      <td>-66.037064</td>\n",
       "      <td>Pacific Asia</td>\n",
       "      <td>Bikaner</td>\n",
       "      <td>India</td>\n",
       "      <td>1/13/2018 12:27</td>\n",
       "      <td>1</td>\n",
       "      <td>327.750000</td>\n",
       "      <td>South Asia</td>\n",
       "      <td>Rajastán</td>\n",
       "      <td>Smart watch</td>\n",
       "      <td>327.750000</td>\n",
       "      <td>1/18/2018 12:27</td>\n",
       "      <td>Standard Class</td>\n",
       "    </tr>\n",
       "    <tr>\n",
       "      <th>2</th>\n",
       "      <td>CASH</td>\n",
       "      <td>4</td>\n",
       "      <td>0</td>\n",
       "      <td>95125.0</td>\n",
       "      <td>37.292233</td>\n",
       "      <td>-121.881279</td>\n",
       "      <td>Pacific Asia</td>\n",
       "      <td>Bikaner</td>\n",
       "      <td>India</td>\n",
       "      <td>1/13/2018 12:06</td>\n",
       "      <td>1</td>\n",
       "      <td>327.750000</td>\n",
       "      <td>South Asia</td>\n",
       "      <td>Rajastán</td>\n",
       "      <td>Smart watch</td>\n",
       "      <td>327.750000</td>\n",
       "      <td>1/17/2018 12:06</td>\n",
       "      <td>Standard Class</td>\n",
       "    </tr>\n",
       "    <tr>\n",
       "      <th>3</th>\n",
       "      <td>DEBIT</td>\n",
       "      <td>4</td>\n",
       "      <td>0</td>\n",
       "      <td>90027.0</td>\n",
       "      <td>34.125946</td>\n",
       "      <td>-118.291016</td>\n",
       "      <td>Pacific Asia</td>\n",
       "      <td>Townsville</td>\n",
       "      <td>Australia</td>\n",
       "      <td>1/13/2018 11:45</td>\n",
       "      <td>1</td>\n",
       "      <td>327.750000</td>\n",
       "      <td>Oceania</td>\n",
       "      <td>Queensland</td>\n",
       "      <td>Smart watch</td>\n",
       "      <td>327.750000</td>\n",
       "      <td>1/16/2018 11:45</td>\n",
       "      <td>Standard Class</td>\n",
       "    </tr>\n",
       "    <tr>\n",
       "      <th>4</th>\n",
       "      <td>PAYMENT</td>\n",
       "      <td>4</td>\n",
       "      <td>0</td>\n",
       "      <td>725.0</td>\n",
       "      <td>18.253769</td>\n",
       "      <td>-66.037048</td>\n",
       "      <td>Pacific Asia</td>\n",
       "      <td>Townsville</td>\n",
       "      <td>Australia</td>\n",
       "      <td>1/13/2018 11:24</td>\n",
       "      <td>1</td>\n",
       "      <td>327.750000</td>\n",
       "      <td>Oceania</td>\n",
       "      <td>Queensland</td>\n",
       "      <td>Smart watch</td>\n",
       "      <td>327.750000</td>\n",
       "      <td>1/15/2018 11:24</td>\n",
       "      <td>Standard Class</td>\n",
       "    </tr>\n",
       "    <tr>\n",
       "      <th>...</th>\n",
       "      <td>...</td>\n",
       "      <td>...</td>\n",
       "      <td>...</td>\n",
       "      <td>...</td>\n",
       "      <td>...</td>\n",
       "      <td>...</td>\n",
       "      <td>...</td>\n",
       "      <td>...</td>\n",
       "      <td>...</td>\n",
       "      <td>...</td>\n",
       "      <td>...</td>\n",
       "      <td>...</td>\n",
       "      <td>...</td>\n",
       "      <td>...</td>\n",
       "      <td>...</td>\n",
       "      <td>...</td>\n",
       "      <td>...</td>\n",
       "      <td>...</td>\n",
       "    </tr>\n",
       "    <tr>\n",
       "      <th>180514</th>\n",
       "      <td>CASH</td>\n",
       "      <td>4</td>\n",
       "      <td>0</td>\n",
       "      <td>11207.0</td>\n",
       "      <td>40.640930</td>\n",
       "      <td>-73.942711</td>\n",
       "      <td>Pacific Asia</td>\n",
       "      <td>Shanghái</td>\n",
       "      <td>China</td>\n",
       "      <td>1/16/2016 3:40</td>\n",
       "      <td>1</td>\n",
       "      <td>399.980011</td>\n",
       "      <td>Eastern Asia</td>\n",
       "      <td>Shanghái</td>\n",
       "      <td>Field &amp; Stream Sportsman 16 Gun Fire Safe</td>\n",
       "      <td>399.980011</td>\n",
       "      <td>1/20/2016 3:40</td>\n",
       "      <td>Standard Class</td>\n",
       "    </tr>\n",
       "    <tr>\n",
       "      <th>180515</th>\n",
       "      <td>DEBIT</td>\n",
       "      <td>2</td>\n",
       "      <td>1</td>\n",
       "      <td>93304.0</td>\n",
       "      <td>35.362545</td>\n",
       "      <td>-119.018700</td>\n",
       "      <td>Pacific Asia</td>\n",
       "      <td>Hirakata</td>\n",
       "      <td>Japón</td>\n",
       "      <td>1/16/2016 1:34</td>\n",
       "      <td>1</td>\n",
       "      <td>399.980011</td>\n",
       "      <td>Eastern Asia</td>\n",
       "      <td>Osaka</td>\n",
       "      <td>Field &amp; Stream Sportsman 16 Gun Fire Safe</td>\n",
       "      <td>399.980011</td>\n",
       "      <td>1/19/2016 1:34</td>\n",
       "      <td>Second Class</td>\n",
       "    </tr>\n",
       "    <tr>\n",
       "      <th>180516</th>\n",
       "      <td>TRANSFER</td>\n",
       "      <td>4</td>\n",
       "      <td>1</td>\n",
       "      <td>6010.0</td>\n",
       "      <td>41.629959</td>\n",
       "      <td>-72.967155</td>\n",
       "      <td>Pacific Asia</td>\n",
       "      <td>Adelaide</td>\n",
       "      <td>Australia</td>\n",
       "      <td>1/15/2016 21:00</td>\n",
       "      <td>1</td>\n",
       "      <td>399.980011</td>\n",
       "      <td>Oceania</td>\n",
       "      <td>Australia del Sur</td>\n",
       "      <td>Field &amp; Stream Sportsman 16 Gun Fire Safe</td>\n",
       "      <td>399.980011</td>\n",
       "      <td>1/20/2016 21:00</td>\n",
       "      <td>Standard Class</td>\n",
       "    </tr>\n",
       "    <tr>\n",
       "      <th>180517</th>\n",
       "      <td>PAYMENT</td>\n",
       "      <td>4</td>\n",
       "      <td>0</td>\n",
       "      <td>725.0</td>\n",
       "      <td>18.213350</td>\n",
       "      <td>-66.370575</td>\n",
       "      <td>Pacific Asia</td>\n",
       "      <td>Adelaide</td>\n",
       "      <td>Australia</td>\n",
       "      <td>1/15/2016 20:18</td>\n",
       "      <td>1</td>\n",
       "      <td>399.980011</td>\n",
       "      <td>Oceania</td>\n",
       "      <td>Australia del Sur</td>\n",
       "      <td>Field &amp; Stream Sportsman 16 Gun Fire Safe</td>\n",
       "      <td>399.980011</td>\n",
       "      <td>1/18/2016 20:18</td>\n",
       "      <td>Standard Class</td>\n",
       "    </tr>\n",
       "    <tr>\n",
       "      <th>180518</th>\n",
       "      <td>PAYMENT</td>\n",
       "      <td>4</td>\n",
       "      <td>0</td>\n",
       "      <td>725.0</td>\n",
       "      <td>18.290380</td>\n",
       "      <td>-66.370613</td>\n",
       "      <td>Pacific Asia</td>\n",
       "      <td>Nagercoil</td>\n",
       "      <td>India</td>\n",
       "      <td>1/15/2016 18:54</td>\n",
       "      <td>1</td>\n",
       "      <td>399.980011</td>\n",
       "      <td>South Asia</td>\n",
       "      <td>Tamil Nadu</td>\n",
       "      <td>Field &amp; Stream Sportsman 16 Gun Fire Safe</td>\n",
       "      <td>399.980011</td>\n",
       "      <td>1/19/2016 18:54</td>\n",
       "      <td>Standard Class</td>\n",
       "    </tr>\n",
       "  </tbody>\n",
       "</table>\n",
       "<p>180519 rows × 18 columns</p>\n",
       "</div>"
      ],
      "text/plain": [
       "            Type  Days for shipment (scheduled)  Late_delivery_risk  \\\n",
       "0          DEBIT                              4                   0   \n",
       "1       TRANSFER                              4                   1   \n",
       "2           CASH                              4                   0   \n",
       "3          DEBIT                              4                   0   \n",
       "4        PAYMENT                              4                   0   \n",
       "...          ...                            ...                 ...   \n",
       "180514      CASH                              4                   0   \n",
       "180515     DEBIT                              2                   1   \n",
       "180516  TRANSFER                              4                   1   \n",
       "180517   PAYMENT                              4                   0   \n",
       "180518   PAYMENT                              4                   0   \n",
       "\n",
       "        Customer Zipcode   Latitude   Longitude        Market  Order City  \\\n",
       "0                  725.0  18.251453  -66.037056  Pacific Asia      Bekasi   \n",
       "1                  725.0  18.279451  -66.037064  Pacific Asia     Bikaner   \n",
       "2                95125.0  37.292233 -121.881279  Pacific Asia     Bikaner   \n",
       "3                90027.0  34.125946 -118.291016  Pacific Asia  Townsville   \n",
       "4                  725.0  18.253769  -66.037048  Pacific Asia  Townsville   \n",
       "...                  ...        ...         ...           ...         ...   \n",
       "180514           11207.0  40.640930  -73.942711  Pacific Asia    Shanghái   \n",
       "180515           93304.0  35.362545 -119.018700  Pacific Asia    Hirakata   \n",
       "180516            6010.0  41.629959  -72.967155  Pacific Asia    Adelaide   \n",
       "180517             725.0  18.213350  -66.370575  Pacific Asia    Adelaide   \n",
       "180518             725.0  18.290380  -66.370613  Pacific Asia   Nagercoil   \n",
       "\n",
       "       Order Country order date (DateOrders)  Order Item Quantity       Sales  \\\n",
       "0          Indonesia         1/31/2018 22:56                    1  327.750000   \n",
       "1              India         1/13/2018 12:27                    1  327.750000   \n",
       "2              India         1/13/2018 12:06                    1  327.750000   \n",
       "3          Australia         1/13/2018 11:45                    1  327.750000   \n",
       "4          Australia         1/13/2018 11:24                    1  327.750000   \n",
       "...              ...                     ...                  ...         ...   \n",
       "180514         China          1/16/2016 3:40                    1  399.980011   \n",
       "180515         Japón          1/16/2016 1:34                    1  399.980011   \n",
       "180516     Australia         1/15/2016 21:00                    1  399.980011   \n",
       "180517     Australia         1/15/2016 20:18                    1  399.980011   \n",
       "180518         India         1/15/2016 18:54                    1  399.980011   \n",
       "\n",
       "          Order Region        Order State  \\\n",
       "0       Southeast Asia    Java Occidental   \n",
       "1           South Asia           Rajastán   \n",
       "2           South Asia           Rajastán   \n",
       "3              Oceania         Queensland   \n",
       "4              Oceania         Queensland   \n",
       "...                ...                ...   \n",
       "180514    Eastern Asia           Shanghái   \n",
       "180515    Eastern Asia              Osaka   \n",
       "180516         Oceania  Australia del Sur   \n",
       "180517         Oceania  Australia del Sur   \n",
       "180518      South Asia         Tamil Nadu   \n",
       "\n",
       "                                     Product Name  Product Price  \\\n",
       "0                                    Smart watch      327.750000   \n",
       "1                                    Smart watch      327.750000   \n",
       "2                                    Smart watch      327.750000   \n",
       "3                                    Smart watch      327.750000   \n",
       "4                                    Smart watch      327.750000   \n",
       "...                                           ...            ...   \n",
       "180514  Field & Stream Sportsman 16 Gun Fire Safe     399.980011   \n",
       "180515  Field & Stream Sportsman 16 Gun Fire Safe     399.980011   \n",
       "180516  Field & Stream Sportsman 16 Gun Fire Safe     399.980011   \n",
       "180517  Field & Stream Sportsman 16 Gun Fire Safe     399.980011   \n",
       "180518  Field & Stream Sportsman 16 Gun Fire Safe     399.980011   \n",
       "\n",
       "       shipping date (DateOrders)   Shipping Mode  \n",
       "0                  2/3/2018 22:56  Standard Class  \n",
       "1                 1/18/2018 12:27  Standard Class  \n",
       "2                 1/17/2018 12:06  Standard Class  \n",
       "3                 1/16/2018 11:45  Standard Class  \n",
       "4                 1/15/2018 11:24  Standard Class  \n",
       "...                           ...             ...  \n",
       "180514             1/20/2016 3:40  Standard Class  \n",
       "180515             1/19/2016 1:34    Second Class  \n",
       "180516            1/20/2016 21:00  Standard Class  \n",
       "180517            1/18/2016 20:18  Standard Class  \n",
       "180518            1/19/2016 18:54  Standard Class  \n",
       "\n",
       "[180519 rows x 18 columns]"
      ]
     },
     "execution_count": 11,
     "metadata": {},
     "output_type": "execute_result"
    }
   ],
   "source": [
    "selected_data = dataco_df.drop(['Delivery Status', 'Product Description','Customer Email', 'Customer Fname', 'Customer Id',\n",
    "       'Customer Lname', 'Customer Password', 'Customer Segment',  'Order Profit Per Order','Order Item Cardprod Id',\n",
    "       'Order Item Discount', 'Order Item Discount Rate', 'Order Item Id',\n",
    "       'Order Item Product Price', 'Order Item Profit Ratio','Product Card Id', 'Product Category Id',\n",
    "       'Product Description', 'Product Image', 'Benefit per order', 'Category Id', 'Order Status', 'Product Status', 'Order Item Total','Department Id', \n",
    "       'Department Name', 'Order Id', 'Order Customer Id', 'Order Zipcode','Days for shipping (real)', 'Sales per customer', 'Category Name', 'Customer City', 'Customer Country', 'Customer State',\n",
    "       'Customer Street',], axis=1)\n",
    "selected_data"
   ]
  },
  {
   "cell_type": "code",
   "execution_count": 12,
   "metadata": {},
   "outputs": [
    {
     "data": {
      "text/plain": [
       "Index(['Type', 'Days for shipment (scheduled)', 'Late_delivery_risk',\n",
       "       'Customer Zipcode', 'Latitude', 'Longitude', 'Market', 'Order City',\n",
       "       'Order Country', 'order date (DateOrders)', 'Order Item Quantity',\n",
       "       'Sales', 'Order Region', 'Order State', 'Product Name', 'Product Price',\n",
       "       'shipping date (DateOrders)', 'Shipping Mode'],\n",
       "      dtype='object')"
      ]
     },
     "execution_count": 12,
     "metadata": {},
     "output_type": "execute_result"
    }
   ],
   "source": [
    "selected_columns = selected_data.columns\n",
    "selected_columns"
   ]
  },
  {
   "cell_type": "code",
   "execution_count": 13,
   "metadata": {},
   "outputs": [],
   "source": [
    "# Convert categorical data to numeric with `pd.get_dummies`\n",
    "clean_data = pd.get_dummies(selected_data)\n",
    "clean_data"
   ]
  },
  {
   "cell_type": "code",
   "execution_count": null,
   "metadata": {},
   "outputs": [
    {
     "data": {
      "text/plain": [
       "Index(['Days for shipment (scheduled)', 'Late_delivery_risk',\n",
       "       'Customer Zipcode', 'Latitude', 'Longitude', 'Order Item Quantity',\n",
       "       'Sales', 'Product Price', 'Type_CASH', 'Type_DEBIT',\n",
       "       ...\n",
       "       'shipping date (DateOrders)_9/9/2017 6:20',\n",
       "       'shipping date (DateOrders)_9/9/2017 6:41',\n",
       "       'shipping date (DateOrders)_9/9/2017 7:02',\n",
       "       'shipping date (DateOrders)_9/9/2017 7:23',\n",
       "       'shipping date (DateOrders)_9/9/2017 8:47',\n",
       "       'shipping date (DateOrders)_9/9/2017 9:08', 'Shipping Mode_First Class',\n",
       "       'Shipping Mode_Same Day', 'Shipping Mode_Second Class',\n",
       "       'Shipping Mode_Standard Class'],\n",
       "      dtype='object', length=134462)"
      ]
     },
     "execution_count": 13,
     "metadata": {},
     "output_type": "execute_result"
    }
   ],
   "source": [
    "clean_columns = clean_data.columns\n",
    "clean_columns"
   ]
  },
  {
   "cell_type": "code",
   "execution_count": null,
   "metadata": {},
   "outputs": [],
   "source": [
    "# Separate the data into labels and features\n",
    "\n",
    "# Separate the y variable, the labels\n",
    "y = clean_data['Late_delivery_risk']\n",
    "\n",
    "# Separate the X variable, the features\n",
    "x = clean_data.drop('Late_delivery_risk', axis = 1)"
   ]
  },
  {
   "cell_type": "code",
   "execution_count": null,
   "metadata": {},
   "outputs": [
    {
     "data": {
      "text/plain": [
       "0    0\n",
       "1    1\n",
       "2    0\n",
       "3    0\n",
       "4    0\n",
       "Name: Late_delivery_risk, dtype: int64"
      ]
     },
     "execution_count": 16,
     "metadata": {},
     "output_type": "execute_result"
    }
   ],
   "source": [
    "# Review the y variable Series\n",
    "y.head()"
   ]
  },
  {
   "cell_type": "code",
   "execution_count": null,
   "metadata": {},
   "outputs": [
    {
     "name": "stdout",
     "output_type": "stream",
     "text": [
      "1    98977\n",
      "0    81542\n",
      "Name: Late_delivery_risk, dtype: int64\n"
     ]
    }
   ],
   "source": [
    "# Check the balance of our target values\n",
    "value_cnts = y.value_counts()\n",
    "print(value_cnts)"
   ]
  },
  {
   "cell_type": "code",
   "execution_count": null,
   "metadata": {},
   "outputs": [
    {
     "ename": "",
     "evalue": "",
     "output_type": "error",
     "traceback": [
      "\u001b[1;31mCanceled future for execute_request message before replies were done"
     ]
    },
    {
     "ename": "",
     "evalue": "",
     "output_type": "error",
     "traceback": [
      "\u001b[1;31mThe Kernel crashed while executing code in the the current cell or a previous cell. Please review the code in the cell(s) to identify a possible cause of the failure. Click <a href='https://aka.ms/vscodeJupyterKernelCrash'>here</a> for more info. View Jupyter <a href='command:jupyter.viewOutput'>log</a> for further details."
     ]
    }
   ],
   "source": [
    "# Split the data using train_test_split\n",
    "# Assign a random_state of 1 to the function\n",
    "x_train, x_test, y_train, y_test = train_test_split(x, \n",
    "                                                    y, \n",
    "                                                    random_state=1, \n",
    "                                                    stratify=y)"
   ]
  },
  {
   "cell_type": "code",
   "execution_count": null,
   "metadata": {},
   "outputs": [
    {
     "ename": "ValueError",
     "evalue": "could not convert string to float: 'CASH'",
     "output_type": "error",
     "traceback": [
      "\u001b[0;31m---------------------------------------------------------------------------\u001b[0m",
      "\u001b[0;31mValueError\u001b[0m                                Traceback (most recent call last)",
      "Cell \u001b[0;32mIn[139], line 6\u001b[0m\n\u001b[1;32m      3\u001b[0m classifier \u001b[39m=\u001b[39m LogisticRegression(solver\u001b[39m=\u001b[39m \u001b[39m'\u001b[39m\u001b[39mlbfgs\u001b[39m\u001b[39m'\u001b[39m, random_state \u001b[39m=\u001b[39m \u001b[39m1\u001b[39m)\n\u001b[1;32m      5\u001b[0m \u001b[39m# Fit the model using training data\u001b[39;00m\n\u001b[0;32m----> 6\u001b[0m classifier\u001b[39m.\u001b[39;49mfit(x_train, y_train)\n",
      "File \u001b[0;32m~/anaconda3/lib/python3.10/site-packages/sklearn/base.py:1152\u001b[0m, in \u001b[0;36m_fit_context.<locals>.decorator.<locals>.wrapper\u001b[0;34m(estimator, *args, **kwargs)\u001b[0m\n\u001b[1;32m   1145\u001b[0m     estimator\u001b[39m.\u001b[39m_validate_params()\n\u001b[1;32m   1147\u001b[0m \u001b[39mwith\u001b[39;00m config_context(\n\u001b[1;32m   1148\u001b[0m     skip_parameter_validation\u001b[39m=\u001b[39m(\n\u001b[1;32m   1149\u001b[0m         prefer_skip_nested_validation \u001b[39mor\u001b[39;00m global_skip_validation\n\u001b[1;32m   1150\u001b[0m     )\n\u001b[1;32m   1151\u001b[0m ):\n\u001b[0;32m-> 1152\u001b[0m     \u001b[39mreturn\u001b[39;00m fit_method(estimator, \u001b[39m*\u001b[39;49margs, \u001b[39m*\u001b[39;49m\u001b[39m*\u001b[39;49mkwargs)\n",
      "File \u001b[0;32m~/anaconda3/lib/python3.10/site-packages/sklearn/linear_model/_logistic.py:1208\u001b[0m, in \u001b[0;36mLogisticRegression.fit\u001b[0;34m(self, X, y, sample_weight)\u001b[0m\n\u001b[1;32m   1205\u001b[0m \u001b[39melse\u001b[39;00m:\n\u001b[1;32m   1206\u001b[0m     _dtype \u001b[39m=\u001b[39m [np\u001b[39m.\u001b[39mfloat64, np\u001b[39m.\u001b[39mfloat32]\n\u001b[0;32m-> 1208\u001b[0m X, y \u001b[39m=\u001b[39m \u001b[39mself\u001b[39;49m\u001b[39m.\u001b[39;49m_validate_data(\n\u001b[1;32m   1209\u001b[0m     X,\n\u001b[1;32m   1210\u001b[0m     y,\n\u001b[1;32m   1211\u001b[0m     accept_sparse\u001b[39m=\u001b[39;49m\u001b[39m\"\u001b[39;49m\u001b[39mcsr\u001b[39;49m\u001b[39m\"\u001b[39;49m,\n\u001b[1;32m   1212\u001b[0m     dtype\u001b[39m=\u001b[39;49m_dtype,\n\u001b[1;32m   1213\u001b[0m     order\u001b[39m=\u001b[39;49m\u001b[39m\"\u001b[39;49m\u001b[39mC\u001b[39;49m\u001b[39m\"\u001b[39;49m,\n\u001b[1;32m   1214\u001b[0m     accept_large_sparse\u001b[39m=\u001b[39;49msolver \u001b[39mnot\u001b[39;49;00m \u001b[39min\u001b[39;49;00m [\u001b[39m\"\u001b[39;49m\u001b[39mliblinear\u001b[39;49m\u001b[39m\"\u001b[39;49m, \u001b[39m\"\u001b[39;49m\u001b[39msag\u001b[39;49m\u001b[39m\"\u001b[39;49m, \u001b[39m\"\u001b[39;49m\u001b[39msaga\u001b[39;49m\u001b[39m\"\u001b[39;49m],\n\u001b[1;32m   1215\u001b[0m )\n\u001b[1;32m   1216\u001b[0m check_classification_targets(y)\n\u001b[1;32m   1217\u001b[0m \u001b[39mself\u001b[39m\u001b[39m.\u001b[39mclasses_ \u001b[39m=\u001b[39m np\u001b[39m.\u001b[39munique(y)\n",
      "File \u001b[0;32m~/anaconda3/lib/python3.10/site-packages/sklearn/base.py:622\u001b[0m, in \u001b[0;36mBaseEstimator._validate_data\u001b[0;34m(self, X, y, reset, validate_separately, cast_to_ndarray, **check_params)\u001b[0m\n\u001b[1;32m    620\u001b[0m         y \u001b[39m=\u001b[39m check_array(y, input_name\u001b[39m=\u001b[39m\u001b[39m\"\u001b[39m\u001b[39my\u001b[39m\u001b[39m\"\u001b[39m, \u001b[39m*\u001b[39m\u001b[39m*\u001b[39mcheck_y_params)\n\u001b[1;32m    621\u001b[0m     \u001b[39melse\u001b[39;00m:\n\u001b[0;32m--> 622\u001b[0m         X, y \u001b[39m=\u001b[39m check_X_y(X, y, \u001b[39m*\u001b[39;49m\u001b[39m*\u001b[39;49mcheck_params)\n\u001b[1;32m    623\u001b[0m     out \u001b[39m=\u001b[39m X, y\n\u001b[1;32m    625\u001b[0m \u001b[39mif\u001b[39;00m \u001b[39mnot\u001b[39;00m no_val_X \u001b[39mand\u001b[39;00m check_params\u001b[39m.\u001b[39mget(\u001b[39m\"\u001b[39m\u001b[39mensure_2d\u001b[39m\u001b[39m\"\u001b[39m, \u001b[39mTrue\u001b[39;00m):\n",
      "File \u001b[0;32m~/anaconda3/lib/python3.10/site-packages/sklearn/utils/validation.py:1146\u001b[0m, in \u001b[0;36mcheck_X_y\u001b[0;34m(X, y, accept_sparse, accept_large_sparse, dtype, order, copy, force_all_finite, ensure_2d, allow_nd, multi_output, ensure_min_samples, ensure_min_features, y_numeric, estimator)\u001b[0m\n\u001b[1;32m   1141\u001b[0m         estimator_name \u001b[39m=\u001b[39m _check_estimator_name(estimator)\n\u001b[1;32m   1142\u001b[0m     \u001b[39mraise\u001b[39;00m \u001b[39mValueError\u001b[39;00m(\n\u001b[1;32m   1143\u001b[0m         \u001b[39mf\u001b[39m\u001b[39m\"\u001b[39m\u001b[39m{\u001b[39;00mestimator_name\u001b[39m}\u001b[39;00m\u001b[39m requires y to be passed, but the target y is None\u001b[39m\u001b[39m\"\u001b[39m\n\u001b[1;32m   1144\u001b[0m     )\n\u001b[0;32m-> 1146\u001b[0m X \u001b[39m=\u001b[39m check_array(\n\u001b[1;32m   1147\u001b[0m     X,\n\u001b[1;32m   1148\u001b[0m     accept_sparse\u001b[39m=\u001b[39;49maccept_sparse,\n\u001b[1;32m   1149\u001b[0m     accept_large_sparse\u001b[39m=\u001b[39;49maccept_large_sparse,\n\u001b[1;32m   1150\u001b[0m     dtype\u001b[39m=\u001b[39;49mdtype,\n\u001b[1;32m   1151\u001b[0m     order\u001b[39m=\u001b[39;49morder,\n\u001b[1;32m   1152\u001b[0m     copy\u001b[39m=\u001b[39;49mcopy,\n\u001b[1;32m   1153\u001b[0m     force_all_finite\u001b[39m=\u001b[39;49mforce_all_finite,\n\u001b[1;32m   1154\u001b[0m     ensure_2d\u001b[39m=\u001b[39;49mensure_2d,\n\u001b[1;32m   1155\u001b[0m     allow_nd\u001b[39m=\u001b[39;49mallow_nd,\n\u001b[1;32m   1156\u001b[0m     ensure_min_samples\u001b[39m=\u001b[39;49mensure_min_samples,\n\u001b[1;32m   1157\u001b[0m     ensure_min_features\u001b[39m=\u001b[39;49mensure_min_features,\n\u001b[1;32m   1158\u001b[0m     estimator\u001b[39m=\u001b[39;49mestimator,\n\u001b[1;32m   1159\u001b[0m     input_name\u001b[39m=\u001b[39;49m\u001b[39m\"\u001b[39;49m\u001b[39mX\u001b[39;49m\u001b[39m\"\u001b[39;49m,\n\u001b[1;32m   1160\u001b[0m )\n\u001b[1;32m   1162\u001b[0m y \u001b[39m=\u001b[39m _check_y(y, multi_output\u001b[39m=\u001b[39mmulti_output, y_numeric\u001b[39m=\u001b[39my_numeric, estimator\u001b[39m=\u001b[39mestimator)\n\u001b[1;32m   1164\u001b[0m check_consistent_length(X, y)\n",
      "File \u001b[0;32m~/anaconda3/lib/python3.10/site-packages/sklearn/utils/validation.py:915\u001b[0m, in \u001b[0;36mcheck_array\u001b[0;34m(array, accept_sparse, accept_large_sparse, dtype, order, copy, force_all_finite, ensure_2d, allow_nd, ensure_min_samples, ensure_min_features, estimator, input_name)\u001b[0m\n\u001b[1;32m    913\u001b[0m         array \u001b[39m=\u001b[39m xp\u001b[39m.\u001b[39mastype(array, dtype, copy\u001b[39m=\u001b[39m\u001b[39mFalse\u001b[39;00m)\n\u001b[1;32m    914\u001b[0m     \u001b[39melse\u001b[39;00m:\n\u001b[0;32m--> 915\u001b[0m         array \u001b[39m=\u001b[39m _asarray_with_order(array, order\u001b[39m=\u001b[39;49morder, dtype\u001b[39m=\u001b[39;49mdtype, xp\u001b[39m=\u001b[39;49mxp)\n\u001b[1;32m    916\u001b[0m \u001b[39mexcept\u001b[39;00m ComplexWarning \u001b[39mas\u001b[39;00m complex_warning:\n\u001b[1;32m    917\u001b[0m     \u001b[39mraise\u001b[39;00m \u001b[39mValueError\u001b[39;00m(\n\u001b[1;32m    918\u001b[0m         \u001b[39m\"\u001b[39m\u001b[39mComplex data not supported\u001b[39m\u001b[39m\\n\u001b[39;00m\u001b[39m{}\u001b[39;00m\u001b[39m\\n\u001b[39;00m\u001b[39m\"\u001b[39m\u001b[39m.\u001b[39mformat(array)\n\u001b[1;32m    919\u001b[0m     ) \u001b[39mfrom\u001b[39;00m \u001b[39mcomplex_warning\u001b[39;00m\n",
      "File \u001b[0;32m~/anaconda3/lib/python3.10/site-packages/sklearn/utils/_array_api.py:380\u001b[0m, in \u001b[0;36m_asarray_with_order\u001b[0;34m(array, dtype, order, copy, xp)\u001b[0m\n\u001b[1;32m    378\u001b[0m     array \u001b[39m=\u001b[39m numpy\u001b[39m.\u001b[39marray(array, order\u001b[39m=\u001b[39morder, dtype\u001b[39m=\u001b[39mdtype)\n\u001b[1;32m    379\u001b[0m \u001b[39melse\u001b[39;00m:\n\u001b[0;32m--> 380\u001b[0m     array \u001b[39m=\u001b[39m numpy\u001b[39m.\u001b[39;49masarray(array, order\u001b[39m=\u001b[39;49morder, dtype\u001b[39m=\u001b[39;49mdtype)\n\u001b[1;32m    382\u001b[0m \u001b[39m# At this point array is a NumPy ndarray. We convert it to an array\u001b[39;00m\n\u001b[1;32m    383\u001b[0m \u001b[39m# container that is consistent with the input's namespace.\u001b[39;00m\n\u001b[1;32m    384\u001b[0m \u001b[39mreturn\u001b[39;00m xp\u001b[39m.\u001b[39masarray(array)\n",
      "File \u001b[0;32m~/anaconda3/lib/python3.10/site-packages/pandas/core/generic.py:2070\u001b[0m, in \u001b[0;36mNDFrame.__array__\u001b[0;34m(self, dtype)\u001b[0m\n\u001b[1;32m   2069\u001b[0m \u001b[39mdef\u001b[39;00m \u001b[39m__array__\u001b[39m(\u001b[39mself\u001b[39m, dtype: npt\u001b[39m.\u001b[39mDTypeLike \u001b[39m|\u001b[39m \u001b[39mNone\u001b[39;00m \u001b[39m=\u001b[39m \u001b[39mNone\u001b[39;00m) \u001b[39m-\u001b[39m\u001b[39m>\u001b[39m np\u001b[39m.\u001b[39mndarray:\n\u001b[0;32m-> 2070\u001b[0m     \u001b[39mreturn\u001b[39;00m np\u001b[39m.\u001b[39;49masarray(\u001b[39mself\u001b[39;49m\u001b[39m.\u001b[39;49m_values, dtype\u001b[39m=\u001b[39;49mdtype)\n",
      "\u001b[0;31mValueError\u001b[0m: could not convert string to float: 'CASH'"
     ]
    }
   ],
   "source": [
    "# Instantiate the Logistic Regression model\n",
    "# Assign a random_state parameter of 1 to the model\n",
    "classifier = LogisticRegression(solver= 'lbfgs', random_state = 1)\n",
    "\n",
    "# Fit the model using training data\n",
    "classifier.fit(x_train, y_train)"
   ]
  },
  {
   "cell_type": "code",
   "execution_count": null,
   "metadata": {},
   "outputs": [],
   "source": [
    "# Make a prediction using the testing data\n",
    "predictions = classifier.predict(x_test)"
   ]
  },
  {
   "cell_type": "code",
   "execution_count": null,
   "metadata": {},
   "outputs": [
    {
     "name": "stdout",
     "output_type": "stream",
     "text": [
      "1.0\n"
     ]
    }
   ],
   "source": [
    "# Print the balanced_accuracy score of the model\n",
    "balanced_accuracy_score = balanced_accuracy_score(y_test, predictions)\n",
    "print(balanced_accuracy_score)"
   ]
  },
  {
   "cell_type": "code",
   "execution_count": null,
   "metadata": {},
   "outputs": [
    {
     "data": {
      "text/plain": [
       "array([[20386,     0],\n",
       "       [    0, 24744]])"
      ]
     },
     "execution_count": 104,
     "metadata": {},
     "output_type": "execute_result"
    }
   ],
   "source": [
    "# Generate a confusion matrix for the model\n",
    "confusion_matrix(y_test, predictions)"
   ]
  },
  {
   "cell_type": "code",
   "execution_count": null,
   "metadata": {},
   "outputs": [
    {
     "name": "stdout",
     "output_type": "stream",
     "text": [
      "                       precision    recall  f1-score   support\n",
      "\n",
      "no late delivery risk       1.00      1.00      1.00     20386\n",
      "   late delivery risk       1.00      1.00      1.00     24744\n",
      "\n",
      "             accuracy                           1.00     45130\n",
      "            macro avg       1.00      1.00      1.00     45130\n",
      "         weighted avg       1.00      1.00      1.00     45130\n",
      "\n"
     ]
    }
   ],
   "source": [
    "# Print the classification report for the model\n",
    "target_names = [\"no late delivery risk\", \"late delivery risk\"]\n",
    "print(classification_report(y_test, predictions, target_names=target_names))"
   ]
  }
 ],
 "metadata": {
  "kernelspec": {
   "display_name": "base",
   "language": "python",
   "name": "python3"
  },
  "language_info": {
   "codemirror_mode": {
    "name": "ipython",
    "version": 3
   },
   "file_extension": ".py",
   "mimetype": "text/x-python",
   "name": "python",
   "nbconvert_exporter": "python",
   "pygments_lexer": "ipython3",
   "version": "3.10.9"
  },
  "orig_nbformat": 4
 },
 "nbformat": 4,
 "nbformat_minor": 2
}
