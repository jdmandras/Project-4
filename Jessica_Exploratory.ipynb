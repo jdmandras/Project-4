{
 "cells": [
  {
   "cell_type": "code",
   "execution_count": 6,
   "metadata": {},
   "outputs": [],
   "source": [
    "import numpy as np # linear algebra\n",
    "import pandas as pd # data processing, CSV file I/O (e.g. pd.read_csv)\n",
    "import seaborn as sns; sns.set(style=\"ticks\", color_codes=True)\n",
    "import matplotlib.pyplot as plt\n",
    "import plotly.graph_objs as go\n",
    "from plotly.subplots import make_subplots\n",
    "import seaborn as sns\n",
    "import plotly.express as px\n",
    "%matplotlib inline"
   ]
  },
  {
   "cell_type": "code",
   "execution_count": 5,
   "metadata": {},
   "outputs": [
    {
     "name": "stdout",
     "output_type": "stream",
     "text": [
      "\u001b[31mERROR: Could not find a version that satisfies the requirement codecs (from versions: none)\u001b[0m\u001b[31m\n",
      "\u001b[0m\u001b[31mERROR: No matching distribution found for codecs\u001b[0m\u001b[31m\n",
      "\u001b[0mNote: you may need to restart the kernel to use updated packages.\n"
     ]
    }
   ],
   "source": [
    "#pip install codecs"
   ]
  },
  {
   "cell_type": "code",
   "execution_count": 8,
   "metadata": {},
   "outputs": [
    {
     "data": {
      "text/html": [
       "<div>\n",
       "<style scoped>\n",
       "    .dataframe tbody tr th:only-of-type {\n",
       "        vertical-align: middle;\n",
       "    }\n",
       "\n",
       "    .dataframe tbody tr th {\n",
       "        vertical-align: top;\n",
       "    }\n",
       "\n",
       "    .dataframe thead th {\n",
       "        text-align: right;\n",
       "    }\n",
       "</style>\n",
       "<table border=\"1\" class=\"dataframe\">\n",
       "  <thead>\n",
       "    <tr style=\"text-align: right;\">\n",
       "      <th></th>\n",
       "      <th>Type</th>\n",
       "      <th>Days for shipping (real)</th>\n",
       "      <th>Days for shipment (scheduled)</th>\n",
       "      <th>Benefit per order</th>\n",
       "      <th>Sales per customer</th>\n",
       "      <th>Delivery Status</th>\n",
       "      <th>Late_delivery_risk</th>\n",
       "      <th>Category Id</th>\n",
       "      <th>Category Name</th>\n",
       "      <th>Customer City</th>\n",
       "      <th>...</th>\n",
       "      <th>Order Zipcode</th>\n",
       "      <th>Product Card Id</th>\n",
       "      <th>Product Category Id</th>\n",
       "      <th>Product Description</th>\n",
       "      <th>Product Image</th>\n",
       "      <th>Product Name</th>\n",
       "      <th>Product Price</th>\n",
       "      <th>Product Status</th>\n",
       "      <th>shipping date (DateOrders)</th>\n",
       "      <th>Shipping Mode</th>\n",
       "    </tr>\n",
       "  </thead>\n",
       "  <tbody>\n",
       "    <tr>\n",
       "      <th>0</th>\n",
       "      <td>DEBIT</td>\n",
       "      <td>3</td>\n",
       "      <td>4</td>\n",
       "      <td>91.250000</td>\n",
       "      <td>314.640015</td>\n",
       "      <td>Advance shipping</td>\n",
       "      <td>0</td>\n",
       "      <td>73</td>\n",
       "      <td>Sporting Goods</td>\n",
       "      <td>Caguas</td>\n",
       "      <td>...</td>\n",
       "      <td>NaN</td>\n",
       "      <td>1360</td>\n",
       "      <td>73</td>\n",
       "      <td>NaN</td>\n",
       "      <td>http://images.acmesports.sports/Smart+watch</td>\n",
       "      <td>Smart watch</td>\n",
       "      <td>327.75</td>\n",
       "      <td>0</td>\n",
       "      <td>2/3/2018 22:56</td>\n",
       "      <td>Standard Class</td>\n",
       "    </tr>\n",
       "    <tr>\n",
       "      <th>1</th>\n",
       "      <td>TRANSFER</td>\n",
       "      <td>5</td>\n",
       "      <td>4</td>\n",
       "      <td>-249.089996</td>\n",
       "      <td>311.359985</td>\n",
       "      <td>Late delivery</td>\n",
       "      <td>1</td>\n",
       "      <td>73</td>\n",
       "      <td>Sporting Goods</td>\n",
       "      <td>Caguas</td>\n",
       "      <td>...</td>\n",
       "      <td>NaN</td>\n",
       "      <td>1360</td>\n",
       "      <td>73</td>\n",
       "      <td>NaN</td>\n",
       "      <td>http://images.acmesports.sports/Smart+watch</td>\n",
       "      <td>Smart watch</td>\n",
       "      <td>327.75</td>\n",
       "      <td>0</td>\n",
       "      <td>1/18/2018 12:27</td>\n",
       "      <td>Standard Class</td>\n",
       "    </tr>\n",
       "    <tr>\n",
       "      <th>2</th>\n",
       "      <td>CASH</td>\n",
       "      <td>4</td>\n",
       "      <td>4</td>\n",
       "      <td>-247.779999</td>\n",
       "      <td>309.720001</td>\n",
       "      <td>Shipping on time</td>\n",
       "      <td>0</td>\n",
       "      <td>73</td>\n",
       "      <td>Sporting Goods</td>\n",
       "      <td>San Jose</td>\n",
       "      <td>...</td>\n",
       "      <td>NaN</td>\n",
       "      <td>1360</td>\n",
       "      <td>73</td>\n",
       "      <td>NaN</td>\n",
       "      <td>http://images.acmesports.sports/Smart+watch</td>\n",
       "      <td>Smart watch</td>\n",
       "      <td>327.75</td>\n",
       "      <td>0</td>\n",
       "      <td>1/17/2018 12:06</td>\n",
       "      <td>Standard Class</td>\n",
       "    </tr>\n",
       "    <tr>\n",
       "      <th>3</th>\n",
       "      <td>DEBIT</td>\n",
       "      <td>3</td>\n",
       "      <td>4</td>\n",
       "      <td>22.860001</td>\n",
       "      <td>304.809998</td>\n",
       "      <td>Advance shipping</td>\n",
       "      <td>0</td>\n",
       "      <td>73</td>\n",
       "      <td>Sporting Goods</td>\n",
       "      <td>Los Angeles</td>\n",
       "      <td>...</td>\n",
       "      <td>NaN</td>\n",
       "      <td>1360</td>\n",
       "      <td>73</td>\n",
       "      <td>NaN</td>\n",
       "      <td>http://images.acmesports.sports/Smart+watch</td>\n",
       "      <td>Smart watch</td>\n",
       "      <td>327.75</td>\n",
       "      <td>0</td>\n",
       "      <td>1/16/2018 11:45</td>\n",
       "      <td>Standard Class</td>\n",
       "    </tr>\n",
       "    <tr>\n",
       "      <th>4</th>\n",
       "      <td>PAYMENT</td>\n",
       "      <td>2</td>\n",
       "      <td>4</td>\n",
       "      <td>134.210007</td>\n",
       "      <td>298.250000</td>\n",
       "      <td>Advance shipping</td>\n",
       "      <td>0</td>\n",
       "      <td>73</td>\n",
       "      <td>Sporting Goods</td>\n",
       "      <td>Caguas</td>\n",
       "      <td>...</td>\n",
       "      <td>NaN</td>\n",
       "      <td>1360</td>\n",
       "      <td>73</td>\n",
       "      <td>NaN</td>\n",
       "      <td>http://images.acmesports.sports/Smart+watch</td>\n",
       "      <td>Smart watch</td>\n",
       "      <td>327.75</td>\n",
       "      <td>0</td>\n",
       "      <td>1/15/2018 11:24</td>\n",
       "      <td>Standard Class</td>\n",
       "    </tr>\n",
       "  </tbody>\n",
       "</table>\n",
       "<p>5 rows × 53 columns</p>\n",
       "</div>"
      ],
      "text/plain": [
       "       Type  Days for shipping (real)  Days for shipment (scheduled)  \\\n",
       "0     DEBIT                         3                              4   \n",
       "1  TRANSFER                         5                              4   \n",
       "2      CASH                         4                              4   \n",
       "3     DEBIT                         3                              4   \n",
       "4   PAYMENT                         2                              4   \n",
       "\n",
       "   Benefit per order  Sales per customer   Delivery Status  \\\n",
       "0          91.250000          314.640015  Advance shipping   \n",
       "1        -249.089996          311.359985     Late delivery   \n",
       "2        -247.779999          309.720001  Shipping on time   \n",
       "3          22.860001          304.809998  Advance shipping   \n",
       "4         134.210007          298.250000  Advance shipping   \n",
       "\n",
       "   Late_delivery_risk  Category Id   Category Name Customer City  ...  \\\n",
       "0                   0           73  Sporting Goods        Caguas  ...   \n",
       "1                   1           73  Sporting Goods        Caguas  ...   \n",
       "2                   0           73  Sporting Goods      San Jose  ...   \n",
       "3                   0           73  Sporting Goods   Los Angeles  ...   \n",
       "4                   0           73  Sporting Goods        Caguas  ...   \n",
       "\n",
       "  Order Zipcode Product Card Id Product Category Id  Product Description  \\\n",
       "0           NaN            1360                  73                  NaN   \n",
       "1           NaN            1360                  73                  NaN   \n",
       "2           NaN            1360                  73                  NaN   \n",
       "3           NaN            1360                  73                  NaN   \n",
       "4           NaN            1360                  73                  NaN   \n",
       "\n",
       "                                  Product Image  Product Name Product Price  \\\n",
       "0  http://images.acmesports.sports/Smart+watch   Smart watch         327.75   \n",
       "1  http://images.acmesports.sports/Smart+watch   Smart watch         327.75   \n",
       "2  http://images.acmesports.sports/Smart+watch   Smart watch         327.75   \n",
       "3  http://images.acmesports.sports/Smart+watch   Smart watch         327.75   \n",
       "4  http://images.acmesports.sports/Smart+watch   Smart watch         327.75   \n",
       "\n",
       "  Product Status shipping date (DateOrders)   Shipping Mode  \n",
       "0              0             2/3/2018 22:56  Standard Class  \n",
       "1              0            1/18/2018 12:27  Standard Class  \n",
       "2              0            1/17/2018 12:06  Standard Class  \n",
       "3              0            1/16/2018 11:45  Standard Class  \n",
       "4              0            1/15/2018 11:24  Standard Class  \n",
       "\n",
       "[5 rows x 53 columns]"
      ]
     },
     "execution_count": 8,
     "metadata": {},
     "output_type": "execute_result"
    }
   ],
   "source": [
    "import codecs\n",
    "with codecs.open(\"../Project-4/Resources/DataCoSupplyChainDataset_Original.csv\", 'r', encoding='ISO-8859-1') as f:\n",
    "    DataCO_df = pd.read_csv(f)\n",
    "\n",
    "\n",
    "DataCO_df.head()"
   ]
  },
  {
   "cell_type": "code",
   "execution_count": 9,
   "metadata": {},
   "outputs": [
    {
     "data": {
      "text/plain": [
       "Index(['Type', 'Days for shipping (real)', 'Days for shipment (scheduled)',\n",
       "       'Benefit per order', 'Sales per customer', 'Delivery Status',\n",
       "       'Late_delivery_risk', 'Category Id', 'Category Name', 'Customer City',\n",
       "       'Customer Country', 'Customer Email', 'Customer Fname', 'Customer Id',\n",
       "       'Customer Lname', 'Customer Password', 'Customer Segment',\n",
       "       'Customer State', 'Customer Street', 'Customer Zipcode',\n",
       "       'Department Id', 'Department Name', 'Latitude', 'Longitude', 'Market',\n",
       "       'Order City', 'Order Country', 'Order Customer Id',\n",
       "       'order date (DateOrders)', 'Order Id', 'Order Item Cardprod Id',\n",
       "       'Order Item Discount', 'Order Item Discount Rate', 'Order Item Id',\n",
       "       'Order Item Product Price', 'Order Item Profit Ratio',\n",
       "       'Order Item Quantity', 'Sales', 'Order Item Total',\n",
       "       'Order Profit Per Order', 'Order Region', 'Order State', 'Order Status',\n",
       "       'Order Zipcode', 'Product Card Id', 'Product Category Id',\n",
       "       'Product Description', 'Product Image', 'Product Name', 'Product Price',\n",
       "       'Product Status', 'shipping date (DateOrders)', 'Shipping Mode'],\n",
       "      dtype='object')"
      ]
     },
     "execution_count": 9,
     "metadata": {},
     "output_type": "execute_result"
    }
   ],
   "source": [
    "DataCO_df.columns"
   ]
  },
  {
   "cell_type": "code",
   "execution_count": 71,
   "metadata": {},
   "outputs": [
    {
     "data": {
      "text/html": [
       "<div>\n",
       "<style scoped>\n",
       "    .dataframe tbody tr th:only-of-type {\n",
       "        vertical-align: middle;\n",
       "    }\n",
       "\n",
       "    .dataframe tbody tr th {\n",
       "        vertical-align: top;\n",
       "    }\n",
       "\n",
       "    .dataframe thead th {\n",
       "        text-align: right;\n",
       "    }\n",
       "</style>\n",
       "<table border=\"1\" class=\"dataframe\">\n",
       "  <thead>\n",
       "    <tr style=\"text-align: right;\">\n",
       "      <th></th>\n",
       "      <th>Type</th>\n",
       "      <th>Days for shipping (real)</th>\n",
       "      <th>Days for shipment (scheduled)</th>\n",
       "      <th>Benefit per order</th>\n",
       "      <th>Sales per customer</th>\n",
       "      <th>Delivery Status</th>\n",
       "      <th>Late_delivery_risk</th>\n",
       "      <th>Category Id</th>\n",
       "      <th>Category Name</th>\n",
       "      <th>Customer City</th>\n",
       "      <th>...</th>\n",
       "      <th>Order Profit Per Order</th>\n",
       "      <th>Order Region</th>\n",
       "      <th>Order State</th>\n",
       "      <th>Order Status</th>\n",
       "      <th>Product Card Id</th>\n",
       "      <th>Product Category Id</th>\n",
       "      <th>Product Name</th>\n",
       "      <th>Product Price</th>\n",
       "      <th>shipping date (DateOrders)</th>\n",
       "      <th>Shipping Mode</th>\n",
       "    </tr>\n",
       "  </thead>\n",
       "  <tbody>\n",
       "    <tr>\n",
       "      <th>0</th>\n",
       "      <td>DEBIT</td>\n",
       "      <td>3</td>\n",
       "      <td>4</td>\n",
       "      <td>91.250000</td>\n",
       "      <td>314.640015</td>\n",
       "      <td>Advance shipping</td>\n",
       "      <td>0</td>\n",
       "      <td>73</td>\n",
       "      <td>Sporting Goods</td>\n",
       "      <td>Caguas</td>\n",
       "      <td>...</td>\n",
       "      <td>91.250000</td>\n",
       "      <td>Southeast Asia</td>\n",
       "      <td>Java Occidental</td>\n",
       "      <td>COMPLETE</td>\n",
       "      <td>1360</td>\n",
       "      <td>73</td>\n",
       "      <td>Smart watch</td>\n",
       "      <td>327.75</td>\n",
       "      <td>2/3/2018 22:56</td>\n",
       "      <td>Standard Class</td>\n",
       "    </tr>\n",
       "    <tr>\n",
       "      <th>1</th>\n",
       "      <td>TRANSFER</td>\n",
       "      <td>5</td>\n",
       "      <td>4</td>\n",
       "      <td>-249.089996</td>\n",
       "      <td>311.359985</td>\n",
       "      <td>Late delivery</td>\n",
       "      <td>1</td>\n",
       "      <td>73</td>\n",
       "      <td>Sporting Goods</td>\n",
       "      <td>Caguas</td>\n",
       "      <td>...</td>\n",
       "      <td>-249.089996</td>\n",
       "      <td>South Asia</td>\n",
       "      <td>Rajastán</td>\n",
       "      <td>PENDING</td>\n",
       "      <td>1360</td>\n",
       "      <td>73</td>\n",
       "      <td>Smart watch</td>\n",
       "      <td>327.75</td>\n",
       "      <td>1/18/2018 12:27</td>\n",
       "      <td>Standard Class</td>\n",
       "    </tr>\n",
       "    <tr>\n",
       "      <th>2</th>\n",
       "      <td>CASH</td>\n",
       "      <td>4</td>\n",
       "      <td>4</td>\n",
       "      <td>-247.779999</td>\n",
       "      <td>309.720001</td>\n",
       "      <td>Shipping on time</td>\n",
       "      <td>0</td>\n",
       "      <td>73</td>\n",
       "      <td>Sporting Goods</td>\n",
       "      <td>San Jose</td>\n",
       "      <td>...</td>\n",
       "      <td>-247.779999</td>\n",
       "      <td>South Asia</td>\n",
       "      <td>Rajastán</td>\n",
       "      <td>CLOSED</td>\n",
       "      <td>1360</td>\n",
       "      <td>73</td>\n",
       "      <td>Smart watch</td>\n",
       "      <td>327.75</td>\n",
       "      <td>1/17/2018 12:06</td>\n",
       "      <td>Standard Class</td>\n",
       "    </tr>\n",
       "    <tr>\n",
       "      <th>3</th>\n",
       "      <td>DEBIT</td>\n",
       "      <td>3</td>\n",
       "      <td>4</td>\n",
       "      <td>22.860001</td>\n",
       "      <td>304.809998</td>\n",
       "      <td>Advance shipping</td>\n",
       "      <td>0</td>\n",
       "      <td>73</td>\n",
       "      <td>Sporting Goods</td>\n",
       "      <td>Los Angeles</td>\n",
       "      <td>...</td>\n",
       "      <td>22.860001</td>\n",
       "      <td>Oceania</td>\n",
       "      <td>Queensland</td>\n",
       "      <td>COMPLETE</td>\n",
       "      <td>1360</td>\n",
       "      <td>73</td>\n",
       "      <td>Smart watch</td>\n",
       "      <td>327.75</td>\n",
       "      <td>1/16/2018 11:45</td>\n",
       "      <td>Standard Class</td>\n",
       "    </tr>\n",
       "    <tr>\n",
       "      <th>4</th>\n",
       "      <td>PAYMENT</td>\n",
       "      <td>2</td>\n",
       "      <td>4</td>\n",
       "      <td>134.210007</td>\n",
       "      <td>298.250000</td>\n",
       "      <td>Advance shipping</td>\n",
       "      <td>0</td>\n",
       "      <td>73</td>\n",
       "      <td>Sporting Goods</td>\n",
       "      <td>Caguas</td>\n",
       "      <td>...</td>\n",
       "      <td>134.210007</td>\n",
       "      <td>Oceania</td>\n",
       "      <td>Queensland</td>\n",
       "      <td>PENDING_PAYMENT</td>\n",
       "      <td>1360</td>\n",
       "      <td>73</td>\n",
       "      <td>Smart watch</td>\n",
       "      <td>327.75</td>\n",
       "      <td>1/15/2018 11:24</td>\n",
       "      <td>Standard Class</td>\n",
       "    </tr>\n",
       "  </tbody>\n",
       "</table>\n",
       "<p>5 rows × 44 columns</p>\n",
       "</div>"
      ],
      "text/plain": [
       "       Type  Days for shipping (real)  Days for shipment (scheduled)  \\\n",
       "0     DEBIT                         3                              4   \n",
       "1  TRANSFER                         5                              4   \n",
       "2      CASH                         4                              4   \n",
       "3     DEBIT                         3                              4   \n",
       "4   PAYMENT                         2                              4   \n",
       "\n",
       "   Benefit per order  Sales per customer   Delivery Status  \\\n",
       "0          91.250000          314.640015  Advance shipping   \n",
       "1        -249.089996          311.359985     Late delivery   \n",
       "2        -247.779999          309.720001  Shipping on time   \n",
       "3          22.860001          304.809998  Advance shipping   \n",
       "4         134.210007          298.250000  Advance shipping   \n",
       "\n",
       "   Late_delivery_risk  Category Id   Category Name Customer City  ...  \\\n",
       "0                   0           73  Sporting Goods        Caguas  ...   \n",
       "1                   1           73  Sporting Goods        Caguas  ...   \n",
       "2                   0           73  Sporting Goods      San Jose  ...   \n",
       "3                   0           73  Sporting Goods   Los Angeles  ...   \n",
       "4                   0           73  Sporting Goods        Caguas  ...   \n",
       "\n",
       "  Order Profit Per Order    Order Region      Order State     Order Status  \\\n",
       "0              91.250000  Southeast Asia  Java Occidental         COMPLETE   \n",
       "1            -249.089996      South Asia         Rajastán          PENDING   \n",
       "2            -247.779999      South Asia         Rajastán           CLOSED   \n",
       "3              22.860001         Oceania       Queensland         COMPLETE   \n",
       "4             134.210007         Oceania       Queensland  PENDING_PAYMENT   \n",
       "\n",
       "   Product Card Id  Product Category Id  Product Name  Product Price  \\\n",
       "0             1360                   73  Smart watch          327.75   \n",
       "1             1360                   73  Smart watch          327.75   \n",
       "2             1360                   73  Smart watch          327.75   \n",
       "3             1360                   73  Smart watch          327.75   \n",
       "4             1360                   73  Smart watch          327.75   \n",
       "\n",
       "   shipping date (DateOrders)   Shipping Mode  \n",
       "0              2/3/2018 22:56  Standard Class  \n",
       "1             1/18/2018 12:27  Standard Class  \n",
       "2             1/17/2018 12:06  Standard Class  \n",
       "3             1/16/2018 11:45  Standard Class  \n",
       "4             1/15/2018 11:24  Standard Class  \n",
       "\n",
       "[5 rows x 44 columns]"
      ]
     },
     "execution_count": 71,
     "metadata": {},
     "output_type": "execute_result"
    }
   ],
   "source": [
    "#drop non-beneficial columns\n",
    "\n",
    "co_data = DataCO_df.copy()\n",
    "FeatureList = ['Type', 'Days for shipping (real)', 'Days for shipment (scheduled)',\n",
    "       'Benefit per order', 'Sales per customer', 'Delivery Status',\n",
    "       'Late_delivery_risk', 'Category Id', 'Category Name', 'Customer City',\n",
    "       'Customer Country', 'Customer Id', 'Customer Segment',\n",
    "       'Customer State', 'Customer Zipcode',\n",
    "       'Department Id', 'Department Name', 'Latitude', 'Longitude', 'Market',\n",
    "       'Order City', 'Order Country', 'Order Customer Id',\n",
    "       'order date (DateOrders)', 'Order Id', 'Order Item Cardprod Id',\n",
    "       'Order Item Discount', 'Order Item Discount Rate', 'Order Item Id',\n",
    "       'Order Item Product Price', 'Order Item Profit Ratio',\n",
    "       'Order Item Quantity', 'Sales', 'Order Item Total',\n",
    "       'Order Profit Per Order', 'Order Region', 'Order State', 'Order Status',\n",
    "       'Product Card Id', 'Product Category Id', 'Product Name', 'Product Price',\n",
    "       'shipping date (DateOrders)', 'Shipping Mode']\n",
    "df_a = DataCO_df[FeatureList]\n",
    "df_a.head()"
   ]
  },
  {
   "cell_type": "code",
   "execution_count": 12,
   "metadata": {},
   "outputs": [
    {
     "data": {
      "text/plain": [
       "Type                                  4\n",
       "Days for shipping (real)              7\n",
       "Days for shipment (scheduled)         4\n",
       "Benefit per order                 21998\n",
       "Sales per customer                 2927\n",
       "Delivery Status                       4\n",
       "Late_delivery_risk                    2\n",
       "Category Id                          51\n",
       "Category Name                        50\n",
       "Customer City                       563\n",
       "Customer Country                      2\n",
       "Customer Id                       20652\n",
       "Customer Segment                      3\n",
       "Customer State                       46\n",
       "Customer Zipcode                    995\n",
       "Department Id                        11\n",
       "Department Name                      11\n",
       "Latitude                          11250\n",
       "Longitude                          4487\n",
       "Market                                5\n",
       "Order City                         3597\n",
       "Order Country                       164\n",
       "Order Customer Id                 20652\n",
       "order date (DateOrders)           65752\n",
       "Order Id                          65752\n",
       "Order Item Cardprod Id              118\n",
       "Order Item Discount                1017\n",
       "Order Item Discount Rate             18\n",
       "Order Item Id                    180519\n",
       "Order Item Product Price             75\n",
       "Order Item Profit Ratio             162\n",
       "Order Item Quantity                   5\n",
       "Sales                               193\n",
       "Order Item Total                   2927\n",
       "Order Profit Per Order            21998\n",
       "Order Region                         23\n",
       "Order State                        1089\n",
       "Order Status                          9\n",
       "Product Card Id                     118\n",
       "Product Category Id                  51\n",
       "Product Name                        118\n",
       "Product Price                        75\n",
       "shipping date (DateOrders)        63701\n",
       "Shipping Mode                         4\n",
       "dtype: int64"
      ]
     },
     "execution_count": 12,
     "metadata": {},
     "output_type": "execute_result"
    }
   ],
   "source": [
    "#Determine the number of unique values in each column\n",
    "co_cat = df_a.dtypes.index.tolist()\n",
    "df_a[co_cat].nunique()"
   ]
  },
  {
   "cell_type": "code",
   "execution_count": 13,
   "metadata": {},
   "outputs": [
    {
     "data": {
      "application/vnd.plotly.v1+json": {
       "config": {
        "plotlyServerURL": "https://plot.ly"
       },
       "data": [
        {
         "alignmentgroup": "True",
         "hovertemplate": "Number of Orders=%{marker.color}<br>Category Name=%{y}<extra></extra>",
         "legendgroup": "",
         "marker": {
          "color": [
           61,
           67,
           68,
           111,
           138,
           181,
           207,
           208,
           271,
           283,
           309,
           328,
           343,
           357,
           362,
           384,
           405,
           423,
           431,
           434,
           440,
           441,
           442,
           483,
           484,
           484,
           492,
           524,
           529,
           592,
           614,
           632,
           650,
           652,
           838,
           974,
           1070,
           1201,
           1475,
           1780,
           3156,
           10984,
           12487,
           13729,
           15540,
           17325,
           19298,
           21035,
           22246,
           24551
          ],
          "coloraxis": "coloraxis",
          "pattern": {
           "shape": ""
          }
         },
         "name": "",
         "offsetgroup": "",
         "orientation": "h",
         "showlegend": false,
         "textposition": "auto",
         "type": "bar",
         "x": [
          61,
          67,
          68,
          111,
          138,
          181,
          207,
          208,
          271,
          283,
          309,
          328,
          343,
          357,
          362,
          384,
          405,
          423,
          431,
          434,
          440,
          441,
          442,
          483,
          484,
          484,
          492,
          524,
          529,
          592,
          614,
          632,
          650,
          652,
          838,
          974,
          1070,
          1201,
          1475,
          1780,
          3156,
          10984,
          12487,
          13729,
          15540,
          17325,
          19298,
          21035,
          22246,
          24551
         ],
         "xaxis": "x",
         "y": [
          "Golf Bags & Carts",
          "Basketball",
          "As Seen on  TV!",
          "Strength Training",
          "Soccer",
          "Women's Golf Clubs",
          "Baby ",
          "Men's Clothing",
          "CDs ",
          "Men's Golf Clubs",
          "Fitness Accessories",
          "Tennis & Racquet",
          "Lacrosse",
          "Sporting Goods",
          "Health and Beauty",
          "Kids' Golf Clubs",
          "Books ",
          "Boxing & MMA",
          "Consumer Electronics",
          "Music",
          "Hunting & Shooting",
          "Golf Apparel",
          "Computers",
          "DVDs",
          "Garden",
          "Crafts",
          "Pet Supplies",
          "Golf Shoes",
          "Toys",
          "Cameras ",
          "Hockey",
          "Baseball & Softball",
          "Women's Clothing",
          "Children's Clothing",
          "Video Games",
          "Trade-In",
          "Golf Gloves",
          "Girls' Apparel",
          "Golf Balls",
          "Accessories",
          "Electronics",
          "Shop By Sport",
          "Cardio Equipment",
          "Camping & Hiking",
          "Water Sports",
          "Fishing",
          "Indoor/Outdoor Games",
          "Women's Apparel",
          "Men's Footwear",
          "Cleats"
         ],
         "yaxis": "y"
        }
       ],
       "layout": {
        "barmode": "relative",
        "coloraxis": {
         "colorbar": {
          "title": {
           "text": "Number of Orders"
          }
         },
         "colorscale": [
          [
           0,
           "#0d0887"
          ],
          [
           0.1111111111111111,
           "#46039f"
          ],
          [
           0.2222222222222222,
           "#7201a8"
          ],
          [
           0.3333333333333333,
           "#9c179e"
          ],
          [
           0.4444444444444444,
           "#bd3786"
          ],
          [
           0.5555555555555556,
           "#d8576b"
          ],
          [
           0.6666666666666666,
           "#ed7953"
          ],
          [
           0.7777777777777778,
           "#fb9f3a"
          ],
          [
           0.8888888888888888,
           "#fdca26"
          ],
          [
           1,
           "#f0f921"
          ]
         ]
        },
        "legend": {
         "tracegroupgap": 0
        },
        "margin": {
         "t": 60
        },
        "template": {
         "data": {
          "bar": [
           {
            "error_x": {
             "color": "#2a3f5f"
            },
            "error_y": {
             "color": "#2a3f5f"
            },
            "marker": {
             "line": {
              "color": "#E5ECF6",
              "width": 0.5
             },
             "pattern": {
              "fillmode": "overlay",
              "size": 10,
              "solidity": 0.2
             }
            },
            "type": "bar"
           }
          ],
          "barpolar": [
           {
            "marker": {
             "line": {
              "color": "#E5ECF6",
              "width": 0.5
             },
             "pattern": {
              "fillmode": "overlay",
              "size": 10,
              "solidity": 0.2
             }
            },
            "type": "barpolar"
           }
          ],
          "carpet": [
           {
            "aaxis": {
             "endlinecolor": "#2a3f5f",
             "gridcolor": "white",
             "linecolor": "white",
             "minorgridcolor": "white",
             "startlinecolor": "#2a3f5f"
            },
            "baxis": {
             "endlinecolor": "#2a3f5f",
             "gridcolor": "white",
             "linecolor": "white",
             "minorgridcolor": "white",
             "startlinecolor": "#2a3f5f"
            },
            "type": "carpet"
           }
          ],
          "choropleth": [
           {
            "colorbar": {
             "outlinewidth": 0,
             "ticks": ""
            },
            "type": "choropleth"
           }
          ],
          "contour": [
           {
            "colorbar": {
             "outlinewidth": 0,
             "ticks": ""
            },
            "colorscale": [
             [
              0,
              "#0d0887"
             ],
             [
              0.1111111111111111,
              "#46039f"
             ],
             [
              0.2222222222222222,
              "#7201a8"
             ],
             [
              0.3333333333333333,
              "#9c179e"
             ],
             [
              0.4444444444444444,
              "#bd3786"
             ],
             [
              0.5555555555555556,
              "#d8576b"
             ],
             [
              0.6666666666666666,
              "#ed7953"
             ],
             [
              0.7777777777777778,
              "#fb9f3a"
             ],
             [
              0.8888888888888888,
              "#fdca26"
             ],
             [
              1,
              "#f0f921"
             ]
            ],
            "type": "contour"
           }
          ],
          "contourcarpet": [
           {
            "colorbar": {
             "outlinewidth": 0,
             "ticks": ""
            },
            "type": "contourcarpet"
           }
          ],
          "heatmap": [
           {
            "colorbar": {
             "outlinewidth": 0,
             "ticks": ""
            },
            "colorscale": [
             [
              0,
              "#0d0887"
             ],
             [
              0.1111111111111111,
              "#46039f"
             ],
             [
              0.2222222222222222,
              "#7201a8"
             ],
             [
              0.3333333333333333,
              "#9c179e"
             ],
             [
              0.4444444444444444,
              "#bd3786"
             ],
             [
              0.5555555555555556,
              "#d8576b"
             ],
             [
              0.6666666666666666,
              "#ed7953"
             ],
             [
              0.7777777777777778,
              "#fb9f3a"
             ],
             [
              0.8888888888888888,
              "#fdca26"
             ],
             [
              1,
              "#f0f921"
             ]
            ],
            "type": "heatmap"
           }
          ],
          "heatmapgl": [
           {
            "colorbar": {
             "outlinewidth": 0,
             "ticks": ""
            },
            "colorscale": [
             [
              0,
              "#0d0887"
             ],
             [
              0.1111111111111111,
              "#46039f"
             ],
             [
              0.2222222222222222,
              "#7201a8"
             ],
             [
              0.3333333333333333,
              "#9c179e"
             ],
             [
              0.4444444444444444,
              "#bd3786"
             ],
             [
              0.5555555555555556,
              "#d8576b"
             ],
             [
              0.6666666666666666,
              "#ed7953"
             ],
             [
              0.7777777777777778,
              "#fb9f3a"
             ],
             [
              0.8888888888888888,
              "#fdca26"
             ],
             [
              1,
              "#f0f921"
             ]
            ],
            "type": "heatmapgl"
           }
          ],
          "histogram": [
           {
            "marker": {
             "pattern": {
              "fillmode": "overlay",
              "size": 10,
              "solidity": 0.2
             }
            },
            "type": "histogram"
           }
          ],
          "histogram2d": [
           {
            "colorbar": {
             "outlinewidth": 0,
             "ticks": ""
            },
            "colorscale": [
             [
              0,
              "#0d0887"
             ],
             [
              0.1111111111111111,
              "#46039f"
             ],
             [
              0.2222222222222222,
              "#7201a8"
             ],
             [
              0.3333333333333333,
              "#9c179e"
             ],
             [
              0.4444444444444444,
              "#bd3786"
             ],
             [
              0.5555555555555556,
              "#d8576b"
             ],
             [
              0.6666666666666666,
              "#ed7953"
             ],
             [
              0.7777777777777778,
              "#fb9f3a"
             ],
             [
              0.8888888888888888,
              "#fdca26"
             ],
             [
              1,
              "#f0f921"
             ]
            ],
            "type": "histogram2d"
           }
          ],
          "histogram2dcontour": [
           {
            "colorbar": {
             "outlinewidth": 0,
             "ticks": ""
            },
            "colorscale": [
             [
              0,
              "#0d0887"
             ],
             [
              0.1111111111111111,
              "#46039f"
             ],
             [
              0.2222222222222222,
              "#7201a8"
             ],
             [
              0.3333333333333333,
              "#9c179e"
             ],
             [
              0.4444444444444444,
              "#bd3786"
             ],
             [
              0.5555555555555556,
              "#d8576b"
             ],
             [
              0.6666666666666666,
              "#ed7953"
             ],
             [
              0.7777777777777778,
              "#fb9f3a"
             ],
             [
              0.8888888888888888,
              "#fdca26"
             ],
             [
              1,
              "#f0f921"
             ]
            ],
            "type": "histogram2dcontour"
           }
          ],
          "mesh3d": [
           {
            "colorbar": {
             "outlinewidth": 0,
             "ticks": ""
            },
            "type": "mesh3d"
           }
          ],
          "parcoords": [
           {
            "line": {
             "colorbar": {
              "outlinewidth": 0,
              "ticks": ""
             }
            },
            "type": "parcoords"
           }
          ],
          "pie": [
           {
            "automargin": true,
            "type": "pie"
           }
          ],
          "scatter": [
           {
            "fillpattern": {
             "fillmode": "overlay",
             "size": 10,
             "solidity": 0.2
            },
            "type": "scatter"
           }
          ],
          "scatter3d": [
           {
            "line": {
             "colorbar": {
              "outlinewidth": 0,
              "ticks": ""
             }
            },
            "marker": {
             "colorbar": {
              "outlinewidth": 0,
              "ticks": ""
             }
            },
            "type": "scatter3d"
           }
          ],
          "scattercarpet": [
           {
            "marker": {
             "colorbar": {
              "outlinewidth": 0,
              "ticks": ""
             }
            },
            "type": "scattercarpet"
           }
          ],
          "scattergeo": [
           {
            "marker": {
             "colorbar": {
              "outlinewidth": 0,
              "ticks": ""
             }
            },
            "type": "scattergeo"
           }
          ],
          "scattergl": [
           {
            "marker": {
             "colorbar": {
              "outlinewidth": 0,
              "ticks": ""
             }
            },
            "type": "scattergl"
           }
          ],
          "scattermapbox": [
           {
            "marker": {
             "colorbar": {
              "outlinewidth": 0,
              "ticks": ""
             }
            },
            "type": "scattermapbox"
           }
          ],
          "scatterpolar": [
           {
            "marker": {
             "colorbar": {
              "outlinewidth": 0,
              "ticks": ""
             }
            },
            "type": "scatterpolar"
           }
          ],
          "scatterpolargl": [
           {
            "marker": {
             "colorbar": {
              "outlinewidth": 0,
              "ticks": ""
             }
            },
            "type": "scatterpolargl"
           }
          ],
          "scatterternary": [
           {
            "marker": {
             "colorbar": {
              "outlinewidth": 0,
              "ticks": ""
             }
            },
            "type": "scatterternary"
           }
          ],
          "surface": [
           {
            "colorbar": {
             "outlinewidth": 0,
             "ticks": ""
            },
            "colorscale": [
             [
              0,
              "#0d0887"
             ],
             [
              0.1111111111111111,
              "#46039f"
             ],
             [
              0.2222222222222222,
              "#7201a8"
             ],
             [
              0.3333333333333333,
              "#9c179e"
             ],
             [
              0.4444444444444444,
              "#bd3786"
             ],
             [
              0.5555555555555556,
              "#d8576b"
             ],
             [
              0.6666666666666666,
              "#ed7953"
             ],
             [
              0.7777777777777778,
              "#fb9f3a"
             ],
             [
              0.8888888888888888,
              "#fdca26"
             ],
             [
              1,
              "#f0f921"
             ]
            ],
            "type": "surface"
           }
          ],
          "table": [
           {
            "cells": {
             "fill": {
              "color": "#EBF0F8"
             },
             "line": {
              "color": "white"
             }
            },
            "header": {
             "fill": {
              "color": "#C8D4E3"
             },
             "line": {
              "color": "white"
             }
            },
            "type": "table"
           }
          ]
         },
         "layout": {
          "annotationdefaults": {
           "arrowcolor": "#2a3f5f",
           "arrowhead": 0,
           "arrowwidth": 1
          },
          "autotypenumbers": "strict",
          "coloraxis": {
           "colorbar": {
            "outlinewidth": 0,
            "ticks": ""
           }
          },
          "colorscale": {
           "diverging": [
            [
             0,
             "#8e0152"
            ],
            [
             0.1,
             "#c51b7d"
            ],
            [
             0.2,
             "#de77ae"
            ],
            [
             0.3,
             "#f1b6da"
            ],
            [
             0.4,
             "#fde0ef"
            ],
            [
             0.5,
             "#f7f7f7"
            ],
            [
             0.6,
             "#e6f5d0"
            ],
            [
             0.7,
             "#b8e186"
            ],
            [
             0.8,
             "#7fbc41"
            ],
            [
             0.9,
             "#4d9221"
            ],
            [
             1,
             "#276419"
            ]
           ],
           "sequential": [
            [
             0,
             "#0d0887"
            ],
            [
             0.1111111111111111,
             "#46039f"
            ],
            [
             0.2222222222222222,
             "#7201a8"
            ],
            [
             0.3333333333333333,
             "#9c179e"
            ],
            [
             0.4444444444444444,
             "#bd3786"
            ],
            [
             0.5555555555555556,
             "#d8576b"
            ],
            [
             0.6666666666666666,
             "#ed7953"
            ],
            [
             0.7777777777777778,
             "#fb9f3a"
            ],
            [
             0.8888888888888888,
             "#fdca26"
            ],
            [
             1,
             "#f0f921"
            ]
           ],
           "sequentialminus": [
            [
             0,
             "#0d0887"
            ],
            [
             0.1111111111111111,
             "#46039f"
            ],
            [
             0.2222222222222222,
             "#7201a8"
            ],
            [
             0.3333333333333333,
             "#9c179e"
            ],
            [
             0.4444444444444444,
             "#bd3786"
            ],
            [
             0.5555555555555556,
             "#d8576b"
            ],
            [
             0.6666666666666666,
             "#ed7953"
            ],
            [
             0.7777777777777778,
             "#fb9f3a"
            ],
            [
             0.8888888888888888,
             "#fdca26"
            ],
            [
             1,
             "#f0f921"
            ]
           ]
          },
          "colorway": [
           "#636efa",
           "#EF553B",
           "#00cc96",
           "#ab63fa",
           "#FFA15A",
           "#19d3f3",
           "#FF6692",
           "#B6E880",
           "#FF97FF",
           "#FECB52"
          ],
          "font": {
           "color": "#2a3f5f"
          },
          "geo": {
           "bgcolor": "white",
           "lakecolor": "white",
           "landcolor": "#E5ECF6",
           "showlakes": true,
           "showland": true,
           "subunitcolor": "white"
          },
          "hoverlabel": {
           "align": "left"
          },
          "hovermode": "closest",
          "mapbox": {
           "style": "light"
          },
          "paper_bgcolor": "white",
          "plot_bgcolor": "#E5ECF6",
          "polar": {
           "angularaxis": {
            "gridcolor": "white",
            "linecolor": "white",
            "ticks": ""
           },
           "bgcolor": "#E5ECF6",
           "radialaxis": {
            "gridcolor": "white",
            "linecolor": "white",
            "ticks": ""
           }
          },
          "scene": {
           "xaxis": {
            "backgroundcolor": "#E5ECF6",
            "gridcolor": "white",
            "gridwidth": 2,
            "linecolor": "white",
            "showbackground": true,
            "ticks": "",
            "zerolinecolor": "white"
           },
           "yaxis": {
            "backgroundcolor": "#E5ECF6",
            "gridcolor": "white",
            "gridwidth": 2,
            "linecolor": "white",
            "showbackground": true,
            "ticks": "",
            "zerolinecolor": "white"
           },
           "zaxis": {
            "backgroundcolor": "#E5ECF6",
            "gridcolor": "white",
            "gridwidth": 2,
            "linecolor": "white",
            "showbackground": true,
            "ticks": "",
            "zerolinecolor": "white"
           }
          },
          "shapedefaults": {
           "line": {
            "color": "#2a3f5f"
           }
          },
          "ternary": {
           "aaxis": {
            "gridcolor": "white",
            "linecolor": "white",
            "ticks": ""
           },
           "baxis": {
            "gridcolor": "white",
            "linecolor": "white",
            "ticks": ""
           },
           "bgcolor": "#E5ECF6",
           "caxis": {
            "gridcolor": "white",
            "linecolor": "white",
            "ticks": ""
           }
          },
          "title": {
           "x": 0.05
          },
          "xaxis": {
           "automargin": true,
           "gridcolor": "white",
           "linecolor": "white",
           "ticks": "",
           "title": {
            "standoff": 15
           },
           "zerolinecolor": "white",
           "zerolinewidth": 2
          },
          "yaxis": {
           "automargin": true,
           "gridcolor": "white",
           "linecolor": "white",
           "ticks": "",
           "title": {
            "standoff": 15
           },
           "zerolinecolor": "white",
           "zerolinewidth": 2
          }
         }
        },
        "xaxis": {
         "anchor": "y",
         "domain": [
          0,
          1
         ],
         "title": {
          "text": "Number of Orders"
         }
        },
        "yaxis": {
         "anchor": "x",
         "domain": [
          0,
          1
         ],
         "title": {
          "text": "Category Name"
         }
        }
       }
      }
     },
     "metadata": {},
     "output_type": "display_data"
    }
   ],
   "source": [
    "#Category Name\n",
    "data_Category_Name=df_a.groupby(['Category Name'])['Order Id'].count().reset_index(name='Number of Orders').sort_values(by= 'Number of Orders', ascending= True)\n",
    "px.bar(data_Category_Name, x='Number of Orders',y = 'Category Name',color ='Number of Orders')"
   ]
  },
  {
   "cell_type": "code",
   "execution_count": 15,
   "metadata": {},
   "outputs": [
    {
     "data": {
      "application/vnd.plotly.v1+json": {
       "config": {
        "plotlyServerURL": "https://plot.ly"
       },
       "data": [
        {
         "alignmentgroup": "True",
         "hovertemplate": "Sales of Orders=%{marker.color}<br>Type=%{y}<extra></extra>",
         "legendgroup": "",
         "marker": {
          "color": [
           14076857.65884967,
           10194901.975555627,
           8490351.21226794,
           4022624.166706608
          ],
          "coloraxis": "coloraxis",
          "pattern": {
           "shape": ""
          }
         },
         "name": "",
         "offsetgroup": "",
         "orientation": "h",
         "showlegend": false,
         "textposition": "auto",
         "type": "bar",
         "x": [
          14076857.65884967,
          10194901.975555627,
          8490351.21226794,
          4022624.166706608
         ],
         "xaxis": "x",
         "y": [
          "DEBIT",
          "TRANSFER",
          "PAYMENT",
          "CASH"
         ],
         "yaxis": "y"
        }
       ],
       "layout": {
        "barmode": "relative",
        "coloraxis": {
         "colorbar": {
          "title": {
           "text": "Sales of Orders"
          }
         },
         "colorscale": [
          [
           0,
           "#0d0887"
          ],
          [
           0.1111111111111111,
           "#46039f"
          ],
          [
           0.2222222222222222,
           "#7201a8"
          ],
          [
           0.3333333333333333,
           "#9c179e"
          ],
          [
           0.4444444444444444,
           "#bd3786"
          ],
          [
           0.5555555555555556,
           "#d8576b"
          ],
          [
           0.6666666666666666,
           "#ed7953"
          ],
          [
           0.7777777777777778,
           "#fb9f3a"
          ],
          [
           0.8888888888888888,
           "#fdca26"
          ],
          [
           1,
           "#f0f921"
          ]
         ]
        },
        "legend": {
         "tracegroupgap": 0
        },
        "margin": {
         "t": 60
        },
        "template": {
         "data": {
          "bar": [
           {
            "error_x": {
             "color": "#2a3f5f"
            },
            "error_y": {
             "color": "#2a3f5f"
            },
            "marker": {
             "line": {
              "color": "#E5ECF6",
              "width": 0.5
             },
             "pattern": {
              "fillmode": "overlay",
              "size": 10,
              "solidity": 0.2
             }
            },
            "type": "bar"
           }
          ],
          "barpolar": [
           {
            "marker": {
             "line": {
              "color": "#E5ECF6",
              "width": 0.5
             },
             "pattern": {
              "fillmode": "overlay",
              "size": 10,
              "solidity": 0.2
             }
            },
            "type": "barpolar"
           }
          ],
          "carpet": [
           {
            "aaxis": {
             "endlinecolor": "#2a3f5f",
             "gridcolor": "white",
             "linecolor": "white",
             "minorgridcolor": "white",
             "startlinecolor": "#2a3f5f"
            },
            "baxis": {
             "endlinecolor": "#2a3f5f",
             "gridcolor": "white",
             "linecolor": "white",
             "minorgridcolor": "white",
             "startlinecolor": "#2a3f5f"
            },
            "type": "carpet"
           }
          ],
          "choropleth": [
           {
            "colorbar": {
             "outlinewidth": 0,
             "ticks": ""
            },
            "type": "choropleth"
           }
          ],
          "contour": [
           {
            "colorbar": {
             "outlinewidth": 0,
             "ticks": ""
            },
            "colorscale": [
             [
              0,
              "#0d0887"
             ],
             [
              0.1111111111111111,
              "#46039f"
             ],
             [
              0.2222222222222222,
              "#7201a8"
             ],
             [
              0.3333333333333333,
              "#9c179e"
             ],
             [
              0.4444444444444444,
              "#bd3786"
             ],
             [
              0.5555555555555556,
              "#d8576b"
             ],
             [
              0.6666666666666666,
              "#ed7953"
             ],
             [
              0.7777777777777778,
              "#fb9f3a"
             ],
             [
              0.8888888888888888,
              "#fdca26"
             ],
             [
              1,
              "#f0f921"
             ]
            ],
            "type": "contour"
           }
          ],
          "contourcarpet": [
           {
            "colorbar": {
             "outlinewidth": 0,
             "ticks": ""
            },
            "type": "contourcarpet"
           }
          ],
          "heatmap": [
           {
            "colorbar": {
             "outlinewidth": 0,
             "ticks": ""
            },
            "colorscale": [
             [
              0,
              "#0d0887"
             ],
             [
              0.1111111111111111,
              "#46039f"
             ],
             [
              0.2222222222222222,
              "#7201a8"
             ],
             [
              0.3333333333333333,
              "#9c179e"
             ],
             [
              0.4444444444444444,
              "#bd3786"
             ],
             [
              0.5555555555555556,
              "#d8576b"
             ],
             [
              0.6666666666666666,
              "#ed7953"
             ],
             [
              0.7777777777777778,
              "#fb9f3a"
             ],
             [
              0.8888888888888888,
              "#fdca26"
             ],
             [
              1,
              "#f0f921"
             ]
            ],
            "type": "heatmap"
           }
          ],
          "heatmapgl": [
           {
            "colorbar": {
             "outlinewidth": 0,
             "ticks": ""
            },
            "colorscale": [
             [
              0,
              "#0d0887"
             ],
             [
              0.1111111111111111,
              "#46039f"
             ],
             [
              0.2222222222222222,
              "#7201a8"
             ],
             [
              0.3333333333333333,
              "#9c179e"
             ],
             [
              0.4444444444444444,
              "#bd3786"
             ],
             [
              0.5555555555555556,
              "#d8576b"
             ],
             [
              0.6666666666666666,
              "#ed7953"
             ],
             [
              0.7777777777777778,
              "#fb9f3a"
             ],
             [
              0.8888888888888888,
              "#fdca26"
             ],
             [
              1,
              "#f0f921"
             ]
            ],
            "type": "heatmapgl"
           }
          ],
          "histogram": [
           {
            "marker": {
             "pattern": {
              "fillmode": "overlay",
              "size": 10,
              "solidity": 0.2
             }
            },
            "type": "histogram"
           }
          ],
          "histogram2d": [
           {
            "colorbar": {
             "outlinewidth": 0,
             "ticks": ""
            },
            "colorscale": [
             [
              0,
              "#0d0887"
             ],
             [
              0.1111111111111111,
              "#46039f"
             ],
             [
              0.2222222222222222,
              "#7201a8"
             ],
             [
              0.3333333333333333,
              "#9c179e"
             ],
             [
              0.4444444444444444,
              "#bd3786"
             ],
             [
              0.5555555555555556,
              "#d8576b"
             ],
             [
              0.6666666666666666,
              "#ed7953"
             ],
             [
              0.7777777777777778,
              "#fb9f3a"
             ],
             [
              0.8888888888888888,
              "#fdca26"
             ],
             [
              1,
              "#f0f921"
             ]
            ],
            "type": "histogram2d"
           }
          ],
          "histogram2dcontour": [
           {
            "colorbar": {
             "outlinewidth": 0,
             "ticks": ""
            },
            "colorscale": [
             [
              0,
              "#0d0887"
             ],
             [
              0.1111111111111111,
              "#46039f"
             ],
             [
              0.2222222222222222,
              "#7201a8"
             ],
             [
              0.3333333333333333,
              "#9c179e"
             ],
             [
              0.4444444444444444,
              "#bd3786"
             ],
             [
              0.5555555555555556,
              "#d8576b"
             ],
             [
              0.6666666666666666,
              "#ed7953"
             ],
             [
              0.7777777777777778,
              "#fb9f3a"
             ],
             [
              0.8888888888888888,
              "#fdca26"
             ],
             [
              1,
              "#f0f921"
             ]
            ],
            "type": "histogram2dcontour"
           }
          ],
          "mesh3d": [
           {
            "colorbar": {
             "outlinewidth": 0,
             "ticks": ""
            },
            "type": "mesh3d"
           }
          ],
          "parcoords": [
           {
            "line": {
             "colorbar": {
              "outlinewidth": 0,
              "ticks": ""
             }
            },
            "type": "parcoords"
           }
          ],
          "pie": [
           {
            "automargin": true,
            "type": "pie"
           }
          ],
          "scatter": [
           {
            "fillpattern": {
             "fillmode": "overlay",
             "size": 10,
             "solidity": 0.2
            },
            "type": "scatter"
           }
          ],
          "scatter3d": [
           {
            "line": {
             "colorbar": {
              "outlinewidth": 0,
              "ticks": ""
             }
            },
            "marker": {
             "colorbar": {
              "outlinewidth": 0,
              "ticks": ""
             }
            },
            "type": "scatter3d"
           }
          ],
          "scattercarpet": [
           {
            "marker": {
             "colorbar": {
              "outlinewidth": 0,
              "ticks": ""
             }
            },
            "type": "scattercarpet"
           }
          ],
          "scattergeo": [
           {
            "marker": {
             "colorbar": {
              "outlinewidth": 0,
              "ticks": ""
             }
            },
            "type": "scattergeo"
           }
          ],
          "scattergl": [
           {
            "marker": {
             "colorbar": {
              "outlinewidth": 0,
              "ticks": ""
             }
            },
            "type": "scattergl"
           }
          ],
          "scattermapbox": [
           {
            "marker": {
             "colorbar": {
              "outlinewidth": 0,
              "ticks": ""
             }
            },
            "type": "scattermapbox"
           }
          ],
          "scatterpolar": [
           {
            "marker": {
             "colorbar": {
              "outlinewidth": 0,
              "ticks": ""
             }
            },
            "type": "scatterpolar"
           }
          ],
          "scatterpolargl": [
           {
            "marker": {
             "colorbar": {
              "outlinewidth": 0,
              "ticks": ""
             }
            },
            "type": "scatterpolargl"
           }
          ],
          "scatterternary": [
           {
            "marker": {
             "colorbar": {
              "outlinewidth": 0,
              "ticks": ""
             }
            },
            "type": "scatterternary"
           }
          ],
          "surface": [
           {
            "colorbar": {
             "outlinewidth": 0,
             "ticks": ""
            },
            "colorscale": [
             [
              0,
              "#0d0887"
             ],
             [
              0.1111111111111111,
              "#46039f"
             ],
             [
              0.2222222222222222,
              "#7201a8"
             ],
             [
              0.3333333333333333,
              "#9c179e"
             ],
             [
              0.4444444444444444,
              "#bd3786"
             ],
             [
              0.5555555555555556,
              "#d8576b"
             ],
             [
              0.6666666666666666,
              "#ed7953"
             ],
             [
              0.7777777777777778,
              "#fb9f3a"
             ],
             [
              0.8888888888888888,
              "#fdca26"
             ],
             [
              1,
              "#f0f921"
             ]
            ],
            "type": "surface"
           }
          ],
          "table": [
           {
            "cells": {
             "fill": {
              "color": "#EBF0F8"
             },
             "line": {
              "color": "white"
             }
            },
            "header": {
             "fill": {
              "color": "#C8D4E3"
             },
             "line": {
              "color": "white"
             }
            },
            "type": "table"
           }
          ]
         },
         "layout": {
          "annotationdefaults": {
           "arrowcolor": "#2a3f5f",
           "arrowhead": 0,
           "arrowwidth": 1
          },
          "autotypenumbers": "strict",
          "coloraxis": {
           "colorbar": {
            "outlinewidth": 0,
            "ticks": ""
           }
          },
          "colorscale": {
           "diverging": [
            [
             0,
             "#8e0152"
            ],
            [
             0.1,
             "#c51b7d"
            ],
            [
             0.2,
             "#de77ae"
            ],
            [
             0.3,
             "#f1b6da"
            ],
            [
             0.4,
             "#fde0ef"
            ],
            [
             0.5,
             "#f7f7f7"
            ],
            [
             0.6,
             "#e6f5d0"
            ],
            [
             0.7,
             "#b8e186"
            ],
            [
             0.8,
             "#7fbc41"
            ],
            [
             0.9,
             "#4d9221"
            ],
            [
             1,
             "#276419"
            ]
           ],
           "sequential": [
            [
             0,
             "#0d0887"
            ],
            [
             0.1111111111111111,
             "#46039f"
            ],
            [
             0.2222222222222222,
             "#7201a8"
            ],
            [
             0.3333333333333333,
             "#9c179e"
            ],
            [
             0.4444444444444444,
             "#bd3786"
            ],
            [
             0.5555555555555556,
             "#d8576b"
            ],
            [
             0.6666666666666666,
             "#ed7953"
            ],
            [
             0.7777777777777778,
             "#fb9f3a"
            ],
            [
             0.8888888888888888,
             "#fdca26"
            ],
            [
             1,
             "#f0f921"
            ]
           ],
           "sequentialminus": [
            [
             0,
             "#0d0887"
            ],
            [
             0.1111111111111111,
             "#46039f"
            ],
            [
             0.2222222222222222,
             "#7201a8"
            ],
            [
             0.3333333333333333,
             "#9c179e"
            ],
            [
             0.4444444444444444,
             "#bd3786"
            ],
            [
             0.5555555555555556,
             "#d8576b"
            ],
            [
             0.6666666666666666,
             "#ed7953"
            ],
            [
             0.7777777777777778,
             "#fb9f3a"
            ],
            [
             0.8888888888888888,
             "#fdca26"
            ],
            [
             1,
             "#f0f921"
            ]
           ]
          },
          "colorway": [
           "#636efa",
           "#EF553B",
           "#00cc96",
           "#ab63fa",
           "#FFA15A",
           "#19d3f3",
           "#FF6692",
           "#B6E880",
           "#FF97FF",
           "#FECB52"
          ],
          "font": {
           "color": "#2a3f5f"
          },
          "geo": {
           "bgcolor": "white",
           "lakecolor": "white",
           "landcolor": "#E5ECF6",
           "showlakes": true,
           "showland": true,
           "subunitcolor": "white"
          },
          "hoverlabel": {
           "align": "left"
          },
          "hovermode": "closest",
          "mapbox": {
           "style": "light"
          },
          "paper_bgcolor": "white",
          "plot_bgcolor": "#E5ECF6",
          "polar": {
           "angularaxis": {
            "gridcolor": "white",
            "linecolor": "white",
            "ticks": ""
           },
           "bgcolor": "#E5ECF6",
           "radialaxis": {
            "gridcolor": "white",
            "linecolor": "white",
            "ticks": ""
           }
          },
          "scene": {
           "xaxis": {
            "backgroundcolor": "#E5ECF6",
            "gridcolor": "white",
            "gridwidth": 2,
            "linecolor": "white",
            "showbackground": true,
            "ticks": "",
            "zerolinecolor": "white"
           },
           "yaxis": {
            "backgroundcolor": "#E5ECF6",
            "gridcolor": "white",
            "gridwidth": 2,
            "linecolor": "white",
            "showbackground": true,
            "ticks": "",
            "zerolinecolor": "white"
           },
           "zaxis": {
            "backgroundcolor": "#E5ECF6",
            "gridcolor": "white",
            "gridwidth": 2,
            "linecolor": "white",
            "showbackground": true,
            "ticks": "",
            "zerolinecolor": "white"
           }
          },
          "shapedefaults": {
           "line": {
            "color": "#2a3f5f"
           }
          },
          "ternary": {
           "aaxis": {
            "gridcolor": "white",
            "linecolor": "white",
            "ticks": ""
           },
           "baxis": {
            "gridcolor": "white",
            "linecolor": "white",
            "ticks": ""
           },
           "bgcolor": "#E5ECF6",
           "caxis": {
            "gridcolor": "white",
            "linecolor": "white",
            "ticks": ""
           }
          },
          "title": {
           "x": 0.05
          },
          "xaxis": {
           "automargin": true,
           "gridcolor": "white",
           "linecolor": "white",
           "ticks": "",
           "title": {
            "standoff": 15
           },
           "zerolinecolor": "white",
           "zerolinewidth": 2
          },
          "yaxis": {
           "automargin": true,
           "gridcolor": "white",
           "linecolor": "white",
           "ticks": "",
           "title": {
            "standoff": 15
           },
           "zerolinecolor": "white",
           "zerolinewidth": 2
          }
         }
        },
        "xaxis": {
         "anchor": "y",
         "domain": [
          0,
          1
         ],
         "title": {
          "text": "Sales of Orders"
         }
        },
        "yaxis": {
         "anchor": "x",
         "domain": [
          0,
          1
         ],
         "title": {
          "text": "Type"
         }
        }
       }
      }
     },
     "metadata": {},
     "output_type": "display_data"
    }
   ],
   "source": [
    "#Type of payment\n",
    "df_payment_type=df_a.groupby([ 'Type'])['Sales'].sum().reset_index(name='Sales of Orders').sort_values(by= 'Sales of Orders', ascending= False)\n",
    "px.bar(df_payment_type.head(10), x='Sales of Orders',y = 'Type',color ='Sales of Orders')"
   ]
  },
  {
   "cell_type": "code",
   "execution_count": 16,
   "metadata": {},
   "outputs": [
    {
     "data": {
      "application/vnd.plotly.v1+json": {
       "config": {
        "plotlyServerURL": "https://plot.ly"
       },
       "data": [
        {
         "domain": {
          "x": [
           0,
           1
          ],
          "y": [
           0,
           1
          ]
         },
         "hovertemplate": "Customer Segment=%{label}<br>Number of Orders=%{value}<extra></extra>",
         "labels": [
          "Consumer",
          "Corporate",
          "Home Office"
         ],
         "legendgroup": "",
         "name": "",
         "showlegend": true,
         "type": "pie",
         "values": [
          93504,
          54789,
          32226
         ]
        }
       ],
       "layout": {
        "height": 600,
        "legend": {
         "tracegroupgap": 0
        },
        "piecolorway": [
         "rgb(103,0,31)",
         "rgb(178,24,43)",
         "rgb(214,96,77)",
         "rgb(244,165,130)",
         "rgb(253,219,199)",
         "rgb(247,247,247)",
         "rgb(209,229,240)",
         "rgb(146,197,222)",
         "rgb(67,147,195)",
         "rgb(33,102,172)",
         "rgb(5,48,97)"
        ],
        "template": {
         "data": {
          "bar": [
           {
            "error_x": {
             "color": "#2a3f5f"
            },
            "error_y": {
             "color": "#2a3f5f"
            },
            "marker": {
             "line": {
              "color": "#E5ECF6",
              "width": 0.5
             },
             "pattern": {
              "fillmode": "overlay",
              "size": 10,
              "solidity": 0.2
             }
            },
            "type": "bar"
           }
          ],
          "barpolar": [
           {
            "marker": {
             "line": {
              "color": "#E5ECF6",
              "width": 0.5
             },
             "pattern": {
              "fillmode": "overlay",
              "size": 10,
              "solidity": 0.2
             }
            },
            "type": "barpolar"
           }
          ],
          "carpet": [
           {
            "aaxis": {
             "endlinecolor": "#2a3f5f",
             "gridcolor": "white",
             "linecolor": "white",
             "minorgridcolor": "white",
             "startlinecolor": "#2a3f5f"
            },
            "baxis": {
             "endlinecolor": "#2a3f5f",
             "gridcolor": "white",
             "linecolor": "white",
             "minorgridcolor": "white",
             "startlinecolor": "#2a3f5f"
            },
            "type": "carpet"
           }
          ],
          "choropleth": [
           {
            "colorbar": {
             "outlinewidth": 0,
             "ticks": ""
            },
            "type": "choropleth"
           }
          ],
          "contour": [
           {
            "colorbar": {
             "outlinewidth": 0,
             "ticks": ""
            },
            "colorscale": [
             [
              0,
              "#0d0887"
             ],
             [
              0.1111111111111111,
              "#46039f"
             ],
             [
              0.2222222222222222,
              "#7201a8"
             ],
             [
              0.3333333333333333,
              "#9c179e"
             ],
             [
              0.4444444444444444,
              "#bd3786"
             ],
             [
              0.5555555555555556,
              "#d8576b"
             ],
             [
              0.6666666666666666,
              "#ed7953"
             ],
             [
              0.7777777777777778,
              "#fb9f3a"
             ],
             [
              0.8888888888888888,
              "#fdca26"
             ],
             [
              1,
              "#f0f921"
             ]
            ],
            "type": "contour"
           }
          ],
          "contourcarpet": [
           {
            "colorbar": {
             "outlinewidth": 0,
             "ticks": ""
            },
            "type": "contourcarpet"
           }
          ],
          "heatmap": [
           {
            "colorbar": {
             "outlinewidth": 0,
             "ticks": ""
            },
            "colorscale": [
             [
              0,
              "#0d0887"
             ],
             [
              0.1111111111111111,
              "#46039f"
             ],
             [
              0.2222222222222222,
              "#7201a8"
             ],
             [
              0.3333333333333333,
              "#9c179e"
             ],
             [
              0.4444444444444444,
              "#bd3786"
             ],
             [
              0.5555555555555556,
              "#d8576b"
             ],
             [
              0.6666666666666666,
              "#ed7953"
             ],
             [
              0.7777777777777778,
              "#fb9f3a"
             ],
             [
              0.8888888888888888,
              "#fdca26"
             ],
             [
              1,
              "#f0f921"
             ]
            ],
            "type": "heatmap"
           }
          ],
          "heatmapgl": [
           {
            "colorbar": {
             "outlinewidth": 0,
             "ticks": ""
            },
            "colorscale": [
             [
              0,
              "#0d0887"
             ],
             [
              0.1111111111111111,
              "#46039f"
             ],
             [
              0.2222222222222222,
              "#7201a8"
             ],
             [
              0.3333333333333333,
              "#9c179e"
             ],
             [
              0.4444444444444444,
              "#bd3786"
             ],
             [
              0.5555555555555556,
              "#d8576b"
             ],
             [
              0.6666666666666666,
              "#ed7953"
             ],
             [
              0.7777777777777778,
              "#fb9f3a"
             ],
             [
              0.8888888888888888,
              "#fdca26"
             ],
             [
              1,
              "#f0f921"
             ]
            ],
            "type": "heatmapgl"
           }
          ],
          "histogram": [
           {
            "marker": {
             "pattern": {
              "fillmode": "overlay",
              "size": 10,
              "solidity": 0.2
             }
            },
            "type": "histogram"
           }
          ],
          "histogram2d": [
           {
            "colorbar": {
             "outlinewidth": 0,
             "ticks": ""
            },
            "colorscale": [
             [
              0,
              "#0d0887"
             ],
             [
              0.1111111111111111,
              "#46039f"
             ],
             [
              0.2222222222222222,
              "#7201a8"
             ],
             [
              0.3333333333333333,
              "#9c179e"
             ],
             [
              0.4444444444444444,
              "#bd3786"
             ],
             [
              0.5555555555555556,
              "#d8576b"
             ],
             [
              0.6666666666666666,
              "#ed7953"
             ],
             [
              0.7777777777777778,
              "#fb9f3a"
             ],
             [
              0.8888888888888888,
              "#fdca26"
             ],
             [
              1,
              "#f0f921"
             ]
            ],
            "type": "histogram2d"
           }
          ],
          "histogram2dcontour": [
           {
            "colorbar": {
             "outlinewidth": 0,
             "ticks": ""
            },
            "colorscale": [
             [
              0,
              "#0d0887"
             ],
             [
              0.1111111111111111,
              "#46039f"
             ],
             [
              0.2222222222222222,
              "#7201a8"
             ],
             [
              0.3333333333333333,
              "#9c179e"
             ],
             [
              0.4444444444444444,
              "#bd3786"
             ],
             [
              0.5555555555555556,
              "#d8576b"
             ],
             [
              0.6666666666666666,
              "#ed7953"
             ],
             [
              0.7777777777777778,
              "#fb9f3a"
             ],
             [
              0.8888888888888888,
              "#fdca26"
             ],
             [
              1,
              "#f0f921"
             ]
            ],
            "type": "histogram2dcontour"
           }
          ],
          "mesh3d": [
           {
            "colorbar": {
             "outlinewidth": 0,
             "ticks": ""
            },
            "type": "mesh3d"
           }
          ],
          "parcoords": [
           {
            "line": {
             "colorbar": {
              "outlinewidth": 0,
              "ticks": ""
             }
            },
            "type": "parcoords"
           }
          ],
          "pie": [
           {
            "automargin": true,
            "type": "pie"
           }
          ],
          "scatter": [
           {
            "fillpattern": {
             "fillmode": "overlay",
             "size": 10,
             "solidity": 0.2
            },
            "type": "scatter"
           }
          ],
          "scatter3d": [
           {
            "line": {
             "colorbar": {
              "outlinewidth": 0,
              "ticks": ""
             }
            },
            "marker": {
             "colorbar": {
              "outlinewidth": 0,
              "ticks": ""
             }
            },
            "type": "scatter3d"
           }
          ],
          "scattercarpet": [
           {
            "marker": {
             "colorbar": {
              "outlinewidth": 0,
              "ticks": ""
             }
            },
            "type": "scattercarpet"
           }
          ],
          "scattergeo": [
           {
            "marker": {
             "colorbar": {
              "outlinewidth": 0,
              "ticks": ""
             }
            },
            "type": "scattergeo"
           }
          ],
          "scattergl": [
           {
            "marker": {
             "colorbar": {
              "outlinewidth": 0,
              "ticks": ""
             }
            },
            "type": "scattergl"
           }
          ],
          "scattermapbox": [
           {
            "marker": {
             "colorbar": {
              "outlinewidth": 0,
              "ticks": ""
             }
            },
            "type": "scattermapbox"
           }
          ],
          "scatterpolar": [
           {
            "marker": {
             "colorbar": {
              "outlinewidth": 0,
              "ticks": ""
             }
            },
            "type": "scatterpolar"
           }
          ],
          "scatterpolargl": [
           {
            "marker": {
             "colorbar": {
              "outlinewidth": 0,
              "ticks": ""
             }
            },
            "type": "scatterpolargl"
           }
          ],
          "scatterternary": [
           {
            "marker": {
             "colorbar": {
              "outlinewidth": 0,
              "ticks": ""
             }
            },
            "type": "scatterternary"
           }
          ],
          "surface": [
           {
            "colorbar": {
             "outlinewidth": 0,
             "ticks": ""
            },
            "colorscale": [
             [
              0,
              "#0d0887"
             ],
             [
              0.1111111111111111,
              "#46039f"
             ],
             [
              0.2222222222222222,
              "#7201a8"
             ],
             [
              0.3333333333333333,
              "#9c179e"
             ],
             [
              0.4444444444444444,
              "#bd3786"
             ],
             [
              0.5555555555555556,
              "#d8576b"
             ],
             [
              0.6666666666666666,
              "#ed7953"
             ],
             [
              0.7777777777777778,
              "#fb9f3a"
             ],
             [
              0.8888888888888888,
              "#fdca26"
             ],
             [
              1,
              "#f0f921"
             ]
            ],
            "type": "surface"
           }
          ],
          "table": [
           {
            "cells": {
             "fill": {
              "color": "#EBF0F8"
             },
             "line": {
              "color": "white"
             }
            },
            "header": {
             "fill": {
              "color": "#C8D4E3"
             },
             "line": {
              "color": "white"
             }
            },
            "type": "table"
           }
          ]
         },
         "layout": {
          "annotationdefaults": {
           "arrowcolor": "#2a3f5f",
           "arrowhead": 0,
           "arrowwidth": 1
          },
          "autotypenumbers": "strict",
          "coloraxis": {
           "colorbar": {
            "outlinewidth": 0,
            "ticks": ""
           }
          },
          "colorscale": {
           "diverging": [
            [
             0,
             "#8e0152"
            ],
            [
             0.1,
             "#c51b7d"
            ],
            [
             0.2,
             "#de77ae"
            ],
            [
             0.3,
             "#f1b6da"
            ],
            [
             0.4,
             "#fde0ef"
            ],
            [
             0.5,
             "#f7f7f7"
            ],
            [
             0.6,
             "#e6f5d0"
            ],
            [
             0.7,
             "#b8e186"
            ],
            [
             0.8,
             "#7fbc41"
            ],
            [
             0.9,
             "#4d9221"
            ],
            [
             1,
             "#276419"
            ]
           ],
           "sequential": [
            [
             0,
             "#0d0887"
            ],
            [
             0.1111111111111111,
             "#46039f"
            ],
            [
             0.2222222222222222,
             "#7201a8"
            ],
            [
             0.3333333333333333,
             "#9c179e"
            ],
            [
             0.4444444444444444,
             "#bd3786"
            ],
            [
             0.5555555555555556,
             "#d8576b"
            ],
            [
             0.6666666666666666,
             "#ed7953"
            ],
            [
             0.7777777777777778,
             "#fb9f3a"
            ],
            [
             0.8888888888888888,
             "#fdca26"
            ],
            [
             1,
             "#f0f921"
            ]
           ],
           "sequentialminus": [
            [
             0,
             "#0d0887"
            ],
            [
             0.1111111111111111,
             "#46039f"
            ],
            [
             0.2222222222222222,
             "#7201a8"
            ],
            [
             0.3333333333333333,
             "#9c179e"
            ],
            [
             0.4444444444444444,
             "#bd3786"
            ],
            [
             0.5555555555555556,
             "#d8576b"
            ],
            [
             0.6666666666666666,
             "#ed7953"
            ],
            [
             0.7777777777777778,
             "#fb9f3a"
            ],
            [
             0.8888888888888888,
             "#fdca26"
            ],
            [
             1,
             "#f0f921"
            ]
           ]
          },
          "colorway": [
           "#636efa",
           "#EF553B",
           "#00cc96",
           "#ab63fa",
           "#FFA15A",
           "#19d3f3",
           "#FF6692",
           "#B6E880",
           "#FF97FF",
           "#FECB52"
          ],
          "font": {
           "color": "#2a3f5f"
          },
          "geo": {
           "bgcolor": "white",
           "lakecolor": "white",
           "landcolor": "#E5ECF6",
           "showlakes": true,
           "showland": true,
           "subunitcolor": "white"
          },
          "hoverlabel": {
           "align": "left"
          },
          "hovermode": "closest",
          "mapbox": {
           "style": "light"
          },
          "paper_bgcolor": "white",
          "plot_bgcolor": "#E5ECF6",
          "polar": {
           "angularaxis": {
            "gridcolor": "white",
            "linecolor": "white",
            "ticks": ""
           },
           "bgcolor": "#E5ECF6",
           "radialaxis": {
            "gridcolor": "white",
            "linecolor": "white",
            "ticks": ""
           }
          },
          "scene": {
           "xaxis": {
            "backgroundcolor": "#E5ECF6",
            "gridcolor": "white",
            "gridwidth": 2,
            "linecolor": "white",
            "showbackground": true,
            "ticks": "",
            "zerolinecolor": "white"
           },
           "yaxis": {
            "backgroundcolor": "#E5ECF6",
            "gridcolor": "white",
            "gridwidth": 2,
            "linecolor": "white",
            "showbackground": true,
            "ticks": "",
            "zerolinecolor": "white"
           },
           "zaxis": {
            "backgroundcolor": "#E5ECF6",
            "gridcolor": "white",
            "gridwidth": 2,
            "linecolor": "white",
            "showbackground": true,
            "ticks": "",
            "zerolinecolor": "white"
           }
          },
          "shapedefaults": {
           "line": {
            "color": "#2a3f5f"
           }
          },
          "ternary": {
           "aaxis": {
            "gridcolor": "white",
            "linecolor": "white",
            "ticks": ""
           },
           "baxis": {
            "gridcolor": "white",
            "linecolor": "white",
            "ticks": ""
           },
           "bgcolor": "#E5ECF6",
           "caxis": {
            "gridcolor": "white",
            "linecolor": "white",
            "ticks": ""
           }
          },
          "title": {
           "x": 0.05
          },
          "xaxis": {
           "automargin": true,
           "gridcolor": "white",
           "linecolor": "white",
           "ticks": "",
           "title": {
            "standoff": 15
           },
           "zerolinecolor": "white",
           "zerolinewidth": 2
          },
          "yaxis": {
           "automargin": true,
           "gridcolor": "white",
           "linecolor": "white",
           "ticks": "",
           "title": {
            "standoff": 15
           },
           "zerolinecolor": "white",
           "zerolinewidth": 2
          }
         }
        },
        "title": {
         "text": "Number of Orders of different Customer Segments"
        },
        "width": 600
       }
      }
     },
     "metadata": {},
     "output_type": "display_data"
    }
   ],
   "source": [
    "#Customer Segments\n",
    "data_Customer_Segment=df_a.groupby(['Customer Segment'])['Order Id'].count().reset_index(name='Number of Orders').sort_values(by= 'Number of Orders', ascending= False)\n",
    "px.pie(data_Customer_Segment, values='Number of Orders', names= 'Customer Segment' , title= 'Number of Orders of different Customer Segments', \n",
    "       width=600 , height=600 , color_discrete_sequence = px.colors.sequential.RdBu)\n"
   ]
  },
  {
   "cell_type": "code",
   "execution_count": null,
   "metadata": {},
   "outputs": [],
   "source": []
  },
  {
   "cell_type": "code",
   "execution_count": 72,
   "metadata": {},
   "outputs": [
    {
     "name": "stderr",
     "output_type": "stream",
     "text": [
      "/var/folders/b7/jt29m60j4hd6pw18z289tgh40000gn/T/ipykernel_41967/2414915698.py:2: SettingWithCopyWarning:\n",
      "\n",
      "\n",
      "A value is trying to be set on a copy of a slice from a DataFrame\n",
      "\n",
      "See the caveats in the documentation: https://pandas.pydata.org/pandas-docs/stable/user_guide/indexing.html#returning-a-view-versus-a-copy\n",
      "\n"
     ]
    },
    {
     "data": {
      "text/html": [
       "<div>\n",
       "<style scoped>\n",
       "    .dataframe tbody tr th:only-of-type {\n",
       "        vertical-align: middle;\n",
       "    }\n",
       "\n",
       "    .dataframe tbody tr th {\n",
       "        vertical-align: top;\n",
       "    }\n",
       "\n",
       "    .dataframe thead th {\n",
       "        text-align: right;\n",
       "    }\n",
       "</style>\n",
       "<table border=\"1\" class=\"dataframe\">\n",
       "  <thead>\n",
       "    <tr style=\"text-align: right;\">\n",
       "      <th></th>\n",
       "      <th>Type</th>\n",
       "      <th>Delivery Status</th>\n",
       "      <th>Late_delivery_risk</th>\n",
       "      <th>Customer Country</th>\n",
       "      <th>Customer Segment</th>\n",
       "      <th>Customer State</th>\n",
       "      <th>Department Name</th>\n",
       "      <th>Latitude</th>\n",
       "      <th>Longitude</th>\n",
       "      <th>Market</th>\n",
       "      <th>Product Name</th>\n",
       "      <th>Shipping Mode</th>\n",
       "    </tr>\n",
       "  </thead>\n",
       "  <tbody>\n",
       "    <tr>\n",
       "      <th>0</th>\n",
       "      <td>DEBIT</td>\n",
       "      <td>Advance shipping</td>\n",
       "      <td>0</td>\n",
       "      <td>Puerto Rico</td>\n",
       "      <td>Consumer</td>\n",
       "      <td>PR</td>\n",
       "      <td>Fitness</td>\n",
       "      <td>18.251453</td>\n",
       "      <td>-66.037056</td>\n",
       "      <td>Pacific Asia</td>\n",
       "      <td>Smart watch</td>\n",
       "      <td>Standard Class</td>\n",
       "    </tr>\n",
       "    <tr>\n",
       "      <th>1</th>\n",
       "      <td>TRANSFER</td>\n",
       "      <td>Late delivery</td>\n",
       "      <td>1</td>\n",
       "      <td>Puerto Rico</td>\n",
       "      <td>Consumer</td>\n",
       "      <td>PR</td>\n",
       "      <td>Fitness</td>\n",
       "      <td>18.279451</td>\n",
       "      <td>-66.037064</td>\n",
       "      <td>Pacific Asia</td>\n",
       "      <td>Smart watch</td>\n",
       "      <td>Standard Class</td>\n",
       "    </tr>\n",
       "    <tr>\n",
       "      <th>2</th>\n",
       "      <td>CASH</td>\n",
       "      <td>Shipping on time</td>\n",
       "      <td>0</td>\n",
       "      <td>EE. UU.</td>\n",
       "      <td>Consumer</td>\n",
       "      <td>CA</td>\n",
       "      <td>Fitness</td>\n",
       "      <td>37.292233</td>\n",
       "      <td>-121.881279</td>\n",
       "      <td>Pacific Asia</td>\n",
       "      <td>Smart watch</td>\n",
       "      <td>Standard Class</td>\n",
       "    </tr>\n",
       "    <tr>\n",
       "      <th>3</th>\n",
       "      <td>DEBIT</td>\n",
       "      <td>Advance shipping</td>\n",
       "      <td>0</td>\n",
       "      <td>EE. UU.</td>\n",
       "      <td>Home Office</td>\n",
       "      <td>CA</td>\n",
       "      <td>Fitness</td>\n",
       "      <td>34.125946</td>\n",
       "      <td>-118.291016</td>\n",
       "      <td>Pacific Asia</td>\n",
       "      <td>Smart watch</td>\n",
       "      <td>Standard Class</td>\n",
       "    </tr>\n",
       "    <tr>\n",
       "      <th>4</th>\n",
       "      <td>PAYMENT</td>\n",
       "      <td>Advance shipping</td>\n",
       "      <td>0</td>\n",
       "      <td>Puerto Rico</td>\n",
       "      <td>Corporate</td>\n",
       "      <td>PR</td>\n",
       "      <td>Fitness</td>\n",
       "      <td>18.253769</td>\n",
       "      <td>-66.037048</td>\n",
       "      <td>Pacific Asia</td>\n",
       "      <td>Smart watch</td>\n",
       "      <td>Standard Class</td>\n",
       "    </tr>\n",
       "    <tr>\n",
       "      <th>...</th>\n",
       "      <td>...</td>\n",
       "      <td>...</td>\n",
       "      <td>...</td>\n",
       "      <td>...</td>\n",
       "      <td>...</td>\n",
       "      <td>...</td>\n",
       "      <td>...</td>\n",
       "      <td>...</td>\n",
       "      <td>...</td>\n",
       "      <td>...</td>\n",
       "      <td>...</td>\n",
       "      <td>...</td>\n",
       "    </tr>\n",
       "    <tr>\n",
       "      <th>180514</th>\n",
       "      <td>CASH</td>\n",
       "      <td>Shipping on time</td>\n",
       "      <td>0</td>\n",
       "      <td>EE. UU.</td>\n",
       "      <td>Home Office</td>\n",
       "      <td>NY</td>\n",
       "      <td>Fan Shop</td>\n",
       "      <td>40.640930</td>\n",
       "      <td>-73.942711</td>\n",
       "      <td>Pacific Asia</td>\n",
       "      <td>Field &amp; Stream Sportsman 16 Gun Fire Safe</td>\n",
       "      <td>Standard Class</td>\n",
       "    </tr>\n",
       "    <tr>\n",
       "      <th>180515</th>\n",
       "      <td>DEBIT</td>\n",
       "      <td>Late delivery</td>\n",
       "      <td>1</td>\n",
       "      <td>EE. UU.</td>\n",
       "      <td>Corporate</td>\n",
       "      <td>CA</td>\n",
       "      <td>Fan Shop</td>\n",
       "      <td>35.362545</td>\n",
       "      <td>-119.018700</td>\n",
       "      <td>Pacific Asia</td>\n",
       "      <td>Field &amp; Stream Sportsman 16 Gun Fire Safe</td>\n",
       "      <td>Second Class</td>\n",
       "    </tr>\n",
       "    <tr>\n",
       "      <th>180516</th>\n",
       "      <td>TRANSFER</td>\n",
       "      <td>Late delivery</td>\n",
       "      <td>1</td>\n",
       "      <td>EE. UU.</td>\n",
       "      <td>Corporate</td>\n",
       "      <td>CT</td>\n",
       "      <td>Fan Shop</td>\n",
       "      <td>41.629959</td>\n",
       "      <td>-72.967155</td>\n",
       "      <td>Pacific Asia</td>\n",
       "      <td>Field &amp; Stream Sportsman 16 Gun Fire Safe</td>\n",
       "      <td>Standard Class</td>\n",
       "    </tr>\n",
       "    <tr>\n",
       "      <th>180517</th>\n",
       "      <td>PAYMENT</td>\n",
       "      <td>Advance shipping</td>\n",
       "      <td>0</td>\n",
       "      <td>Puerto Rico</td>\n",
       "      <td>Consumer</td>\n",
       "      <td>PR</td>\n",
       "      <td>Fan Shop</td>\n",
       "      <td>18.213350</td>\n",
       "      <td>-66.370575</td>\n",
       "      <td>Pacific Asia</td>\n",
       "      <td>Field &amp; Stream Sportsman 16 Gun Fire Safe</td>\n",
       "      <td>Standard Class</td>\n",
       "    </tr>\n",
       "    <tr>\n",
       "      <th>180518</th>\n",
       "      <td>PAYMENT</td>\n",
       "      <td>Shipping on time</td>\n",
       "      <td>0</td>\n",
       "      <td>Puerto Rico</td>\n",
       "      <td>Consumer</td>\n",
       "      <td>PR</td>\n",
       "      <td>Fan Shop</td>\n",
       "      <td>18.290380</td>\n",
       "      <td>-66.370613</td>\n",
       "      <td>Pacific Asia</td>\n",
       "      <td>Field &amp; Stream Sportsman 16 Gun Fire Safe</td>\n",
       "      <td>Standard Class</td>\n",
       "    </tr>\n",
       "  </tbody>\n",
       "</table>\n",
       "<p>180519 rows × 12 columns</p>\n",
       "</div>"
      ],
      "text/plain": [
       "            Type   Delivery Status  Late_delivery_risk Customer Country  \\\n",
       "0          DEBIT  Advance shipping                   0      Puerto Rico   \n",
       "1       TRANSFER     Late delivery                   1      Puerto Rico   \n",
       "2           CASH  Shipping on time                   0          EE. UU.   \n",
       "3          DEBIT  Advance shipping                   0          EE. UU.   \n",
       "4        PAYMENT  Advance shipping                   0      Puerto Rico   \n",
       "...          ...               ...                 ...              ...   \n",
       "180514      CASH  Shipping on time                   0          EE. UU.   \n",
       "180515     DEBIT     Late delivery                   1          EE. UU.   \n",
       "180516  TRANSFER     Late delivery                   1          EE. UU.   \n",
       "180517   PAYMENT  Advance shipping                   0      Puerto Rico   \n",
       "180518   PAYMENT  Shipping on time                   0      Puerto Rico   \n",
       "\n",
       "       Customer Segment Customer State Department Name   Latitude   Longitude  \\\n",
       "0              Consumer             PR         Fitness  18.251453  -66.037056   \n",
       "1              Consumer             PR         Fitness  18.279451  -66.037064   \n",
       "2              Consumer             CA         Fitness  37.292233 -121.881279   \n",
       "3           Home Office             CA         Fitness  34.125946 -118.291016   \n",
       "4             Corporate             PR         Fitness  18.253769  -66.037048   \n",
       "...                 ...            ...             ...        ...         ...   \n",
       "180514      Home Office             NY        Fan Shop  40.640930  -73.942711   \n",
       "180515        Corporate             CA        Fan Shop  35.362545 -119.018700   \n",
       "180516        Corporate             CT        Fan Shop  41.629959  -72.967155   \n",
       "180517         Consumer             PR        Fan Shop  18.213350  -66.370575   \n",
       "180518         Consumer             PR        Fan Shop  18.290380  -66.370613   \n",
       "\n",
       "              Market                               Product Name  \\\n",
       "0       Pacific Asia                               Smart watch    \n",
       "1       Pacific Asia                               Smart watch    \n",
       "2       Pacific Asia                               Smart watch    \n",
       "3       Pacific Asia                               Smart watch    \n",
       "4       Pacific Asia                               Smart watch    \n",
       "...              ...                                        ...   \n",
       "180514  Pacific Asia  Field & Stream Sportsman 16 Gun Fire Safe   \n",
       "180515  Pacific Asia  Field & Stream Sportsman 16 Gun Fire Safe   \n",
       "180516  Pacific Asia  Field & Stream Sportsman 16 Gun Fire Safe   \n",
       "180517  Pacific Asia  Field & Stream Sportsman 16 Gun Fire Safe   \n",
       "180518  Pacific Asia  Field & Stream Sportsman 16 Gun Fire Safe   \n",
       "\n",
       "         Shipping Mode  \n",
       "0       Standard Class  \n",
       "1       Standard Class  \n",
       "2       Standard Class  \n",
       "3       Standard Class  \n",
       "4       Standard Class  \n",
       "...                ...  \n",
       "180514  Standard Class  \n",
       "180515    Second Class  \n",
       "180516  Standard Class  \n",
       "180517  Standard Class  \n",
       "180518  Standard Class  \n",
       "\n",
       "[180519 rows x 12 columns]"
      ]
     },
     "execution_count": 72,
     "metadata": {},
     "output_type": "execute_result"
    }
   ],
   "source": [
    "#preprocessing\n",
    "df_a.drop(['Days for shipping (real)', 'Days for shipment (scheduled)',\n",
    "       'Benefit per order', 'Sales per customer', 'Category Id', 'Category Name', 'Customer City',\n",
    "       'Customer Id', 'Customer Zipcode','Department Id', 'Order City', 'Order Country', 'Order Customer Id',\n",
    "       'order date (DateOrders)', 'Order Id', 'Order Item Cardprod Id',\n",
    "       'Order Item Discount', 'Order Item Discount Rate', 'Order Item Id',\n",
    "       'Order Item Product Price', 'Order Item Profit Ratio',\n",
    "       'Order Item Quantity', 'Sales', 'Order Item Total',\n",
    "       'Order Profit Per Order', 'Order Region', 'Order State', 'Order Status',\n",
    "       'Product Card Id', 'Product Category Id', 'Product Price',\n",
    "       'shipping date (DateOrders)'], axis=1, inplace=True)\n",
    "df_a"
   ]
  },
  {
   "cell_type": "code",
   "execution_count": 73,
   "metadata": {},
   "outputs": [
    {
     "name": "stderr",
     "output_type": "stream",
     "text": [
      "/var/folders/b7/jt29m60j4hd6pw18z289tgh40000gn/T/ipykernel_41967/1165201458.py:1: SettingWithCopyWarning:\n",
      "\n",
      "\n",
      "A value is trying to be set on a copy of a slice from a DataFrame\n",
      "\n",
      "See the caveats in the documentation: https://pandas.pydata.org/pandas-docs/stable/user_guide/indexing.html#returning-a-view-versus-a-copy\n",
      "\n"
     ]
    },
    {
     "data": {
      "text/html": [
       "<div>\n",
       "<style scoped>\n",
       "    .dataframe tbody tr th:only-of-type {\n",
       "        vertical-align: middle;\n",
       "    }\n",
       "\n",
       "    .dataframe tbody tr th {\n",
       "        vertical-align: top;\n",
       "    }\n",
       "\n",
       "    .dataframe thead th {\n",
       "        text-align: right;\n",
       "    }\n",
       "</style>\n",
       "<table border=\"1\" class=\"dataframe\">\n",
       "  <thead>\n",
       "    <tr style=\"text-align: right;\">\n",
       "      <th></th>\n",
       "      <th>Type</th>\n",
       "      <th>Delivery Status</th>\n",
       "      <th>Late_delivery_risk</th>\n",
       "      <th>Customer Country</th>\n",
       "      <th>Customer Segment</th>\n",
       "      <th>Customer State</th>\n",
       "      <th>Department Name</th>\n",
       "      <th>Market</th>\n",
       "      <th>Product Name</th>\n",
       "      <th>Shipping Mode</th>\n",
       "    </tr>\n",
       "  </thead>\n",
       "  <tbody>\n",
       "    <tr>\n",
       "      <th>0</th>\n",
       "      <td>DEBIT</td>\n",
       "      <td>Advance shipping</td>\n",
       "      <td>0</td>\n",
       "      <td>Puerto Rico</td>\n",
       "      <td>Consumer</td>\n",
       "      <td>PR</td>\n",
       "      <td>Fitness</td>\n",
       "      <td>Pacific Asia</td>\n",
       "      <td>Smart watch</td>\n",
       "      <td>Standard Class</td>\n",
       "    </tr>\n",
       "    <tr>\n",
       "      <th>1</th>\n",
       "      <td>TRANSFER</td>\n",
       "      <td>Late delivery</td>\n",
       "      <td>1</td>\n",
       "      <td>Puerto Rico</td>\n",
       "      <td>Consumer</td>\n",
       "      <td>PR</td>\n",
       "      <td>Fitness</td>\n",
       "      <td>Pacific Asia</td>\n",
       "      <td>Smart watch</td>\n",
       "      <td>Standard Class</td>\n",
       "    </tr>\n",
       "    <tr>\n",
       "      <th>2</th>\n",
       "      <td>CASH</td>\n",
       "      <td>Shipping on time</td>\n",
       "      <td>0</td>\n",
       "      <td>EE. UU.</td>\n",
       "      <td>Consumer</td>\n",
       "      <td>CA</td>\n",
       "      <td>Fitness</td>\n",
       "      <td>Pacific Asia</td>\n",
       "      <td>Smart watch</td>\n",
       "      <td>Standard Class</td>\n",
       "    </tr>\n",
       "    <tr>\n",
       "      <th>3</th>\n",
       "      <td>DEBIT</td>\n",
       "      <td>Advance shipping</td>\n",
       "      <td>0</td>\n",
       "      <td>EE. UU.</td>\n",
       "      <td>Home Office</td>\n",
       "      <td>CA</td>\n",
       "      <td>Fitness</td>\n",
       "      <td>Pacific Asia</td>\n",
       "      <td>Smart watch</td>\n",
       "      <td>Standard Class</td>\n",
       "    </tr>\n",
       "    <tr>\n",
       "      <th>4</th>\n",
       "      <td>PAYMENT</td>\n",
       "      <td>Advance shipping</td>\n",
       "      <td>0</td>\n",
       "      <td>Puerto Rico</td>\n",
       "      <td>Corporate</td>\n",
       "      <td>PR</td>\n",
       "      <td>Fitness</td>\n",
       "      <td>Pacific Asia</td>\n",
       "      <td>Smart watch</td>\n",
       "      <td>Standard Class</td>\n",
       "    </tr>\n",
       "    <tr>\n",
       "      <th>...</th>\n",
       "      <td>...</td>\n",
       "      <td>...</td>\n",
       "      <td>...</td>\n",
       "      <td>...</td>\n",
       "      <td>...</td>\n",
       "      <td>...</td>\n",
       "      <td>...</td>\n",
       "      <td>...</td>\n",
       "      <td>...</td>\n",
       "      <td>...</td>\n",
       "    </tr>\n",
       "    <tr>\n",
       "      <th>180514</th>\n",
       "      <td>CASH</td>\n",
       "      <td>Shipping on time</td>\n",
       "      <td>0</td>\n",
       "      <td>EE. UU.</td>\n",
       "      <td>Home Office</td>\n",
       "      <td>NY</td>\n",
       "      <td>Fan Shop</td>\n",
       "      <td>Pacific Asia</td>\n",
       "      <td>Field &amp; Stream Sportsman 16 Gun Fire Safe</td>\n",
       "      <td>Standard Class</td>\n",
       "    </tr>\n",
       "    <tr>\n",
       "      <th>180515</th>\n",
       "      <td>DEBIT</td>\n",
       "      <td>Late delivery</td>\n",
       "      <td>1</td>\n",
       "      <td>EE. UU.</td>\n",
       "      <td>Corporate</td>\n",
       "      <td>CA</td>\n",
       "      <td>Fan Shop</td>\n",
       "      <td>Pacific Asia</td>\n",
       "      <td>Field &amp; Stream Sportsman 16 Gun Fire Safe</td>\n",
       "      <td>Second Class</td>\n",
       "    </tr>\n",
       "    <tr>\n",
       "      <th>180516</th>\n",
       "      <td>TRANSFER</td>\n",
       "      <td>Late delivery</td>\n",
       "      <td>1</td>\n",
       "      <td>EE. UU.</td>\n",
       "      <td>Corporate</td>\n",
       "      <td>CT</td>\n",
       "      <td>Fan Shop</td>\n",
       "      <td>Pacific Asia</td>\n",
       "      <td>Field &amp; Stream Sportsman 16 Gun Fire Safe</td>\n",
       "      <td>Standard Class</td>\n",
       "    </tr>\n",
       "    <tr>\n",
       "      <th>180517</th>\n",
       "      <td>PAYMENT</td>\n",
       "      <td>Advance shipping</td>\n",
       "      <td>0</td>\n",
       "      <td>Puerto Rico</td>\n",
       "      <td>Consumer</td>\n",
       "      <td>PR</td>\n",
       "      <td>Fan Shop</td>\n",
       "      <td>Pacific Asia</td>\n",
       "      <td>Field &amp; Stream Sportsman 16 Gun Fire Safe</td>\n",
       "      <td>Standard Class</td>\n",
       "    </tr>\n",
       "    <tr>\n",
       "      <th>180518</th>\n",
       "      <td>PAYMENT</td>\n",
       "      <td>Shipping on time</td>\n",
       "      <td>0</td>\n",
       "      <td>Puerto Rico</td>\n",
       "      <td>Consumer</td>\n",
       "      <td>PR</td>\n",
       "      <td>Fan Shop</td>\n",
       "      <td>Pacific Asia</td>\n",
       "      <td>Field &amp; Stream Sportsman 16 Gun Fire Safe</td>\n",
       "      <td>Standard Class</td>\n",
       "    </tr>\n",
       "  </tbody>\n",
       "</table>\n",
       "<p>180519 rows × 10 columns</p>\n",
       "</div>"
      ],
      "text/plain": [
       "            Type   Delivery Status  Late_delivery_risk Customer Country  \\\n",
       "0          DEBIT  Advance shipping                   0      Puerto Rico   \n",
       "1       TRANSFER     Late delivery                   1      Puerto Rico   \n",
       "2           CASH  Shipping on time                   0          EE. UU.   \n",
       "3          DEBIT  Advance shipping                   0          EE. UU.   \n",
       "4        PAYMENT  Advance shipping                   0      Puerto Rico   \n",
       "...          ...               ...                 ...              ...   \n",
       "180514      CASH  Shipping on time                   0          EE. UU.   \n",
       "180515     DEBIT     Late delivery                   1          EE. UU.   \n",
       "180516  TRANSFER     Late delivery                   1          EE. UU.   \n",
       "180517   PAYMENT  Advance shipping                   0      Puerto Rico   \n",
       "180518   PAYMENT  Shipping on time                   0      Puerto Rico   \n",
       "\n",
       "       Customer Segment Customer State Department Name        Market  \\\n",
       "0              Consumer             PR         Fitness  Pacific Asia   \n",
       "1              Consumer             PR         Fitness  Pacific Asia   \n",
       "2              Consumer             CA         Fitness  Pacific Asia   \n",
       "3           Home Office             CA         Fitness  Pacific Asia   \n",
       "4             Corporate             PR         Fitness  Pacific Asia   \n",
       "...                 ...            ...             ...           ...   \n",
       "180514      Home Office             NY        Fan Shop  Pacific Asia   \n",
       "180515        Corporate             CA        Fan Shop  Pacific Asia   \n",
       "180516        Corporate             CT        Fan Shop  Pacific Asia   \n",
       "180517         Consumer             PR        Fan Shop  Pacific Asia   \n",
       "180518         Consumer             PR        Fan Shop  Pacific Asia   \n",
       "\n",
       "                                     Product Name   Shipping Mode  \n",
       "0                                    Smart watch   Standard Class  \n",
       "1                                    Smart watch   Standard Class  \n",
       "2                                    Smart watch   Standard Class  \n",
       "3                                    Smart watch   Standard Class  \n",
       "4                                    Smart watch   Standard Class  \n",
       "...                                           ...             ...  \n",
       "180514  Field & Stream Sportsman 16 Gun Fire Safe  Standard Class  \n",
       "180515  Field & Stream Sportsman 16 Gun Fire Safe    Second Class  \n",
       "180516  Field & Stream Sportsman 16 Gun Fire Safe  Standard Class  \n",
       "180517  Field & Stream Sportsman 16 Gun Fire Safe  Standard Class  \n",
       "180518  Field & Stream Sportsman 16 Gun Fire Safe  Standard Class  \n",
       "\n",
       "[180519 rows x 10 columns]"
      ]
     },
     "execution_count": 73,
     "metadata": {},
     "output_type": "execute_result"
    }
   ],
   "source": [
    "df_a.drop(['Latitude','Longitude'], axis=1, inplace=True)\n",
    "df_a"
   ]
  },
  {
   "cell_type": "code",
   "execution_count": 55,
   "metadata": {},
   "outputs": [
    {
     "data": {
      "text/html": [
       "<div>\n",
       "<style scoped>\n",
       "    .dataframe tbody tr th:only-of-type {\n",
       "        vertical-align: middle;\n",
       "    }\n",
       "\n",
       "    .dataframe tbody tr th {\n",
       "        vertical-align: top;\n",
       "    }\n",
       "\n",
       "    .dataframe thead th {\n",
       "        text-align: right;\n",
       "    }\n",
       "</style>\n",
       "<table border=\"1\" class=\"dataframe\">\n",
       "  <thead>\n",
       "    <tr style=\"text-align: right;\">\n",
       "      <th></th>\n",
       "      <th>Late_delivery_risk</th>\n",
       "      <th>Type_CASH</th>\n",
       "      <th>Type_DEBIT</th>\n",
       "      <th>Type_PAYMENT</th>\n",
       "      <th>Type_TRANSFER</th>\n",
       "      <th>Delivery Status_Advance shipping</th>\n",
       "      <th>Delivery Status_Late delivery</th>\n",
       "      <th>Delivery Status_Shipping canceled</th>\n",
       "      <th>Delivery Status_Shipping on time</th>\n",
       "      <th>Customer Country_EE. UU.</th>\n",
       "      <th>...</th>\n",
       "      <th>Product Name_adidas Brazuca 2014 Official Match Ball</th>\n",
       "      <th>Product Name_adidas Kids' F5 Messi FG Soccer Cleat</th>\n",
       "      <th>Product Name_adidas Men's F10 Messi TRX FG Soccer Cleat</th>\n",
       "      <th>Product Name_adidas Men's Germany Black Crest Away Tee</th>\n",
       "      <th>Product Name_adidas Youth Germany Black/Red Away Match Soc</th>\n",
       "      <th>Product Name_insta-bed Neverflat Air Mattress</th>\n",
       "      <th>Shipping Mode_First Class</th>\n",
       "      <th>Shipping Mode_Same Day</th>\n",
       "      <th>Shipping Mode_Second Class</th>\n",
       "      <th>Shipping Mode_Standard Class</th>\n",
       "    </tr>\n",
       "  </thead>\n",
       "  <tbody>\n",
       "    <tr>\n",
       "      <th>0</th>\n",
       "      <td>0</td>\n",
       "      <td>0</td>\n",
       "      <td>1</td>\n",
       "      <td>0</td>\n",
       "      <td>0</td>\n",
       "      <td>1</td>\n",
       "      <td>0</td>\n",
       "      <td>0</td>\n",
       "      <td>0</td>\n",
       "      <td>0</td>\n",
       "      <td>...</td>\n",
       "      <td>0</td>\n",
       "      <td>0</td>\n",
       "      <td>0</td>\n",
       "      <td>0</td>\n",
       "      <td>0</td>\n",
       "      <td>0</td>\n",
       "      <td>0</td>\n",
       "      <td>0</td>\n",
       "      <td>0</td>\n",
       "      <td>1</td>\n",
       "    </tr>\n",
       "    <tr>\n",
       "      <th>1</th>\n",
       "      <td>1</td>\n",
       "      <td>0</td>\n",
       "      <td>0</td>\n",
       "      <td>0</td>\n",
       "      <td>1</td>\n",
       "      <td>0</td>\n",
       "      <td>1</td>\n",
       "      <td>0</td>\n",
       "      <td>0</td>\n",
       "      <td>0</td>\n",
       "      <td>...</td>\n",
       "      <td>0</td>\n",
       "      <td>0</td>\n",
       "      <td>0</td>\n",
       "      <td>0</td>\n",
       "      <td>0</td>\n",
       "      <td>0</td>\n",
       "      <td>0</td>\n",
       "      <td>0</td>\n",
       "      <td>0</td>\n",
       "      <td>1</td>\n",
       "    </tr>\n",
       "    <tr>\n",
       "      <th>2</th>\n",
       "      <td>0</td>\n",
       "      <td>1</td>\n",
       "      <td>0</td>\n",
       "      <td>0</td>\n",
       "      <td>0</td>\n",
       "      <td>0</td>\n",
       "      <td>0</td>\n",
       "      <td>0</td>\n",
       "      <td>1</td>\n",
       "      <td>1</td>\n",
       "      <td>...</td>\n",
       "      <td>0</td>\n",
       "      <td>0</td>\n",
       "      <td>0</td>\n",
       "      <td>0</td>\n",
       "      <td>0</td>\n",
       "      <td>0</td>\n",
       "      <td>0</td>\n",
       "      <td>0</td>\n",
       "      <td>0</td>\n",
       "      <td>1</td>\n",
       "    </tr>\n",
       "    <tr>\n",
       "      <th>3</th>\n",
       "      <td>0</td>\n",
       "      <td>0</td>\n",
       "      <td>1</td>\n",
       "      <td>0</td>\n",
       "      <td>0</td>\n",
       "      <td>1</td>\n",
       "      <td>0</td>\n",
       "      <td>0</td>\n",
       "      <td>0</td>\n",
       "      <td>1</td>\n",
       "      <td>...</td>\n",
       "      <td>0</td>\n",
       "      <td>0</td>\n",
       "      <td>0</td>\n",
       "      <td>0</td>\n",
       "      <td>0</td>\n",
       "      <td>0</td>\n",
       "      <td>0</td>\n",
       "      <td>0</td>\n",
       "      <td>0</td>\n",
       "      <td>1</td>\n",
       "    </tr>\n",
       "    <tr>\n",
       "      <th>4</th>\n",
       "      <td>0</td>\n",
       "      <td>0</td>\n",
       "      <td>0</td>\n",
       "      <td>1</td>\n",
       "      <td>0</td>\n",
       "      <td>1</td>\n",
       "      <td>0</td>\n",
       "      <td>0</td>\n",
       "      <td>0</td>\n",
       "      <td>0</td>\n",
       "      <td>...</td>\n",
       "      <td>0</td>\n",
       "      <td>0</td>\n",
       "      <td>0</td>\n",
       "      <td>0</td>\n",
       "      <td>0</td>\n",
       "      <td>0</td>\n",
       "      <td>0</td>\n",
       "      <td>0</td>\n",
       "      <td>0</td>\n",
       "      <td>1</td>\n",
       "    </tr>\n",
       "    <tr>\n",
       "      <th>...</th>\n",
       "      <td>...</td>\n",
       "      <td>...</td>\n",
       "      <td>...</td>\n",
       "      <td>...</td>\n",
       "      <td>...</td>\n",
       "      <td>...</td>\n",
       "      <td>...</td>\n",
       "      <td>...</td>\n",
       "      <td>...</td>\n",
       "      <td>...</td>\n",
       "      <td>...</td>\n",
       "      <td>...</td>\n",
       "      <td>...</td>\n",
       "      <td>...</td>\n",
       "      <td>...</td>\n",
       "      <td>...</td>\n",
       "      <td>...</td>\n",
       "      <td>...</td>\n",
       "      <td>...</td>\n",
       "      <td>...</td>\n",
       "      <td>...</td>\n",
       "    </tr>\n",
       "    <tr>\n",
       "      <th>180514</th>\n",
       "      <td>0</td>\n",
       "      <td>1</td>\n",
       "      <td>0</td>\n",
       "      <td>0</td>\n",
       "      <td>0</td>\n",
       "      <td>0</td>\n",
       "      <td>0</td>\n",
       "      <td>0</td>\n",
       "      <td>1</td>\n",
       "      <td>1</td>\n",
       "      <td>...</td>\n",
       "      <td>0</td>\n",
       "      <td>0</td>\n",
       "      <td>0</td>\n",
       "      <td>0</td>\n",
       "      <td>0</td>\n",
       "      <td>0</td>\n",
       "      <td>0</td>\n",
       "      <td>0</td>\n",
       "      <td>0</td>\n",
       "      <td>1</td>\n",
       "    </tr>\n",
       "    <tr>\n",
       "      <th>180515</th>\n",
       "      <td>1</td>\n",
       "      <td>0</td>\n",
       "      <td>1</td>\n",
       "      <td>0</td>\n",
       "      <td>0</td>\n",
       "      <td>0</td>\n",
       "      <td>1</td>\n",
       "      <td>0</td>\n",
       "      <td>0</td>\n",
       "      <td>1</td>\n",
       "      <td>...</td>\n",
       "      <td>0</td>\n",
       "      <td>0</td>\n",
       "      <td>0</td>\n",
       "      <td>0</td>\n",
       "      <td>0</td>\n",
       "      <td>0</td>\n",
       "      <td>0</td>\n",
       "      <td>0</td>\n",
       "      <td>1</td>\n",
       "      <td>0</td>\n",
       "    </tr>\n",
       "    <tr>\n",
       "      <th>180516</th>\n",
       "      <td>1</td>\n",
       "      <td>0</td>\n",
       "      <td>0</td>\n",
       "      <td>0</td>\n",
       "      <td>1</td>\n",
       "      <td>0</td>\n",
       "      <td>1</td>\n",
       "      <td>0</td>\n",
       "      <td>0</td>\n",
       "      <td>1</td>\n",
       "      <td>...</td>\n",
       "      <td>0</td>\n",
       "      <td>0</td>\n",
       "      <td>0</td>\n",
       "      <td>0</td>\n",
       "      <td>0</td>\n",
       "      <td>0</td>\n",
       "      <td>0</td>\n",
       "      <td>0</td>\n",
       "      <td>0</td>\n",
       "      <td>1</td>\n",
       "    </tr>\n",
       "    <tr>\n",
       "      <th>180517</th>\n",
       "      <td>0</td>\n",
       "      <td>0</td>\n",
       "      <td>0</td>\n",
       "      <td>1</td>\n",
       "      <td>0</td>\n",
       "      <td>1</td>\n",
       "      <td>0</td>\n",
       "      <td>0</td>\n",
       "      <td>0</td>\n",
       "      <td>0</td>\n",
       "      <td>...</td>\n",
       "      <td>0</td>\n",
       "      <td>0</td>\n",
       "      <td>0</td>\n",
       "      <td>0</td>\n",
       "      <td>0</td>\n",
       "      <td>0</td>\n",
       "      <td>0</td>\n",
       "      <td>0</td>\n",
       "      <td>0</td>\n",
       "      <td>1</td>\n",
       "    </tr>\n",
       "    <tr>\n",
       "      <th>180518</th>\n",
       "      <td>0</td>\n",
       "      <td>0</td>\n",
       "      <td>0</td>\n",
       "      <td>1</td>\n",
       "      <td>0</td>\n",
       "      <td>0</td>\n",
       "      <td>0</td>\n",
       "      <td>0</td>\n",
       "      <td>1</td>\n",
       "      <td>0</td>\n",
       "      <td>...</td>\n",
       "      <td>0</td>\n",
       "      <td>0</td>\n",
       "      <td>0</td>\n",
       "      <td>0</td>\n",
       "      <td>0</td>\n",
       "      <td>0</td>\n",
       "      <td>0</td>\n",
       "      <td>0</td>\n",
       "      <td>0</td>\n",
       "      <td>1</td>\n",
       "    </tr>\n",
       "  </tbody>\n",
       "</table>\n",
       "<p>180519 rows × 198 columns</p>\n",
       "</div>"
      ],
      "text/plain": [
       "        Late_delivery_risk  Type_CASH  Type_DEBIT  Type_PAYMENT  \\\n",
       "0                        0          0           1             0   \n",
       "1                        1          0           0             0   \n",
       "2                        0          1           0             0   \n",
       "3                        0          0           1             0   \n",
       "4                        0          0           0             1   \n",
       "...                    ...        ...         ...           ...   \n",
       "180514                   0          1           0             0   \n",
       "180515                   1          0           1             0   \n",
       "180516                   1          0           0             0   \n",
       "180517                   0          0           0             1   \n",
       "180518                   0          0           0             1   \n",
       "\n",
       "        Type_TRANSFER  Delivery Status_Advance shipping  \\\n",
       "0                   0                                 1   \n",
       "1                   1                                 0   \n",
       "2                   0                                 0   \n",
       "3                   0                                 1   \n",
       "4                   0                                 1   \n",
       "...               ...                               ...   \n",
       "180514              0                                 0   \n",
       "180515              0                                 0   \n",
       "180516              1                                 0   \n",
       "180517              0                                 1   \n",
       "180518              0                                 0   \n",
       "\n",
       "        Delivery Status_Late delivery  Delivery Status_Shipping canceled  \\\n",
       "0                                   0                                  0   \n",
       "1                                   1                                  0   \n",
       "2                                   0                                  0   \n",
       "3                                   0                                  0   \n",
       "4                                   0                                  0   \n",
       "...                               ...                                ...   \n",
       "180514                              0                                  0   \n",
       "180515                              1                                  0   \n",
       "180516                              1                                  0   \n",
       "180517                              0                                  0   \n",
       "180518                              0                                  0   \n",
       "\n",
       "        Delivery Status_Shipping on time  Customer Country_EE. UU.  ...  \\\n",
       "0                                      0                         0  ...   \n",
       "1                                      0                         0  ...   \n",
       "2                                      1                         1  ...   \n",
       "3                                      0                         1  ...   \n",
       "4                                      0                         0  ...   \n",
       "...                                  ...                       ...  ...   \n",
       "180514                                 1                         1  ...   \n",
       "180515                                 0                         1  ...   \n",
       "180516                                 0                         1  ...   \n",
       "180517                                 0                         0  ...   \n",
       "180518                                 1                         0  ...   \n",
       "\n",
       "        Product Name_adidas Brazuca 2014 Official Match Ball  \\\n",
       "0                                                       0      \n",
       "1                                                       0      \n",
       "2                                                       0      \n",
       "3                                                       0      \n",
       "4                                                       0      \n",
       "...                                                   ...      \n",
       "180514                                                  0      \n",
       "180515                                                  0      \n",
       "180516                                                  0      \n",
       "180517                                                  0      \n",
       "180518                                                  0      \n",
       "\n",
       "        Product Name_adidas Kids' F5 Messi FG Soccer Cleat  \\\n",
       "0                                                       0    \n",
       "1                                                       0    \n",
       "2                                                       0    \n",
       "3                                                       0    \n",
       "4                                                       0    \n",
       "...                                                   ...    \n",
       "180514                                                  0    \n",
       "180515                                                  0    \n",
       "180516                                                  0    \n",
       "180517                                                  0    \n",
       "180518                                                  0    \n",
       "\n",
       "        Product Name_adidas Men's F10 Messi TRX FG Soccer Cleat  \\\n",
       "0                                                       0         \n",
       "1                                                       0         \n",
       "2                                                       0         \n",
       "3                                                       0         \n",
       "4                                                       0         \n",
       "...                                                   ...         \n",
       "180514                                                  0         \n",
       "180515                                                  0         \n",
       "180516                                                  0         \n",
       "180517                                                  0         \n",
       "180518                                                  0         \n",
       "\n",
       "        Product Name_adidas Men's Germany Black Crest Away Tee  \\\n",
       "0                                                       0        \n",
       "1                                                       0        \n",
       "2                                                       0        \n",
       "3                                                       0        \n",
       "4                                                       0        \n",
       "...                                                   ...        \n",
       "180514                                                  0        \n",
       "180515                                                  0        \n",
       "180516                                                  0        \n",
       "180517                                                  0        \n",
       "180518                                                  0        \n",
       "\n",
       "        Product Name_adidas Youth Germany Black/Red Away Match Soc  \\\n",
       "0                                                       0            \n",
       "1                                                       0            \n",
       "2                                                       0            \n",
       "3                                                       0            \n",
       "4                                                       0            \n",
       "...                                                   ...            \n",
       "180514                                                  0            \n",
       "180515                                                  0            \n",
       "180516                                                  0            \n",
       "180517                                                  0            \n",
       "180518                                                  0            \n",
       "\n",
       "        Product Name_insta-bed Neverflat Air Mattress  \\\n",
       "0                                                   0   \n",
       "1                                                   0   \n",
       "2                                                   0   \n",
       "3                                                   0   \n",
       "4                                                   0   \n",
       "...                                               ...   \n",
       "180514                                              0   \n",
       "180515                                              0   \n",
       "180516                                              0   \n",
       "180517                                              0   \n",
       "180518                                              0   \n",
       "\n",
       "        Shipping Mode_First Class  Shipping Mode_Same Day  \\\n",
       "0                               0                       0   \n",
       "1                               0                       0   \n",
       "2                               0                       0   \n",
       "3                               0                       0   \n",
       "4                               0                       0   \n",
       "...                           ...                     ...   \n",
       "180514                          0                       0   \n",
       "180515                          0                       0   \n",
       "180516                          0                       0   \n",
       "180517                          0                       0   \n",
       "180518                          0                       0   \n",
       "\n",
       "        Shipping Mode_Second Class  Shipping Mode_Standard Class  \n",
       "0                                0                             1  \n",
       "1                                0                             1  \n",
       "2                                0                             1  \n",
       "3                                0                             1  \n",
       "4                                0                             1  \n",
       "...                            ...                           ...  \n",
       "180514                           0                             1  \n",
       "180515                           1                             0  \n",
       "180516                           0                             1  \n",
       "180517                           0                             1  \n",
       "180518                           0                             1  \n",
       "\n",
       "[180519 rows x 198 columns]"
      ]
     },
     "execution_count": 55,
     "metadata": {},
     "output_type": "execute_result"
    }
   ],
   "source": [
    "# Convert categorical data to numeric with `pd.get_dummies`\n",
    "dummied_df= pd.get_dummies(df_a)\n",
    "dummied_df"
   ]
  },
  {
   "cell_type": "code",
   "execution_count": 28,
   "metadata": {},
   "outputs": [],
   "source": [
    "from sklearn.model_selection import train_test_split\n",
    "from sklearn.preprocessing import StandardScaler"
   ]
  },
  {
   "cell_type": "code",
   "execution_count": 30,
   "metadata": {},
   "outputs": [],
   "source": [
    "# Split our preprocessed data into our features and target arrays\n",
    "y=dummied_df[\"Late_delivery_risk\"]\n",
    "x=dummied_df.drop([\"Late_delivery_risk\"], axis=1)\n",
    "\n",
    "# Split the preprocessed data into a training and testing dataset\n",
    "X_train, X_test, y_train, y_test = train_test_split(x, y, random_state=78)"
   ]
  },
  {
   "cell_type": "code",
   "execution_count": 31,
   "metadata": {},
   "outputs": [],
   "source": [
    "# Create a StandardScaler instances\n",
    "scaler = StandardScaler()\n",
    "\n",
    "# Fit the StandardScaler\n",
    "X_scaler = scaler.fit(X_train)\n",
    "\n",
    "# Scale the data\n",
    "X_train_scaled = X_scaler.transform(X_train)\n",
    "X_test_scaled = X_scaler.transform(X_test)"
   ]
  },
  {
   "cell_type": "code",
   "execution_count": 32,
   "metadata": {},
   "outputs": [
    {
     "name": "stderr",
     "output_type": "stream",
     "text": [
      "2023-10-16 19:13:00.781666: I tensorflow/core/platform/cpu_feature_guard.cc:193] This TensorFlow binary is optimized with oneAPI Deep Neural Network Library (oneDNN) to use the following CPU instructions in performance-critical operations:  SSE4.1 SSE4.2 AVX AVX2 FMA\n",
      "To enable them in other operations, rebuild TensorFlow with the appropriate compiler flags.\n"
     ]
    }
   ],
   "source": [
    "#Compile, train, and test\n",
    "import tensorflow as tf"
   ]
  },
  {
   "cell_type": "code",
   "execution_count": 33,
   "metadata": {},
   "outputs": [
    {
     "name": "stderr",
     "output_type": "stream",
     "text": [
      "2023-10-16 19:14:16.407406: I tensorflow/core/platform/cpu_feature_guard.cc:193] This TensorFlow binary is optimized with oneAPI Deep Neural Network Library (oneDNN) to use the following CPU instructions in performance-critical operations:  SSE4.1 SSE4.2 AVX AVX2 FMA\n",
      "To enable them in other operations, rebuild TensorFlow with the appropriate compiler flags.\n"
     ]
    },
    {
     "name": "stdout",
     "output_type": "stream",
     "text": [
      "Model: \"sequential\"\n",
      "_________________________________________________________________\n",
      " Layer (type)                Output Shape              Param #   \n",
      "=================================================================\n",
      " dense (Dense)               (None, 9)                 1782      \n",
      "                                                                 \n",
      " dense_1 (Dense)             (None, 18)                180       \n",
      "                                                                 \n",
      " dense_2 (Dense)             (None, 1)                 19        \n",
      "                                                                 \n",
      "=================================================================\n",
      "Total params: 1,981\n",
      "Trainable params: 1,981\n",
      "Non-trainable params: 0\n",
      "_________________________________________________________________\n"
     ]
    }
   ],
   "source": [
    "# Define the model - deep neural net, i.e., the number of input features and hidden nodes for each layer.\n",
    "number_input_features = len(X_train_scaled[0])\n",
    "hidden_nodes_layer1 = 9\n",
    "hidden_nodes_layer2 = 18\n",
    "\n",
    "nn = tf.keras.models.Sequential()\n",
    "\n",
    "# First hidden layer\n",
    "nn.add(tf.keras.layers.Dense(units=hidden_nodes_layer1, input_dim=number_input_features, activation=\"relu\"))\n",
    "\n",
    "# Second hidden layer\n",
    "nn.add(tf.keras.layers.Dense(units=hidden_nodes_layer2, activation=\"relu\"))\n",
    "\n",
    "# Output layer\n",
    "nn.add(tf.keras.layers.Dense(units=1, activation=\"sigmoid\"))\n",
    "\n",
    "# Check the structure of the model\n",
    "nn.summary()"
   ]
  },
  {
   "cell_type": "code",
   "execution_count": 34,
   "metadata": {},
   "outputs": [],
   "source": [
    "#Compile the model\n",
    "nn.compile(loss=\"binary_crossentropy\", optimizer=\"adam\", metrics=[\"accuracy\"])\n"
   ]
  },
  {
   "cell_type": "code",
   "execution_count": 35,
   "metadata": {},
   "outputs": [
    {
     "name": "stdout",
     "output_type": "stream",
     "text": [
      "Epoch 1/100\n",
      "4231/4231 [==============================] - 20s 4ms/step - loss: 0.0416 - accuracy: 0.9834\n",
      "Epoch 2/100\n",
      "4231/4231 [==============================] - 17s 4ms/step - loss: 0.0040 - accuracy: 0.9981\n",
      "Epoch 3/100\n",
      "4231/4231 [==============================] - 18s 4ms/step - loss: 0.0033 - accuracy: 0.9983\n",
      "Epoch 4/100\n",
      "4231/4231 [==============================] - 18s 4ms/step - loss: 0.0024 - accuracy: 0.9984\n",
      "Epoch 5/100\n",
      "4231/4231 [==============================] - 17s 4ms/step - loss: 0.0021 - accuracy: 0.9987\n",
      "Epoch 6/100\n",
      "4231/4231 [==============================] - 17s 4ms/step - loss: 0.0020 - accuracy: 0.9987\n",
      "Epoch 7/100\n",
      "4231/4231 [==============================] - 15s 4ms/step - loss: 0.0034 - accuracy: 0.9987\n",
      "Epoch 8/100\n",
      "4231/4231 [==============================] - 16s 4ms/step - loss: 5.2972e-04 - accuracy: 0.9999\n",
      "Epoch 9/100\n",
      "4231/4231 [==============================] - 16s 4ms/step - loss: 1.4897e-04 - accuracy: 1.0000\n",
      "Epoch 10/100\n",
      "4231/4231 [==============================] - 17s 4ms/step - loss: 3.6205e-05 - accuracy: 1.0000\n",
      "Epoch 11/100\n",
      "4231/4231 [==============================] - 15s 4ms/step - loss: 4.7691e-06 - accuracy: 1.0000\n",
      "Epoch 12/100\n",
      "4231/4231 [==============================] - 15s 4ms/step - loss: 3.1340e-06 - accuracy: 1.0000\n",
      "Epoch 13/100\n",
      "4231/4231 [==============================] - 18s 4ms/step - loss: 2.2794e-07 - accuracy: 1.0000\n",
      "Epoch 14/100\n",
      "4231/4231 [==============================] - 17s 4ms/step - loss: 6.5588e-07 - accuracy: 1.0000\n",
      "Epoch 15/100\n",
      "4231/4231 [==============================] - 19s 4ms/step - loss: 3.9519e-08 - accuracy: 1.0000\n",
      "Epoch 16/100\n",
      "4231/4231 [==============================] - 17s 4ms/step - loss: 4.8730e-06 - accuracy: 1.0000\n",
      "Epoch 17/100\n",
      "4231/4231 [==============================] - 17s 4ms/step - loss: 1.5809e-08 - accuracy: 1.0000\n",
      "Epoch 18/100\n",
      "4231/4231 [==============================] - 18s 4ms/step - loss: 7.0233e-09 - accuracy: 1.0000\n",
      "Epoch 19/100\n",
      "4231/4231 [==============================] - 18s 4ms/step - loss: 5.3202e-09 - accuracy: 1.0000\n",
      "Epoch 20/100\n",
      "4231/4231 [==============================] - 16s 4ms/step - loss: 1.7651e-09 - accuracy: 1.0000\n",
      "Epoch 21/100\n",
      "4231/4231 [==============================] - 17s 4ms/step - loss: 2.5919e-09 - accuracy: 1.0000\n",
      "Epoch 22/100\n",
      "4231/4231 [==============================] - 17s 4ms/step - loss: 2.5645e-10 - accuracy: 1.0000\n",
      "Epoch 23/100\n",
      "4231/4231 [==============================] - 17s 4ms/step - loss: 2.0427e-10 - accuracy: 1.0000\n",
      "Epoch 24/100\n",
      "4231/4231 [==============================] - 22s 5ms/step - loss: 1.6543e-10 - accuracy: 1.0000\n",
      "Epoch 25/100\n",
      "4231/4231 [==============================] - 24s 6ms/step - loss: 1.4278e-10 - accuracy: 1.0000\n",
      "Epoch 26/100\n",
      "4231/4231 [==============================] - 19s 5ms/step - loss: 1.3523e-10 - accuracy: 1.0000\n",
      "Epoch 27/100\n",
      "4231/4231 [==============================] - 22s 5ms/step - loss: 9.9337e-11 - accuracy: 1.0000\n",
      "Epoch 28/100\n",
      "4231/4231 [==============================] - 21s 5ms/step - loss: 8.9778e-11 - accuracy: 1.0000\n",
      "Epoch 29/100\n",
      "4231/4231 [==============================] - 22s 5ms/step - loss: 8.0518e-11 - accuracy: 1.0000\n",
      "Epoch 30/100\n",
      "4231/4231 [==============================] - 24s 6ms/step - loss: 7.2796e-11 - accuracy: 1.0000\n",
      "Epoch 31/100\n",
      "4231/4231 [==============================] - 29s 7ms/step - loss: 6.8890e-11 - accuracy: 1.0000\n",
      "Epoch 32/100\n",
      "4231/4231 [==============================] - 32s 8ms/step - loss: 6.0378e-11 - accuracy: 1.0000\n",
      "Epoch 33/100\n",
      "4231/4231 [==============================] - 23s 5ms/step - loss: 5.6741e-11 - accuracy: 1.0000\n",
      "Epoch 34/100\n",
      "4231/4231 [==============================] - 23s 5ms/step - loss: 5.3005e-11 - accuracy: 1.0000\n",
      "Epoch 35/100\n",
      "4231/4231 [==============================] - 23s 5ms/step - loss: 5.0703e-11 - accuracy: 1.0000\n",
      "Epoch 36/100\n",
      "4231/4231 [==============================] - 24s 6ms/step - loss: 4.6472e-11 - accuracy: 1.0000\n",
      "Epoch 37/100\n",
      "4231/4231 [==============================] - 17s 4ms/step - loss: 4.4276e-11 - accuracy: 1.0000\n",
      "Epoch 38/100\n",
      "4231/4231 [==============================] - 14s 3ms/step - loss: 4.1503e-11 - accuracy: 1.0000\n",
      "Epoch 39/100\n",
      "4231/4231 [==============================] - 15s 4ms/step - loss: 3.9646e-11 - accuracy: 1.0000\n",
      "Epoch 40/100\n",
      "4231/4231 [==============================] - 17s 4ms/step - loss: 3.7484e-11 - accuracy: 1.0000\n",
      "Epoch 41/100\n",
      "4231/4231 [==============================] - 16s 4ms/step - loss: 3.5841e-11 - accuracy: 1.0000\n",
      "Epoch 42/100\n",
      "4231/4231 [==============================] - 15s 3ms/step - loss: 3.4605e-11 - accuracy: 1.0000\n",
      "Epoch 43/100\n",
      "4231/4231 [==============================] - 15s 3ms/step - loss: 3.3378e-11 - accuracy: 1.0000\n",
      "Epoch 44/100\n",
      "4231/4231 [==============================] - 15s 3ms/step - loss: 3.1798e-11 - accuracy: 1.0000\n",
      "Epoch 45/100\n",
      "4231/4231 [==============================] - 17s 4ms/step - loss: 3.0749e-11 - accuracy: 1.0000\n",
      "Epoch 46/100\n",
      "4231/4231 [==============================] - 15s 4ms/step - loss: 2.9440e-11 - accuracy: 1.0000\n",
      "Epoch 47/100\n",
      "4231/4231 [==============================] - 20s 5ms/step - loss: 2.8431e-11 - accuracy: 1.0000\n",
      "Epoch 48/100\n",
      "4231/4231 [==============================] - 33s 8ms/step - loss: 2.7863e-11 - accuracy: 1.0000\n",
      "Epoch 49/100\n",
      "4231/4231 [==============================] - 22s 5ms/step - loss: 2.6689e-11 - accuracy: 1.0000\n",
      "Epoch 50/100\n",
      "4231/4231 [==============================] - 22s 5ms/step - loss: 2.5924e-11 - accuracy: 1.0000\n",
      "Epoch 51/100\n",
      "4231/4231 [==============================] - 18s 4ms/step - loss: 2.5471e-11 - accuracy: 1.0000\n",
      "Epoch 52/100\n",
      "4231/4231 [==============================] - 30s 7ms/step - loss: 2.4291e-11 - accuracy: 1.0000\n",
      "Epoch 53/100\n",
      "4231/4231 [==============================] - 34s 8ms/step - loss: 2.3657e-11 - accuracy: 1.0000\n",
      "Epoch 54/100\n",
      "4231/4231 [==============================] - 40s 9ms/step - loss: 2.3220e-11 - accuracy: 1.0000\n",
      "Epoch 55/100\n",
      "4231/4231 [==============================] - 37s 9ms/step - loss: 2.2542e-11 - accuracy: 1.0000\n",
      "Epoch 56/100\n",
      "4231/4231 [==============================] - 29s 7ms/step - loss: 2.1859e-11 - accuracy: 1.0000\n",
      "Epoch 57/100\n",
      "4231/4231 [==============================] - 41s 10ms/step - loss: 2.1416e-11 - accuracy: 1.0000\n",
      "Epoch 58/100\n",
      "4231/4231 [==============================] - 32s 8ms/step - loss: 2.0883e-11 - accuracy: 1.0000\n",
      "Epoch 59/100\n",
      "4231/4231 [==============================] - 51s 12ms/step - loss: 2.0460e-11 - accuracy: 1.0000\n",
      "Epoch 60/100\n",
      "4231/4231 [==============================] - 32s 8ms/step - loss: 1.9908e-11 - accuracy: 1.0000\n",
      "Epoch 61/100\n",
      "4231/4231 [==============================] - 39s 9ms/step - loss: 1.9555e-11 - accuracy: 1.0000\n",
      "Epoch 62/100\n",
      "4231/4231 [==============================] - 35s 8ms/step - loss: 1.9022e-11 - accuracy: 1.0000\n",
      "Epoch 63/100\n",
      "4231/4231 [==============================] - 30s 7ms/step - loss: 1.8629e-11 - accuracy: 1.0000\n",
      "Epoch 64/100\n",
      "4231/4231 [==============================] - 31s 7ms/step - loss: 1.8313e-11 - accuracy: 1.0000\n",
      "Epoch 65/100\n",
      "4231/4231 [==============================] - 29s 7ms/step - loss: 1.7901e-11 - accuracy: 1.0000\n",
      "Epoch 66/100\n",
      "4231/4231 [==============================] - 48s 11ms/step - loss: 1.7607e-11 - accuracy: 1.0000\n",
      "Epoch 67/100\n",
      "4231/4231 [==============================] - 29s 7ms/step - loss: 1.7251e-11 - accuracy: 1.0000\n",
      "Epoch 68/100\n",
      "4231/4231 [==============================] - 31s 7ms/step - loss: 1.6907e-11 - accuracy: 1.0000\n",
      "Epoch 69/100\n",
      "4231/4231 [==============================] - 29s 7ms/step - loss: 1.6624e-11 - accuracy: 1.0000\n",
      "Epoch 70/100\n",
      "4231/4231 [==============================] - 46s 11ms/step - loss: 1.6327e-11 - accuracy: 1.0000\n",
      "Epoch 71/100\n",
      "4231/4231 [==============================] - 33s 8ms/step - loss: 1.6088e-11 - accuracy: 1.0000\n",
      "Epoch 72/100\n",
      "4231/4231 [==============================] - 35s 8ms/step - loss: 1.5760e-11 - accuracy: 1.0000\n",
      "Epoch 73/100\n",
      "4231/4231 [==============================] - 35s 8ms/step - loss: 1.5497e-11 - accuracy: 1.0000\n",
      "Epoch 74/100\n",
      "4231/4231 [==============================] - 55s 13ms/step - loss: 1.5250e-11 - accuracy: 1.0000\n",
      "Epoch 75/100\n",
      "4231/4231 [==============================] - 34s 8ms/step - loss: 1.5019e-11 - accuracy: 1.0000\n",
      "Epoch 76/100\n",
      "4231/4231 [==============================] - 75s 18ms/step - loss: 1.4713e-11 - accuracy: 1.0000\n",
      "Epoch 77/100\n",
      "4231/4231 [==============================] - 87s 20ms/step - loss: 1.4527e-11 - accuracy: 1.0000\n",
      "Epoch 78/100\n",
      "4231/4231 [==============================] - 34s 8ms/step - loss: 1.4307e-11 - accuracy: 1.0000\n",
      "Epoch 79/100\n",
      "4231/4231 [==============================] - 42s 10ms/step - loss: 1.4041e-11 - accuracy: 1.0000\n",
      "Epoch 80/100\n",
      "4231/4231 [==============================] - 31s 7ms/step - loss: 1.3883e-11 - accuracy: 1.0000\n",
      "Epoch 81/100\n",
      "4231/4231 [==============================] - 26s 6ms/step - loss: 1.3552e-11 - accuracy: 1.0000\n",
      "Epoch 82/100\n",
      "4231/4231 [==============================] - 29s 7ms/step - loss: 1.3480e-11 - accuracy: 1.0000\n",
      "Epoch 83/100\n",
      "4231/4231 [==============================] - 31s 7ms/step - loss: 1.3277e-11 - accuracy: 1.0000\n",
      "Epoch 84/100\n",
      "4231/4231 [==============================] - 72s 17ms/step - loss: 1.3040e-11 - accuracy: 1.0000\n",
      "Epoch 85/100\n",
      "4231/4231 [==============================] - 56s 13ms/step - loss: 1.2946e-11 - accuracy: 1.0000\n",
      "Epoch 86/100\n",
      "4231/4231 [==============================] - 54s 13ms/step - loss: 1.2784e-11 - accuracy: 1.0000\n",
      "Epoch 87/100\n",
      "4231/4231 [==============================] - 34s 8ms/step - loss: 1.2466e-11 - accuracy: 1.0000\n",
      "Epoch 88/100\n",
      "4231/4231 [==============================] - 28s 7ms/step - loss: 1.2452e-11 - accuracy: 1.0000\n",
      "Epoch 89/100\n",
      "4231/4231 [==============================] - 28s 7ms/step - loss: 1.2260e-11 - accuracy: 1.0000\n",
      "Epoch 90/100\n",
      "4231/4231 [==============================] - 27s 6ms/step - loss: 1.2118e-11 - accuracy: 1.0000\n",
      "Epoch 91/100\n",
      "4231/4231 [==============================] - 35s 8ms/step - loss: 1.2035e-11 - accuracy: 1.0000\n",
      "Epoch 92/100\n",
      "4231/4231 [==============================] - 27s 6ms/step - loss: 1.1821e-11 - accuracy: 1.0000\n",
      "Epoch 93/100\n",
      "4231/4231 [==============================] - 45s 11ms/step - loss: 1.1698e-11 - accuracy: 1.0000\n",
      "Epoch 94/100\n",
      "4231/4231 [==============================] - 54s 13ms/step - loss: 1.1655e-11 - accuracy: 1.0000\n",
      "Epoch 95/100\n",
      "4231/4231 [==============================] - 30s 7ms/step - loss: 1.1462e-11 - accuracy: 1.0000\n",
      "Epoch 96/100\n",
      "4231/4231 [==============================] - 33s 8ms/step - loss: 1.1308e-11 - accuracy: 1.0000\n",
      "Epoch 97/100\n",
      "4231/4231 [==============================] - 29s 7ms/step - loss: 1.1261e-11 - accuracy: 1.0000\n",
      "Epoch 98/100\n",
      "4231/4231 [==============================] - 46s 11ms/step - loss: 1.1043e-11 - accuracy: 1.0000\n",
      "Epoch 99/100\n",
      "4231/4231 [==============================] - 36s 9ms/step - loss: 1.0953e-11 - accuracy: 1.0000\n",
      "Epoch 100/100\n",
      "4231/4231 [==============================] - 51s 12ms/step - loss: 1.0811e-11 - accuracy: 1.0000\n"
     ]
    }
   ],
   "source": [
    "#Train the model\n",
    "fit_model = nn.fit(X_train_scaled,y_train,epochs=100)\n"
   ]
  },
  {
   "cell_type": "code",
   "execution_count": 36,
   "metadata": {},
   "outputs": [
    {
     "name": "stdout",
     "output_type": "stream",
     "text": [
      "1411/1411 - 17s - loss: 0.0019 - accuracy: 0.9999 - 17s/epoch - 12ms/step\n",
      "Loss: 0.0019061659695580602, Accuracy: 0.9999335408210754\n"
     ]
    }
   ],
   "source": [
    "# Evaluate the model using the test data\n",
    "model_loss, model_accuracy = nn.evaluate(X_test_scaled,y_test,verbose=2)\n",
    "print(f\"Loss: {model_loss}, Accuracy: {model_accuracy}\")"
   ]
  },
  {
   "cell_type": "code",
   "execution_count": 37,
   "metadata": {},
   "outputs": [
    {
     "data": {
      "text/plain": [
       "<Axes: >"
      ]
     },
     "execution_count": 37,
     "metadata": {},
     "output_type": "execute_result"
    },
    {
     "data": {
      "image/png": "[encoded data removed]",
      "text/plain": [
       "<Figure size 640x480 with 1 Axes>"
      ]
     },
     "metadata": {},
     "output_type": "display_data"
    }
   ],
   "source": [
    "# plotting the accuracy\n",
    "history_df = pd.DataFrame(fit_model.history, index = range(1, len(fit_model.history['loss'])+1))\n",
    "history_df.plot(y = 'accuracy')"
   ]
  },
  {
   "cell_type": "code",
   "execution_count": 74,
   "metadata": {},
   "outputs": [
    {
     "name": "stderr",
     "output_type": "stream",
     "text": [
      "/var/folders/b7/jt29m60j4hd6pw18z289tgh40000gn/T/ipykernel_41967/481372882.py:1: SettingWithCopyWarning:\n",
      "\n",
      "\n",
      "A value is trying to be set on a copy of a slice from a DataFrame\n",
      "\n",
      "See the caveats in the documentation: https://pandas.pydata.org/pandas-docs/stable/user_guide/indexing.html#returning-a-view-versus-a-copy\n",
      "\n"
     ]
    },
    {
     "data": {
      "text/html": [
       "<div>\n",
       "<style scoped>\n",
       "    .dataframe tbody tr th:only-of-type {\n",
       "        vertical-align: middle;\n",
       "    }\n",
       "\n",
       "    .dataframe tbody tr th {\n",
       "        vertical-align: top;\n",
       "    }\n",
       "\n",
       "    .dataframe thead th {\n",
       "        text-align: right;\n",
       "    }\n",
       "</style>\n",
       "<table border=\"1\" class=\"dataframe\">\n",
       "  <thead>\n",
       "    <tr style=\"text-align: right;\">\n",
       "      <th></th>\n",
       "      <th>Type</th>\n",
       "      <th>Late_delivery_risk</th>\n",
       "      <th>Customer Segment</th>\n",
       "      <th>Department Name</th>\n",
       "      <th>Market</th>\n",
       "      <th>Shipping Mode</th>\n",
       "    </tr>\n",
       "  </thead>\n",
       "  <tbody>\n",
       "    <tr>\n",
       "      <th>0</th>\n",
       "      <td>DEBIT</td>\n",
       "      <td>0</td>\n",
       "      <td>Consumer</td>\n",
       "      <td>Fitness</td>\n",
       "      <td>Pacific Asia</td>\n",
       "      <td>Standard Class</td>\n",
       "    </tr>\n",
       "    <tr>\n",
       "      <th>1</th>\n",
       "      <td>TRANSFER</td>\n",
       "      <td>1</td>\n",
       "      <td>Consumer</td>\n",
       "      <td>Fitness</td>\n",
       "      <td>Pacific Asia</td>\n",
       "      <td>Standard Class</td>\n",
       "    </tr>\n",
       "    <tr>\n",
       "      <th>2</th>\n",
       "      <td>CASH</td>\n",
       "      <td>0</td>\n",
       "      <td>Consumer</td>\n",
       "      <td>Fitness</td>\n",
       "      <td>Pacific Asia</td>\n",
       "      <td>Standard Class</td>\n",
       "    </tr>\n",
       "    <tr>\n",
       "      <th>3</th>\n",
       "      <td>DEBIT</td>\n",
       "      <td>0</td>\n",
       "      <td>Home Office</td>\n",
       "      <td>Fitness</td>\n",
       "      <td>Pacific Asia</td>\n",
       "      <td>Standard Class</td>\n",
       "    </tr>\n",
       "    <tr>\n",
       "      <th>4</th>\n",
       "      <td>PAYMENT</td>\n",
       "      <td>0</td>\n",
       "      <td>Corporate</td>\n",
       "      <td>Fitness</td>\n",
       "      <td>Pacific Asia</td>\n",
       "      <td>Standard Class</td>\n",
       "    </tr>\n",
       "    <tr>\n",
       "      <th>...</th>\n",
       "      <td>...</td>\n",
       "      <td>...</td>\n",
       "      <td>...</td>\n",
       "      <td>...</td>\n",
       "      <td>...</td>\n",
       "      <td>...</td>\n",
       "    </tr>\n",
       "    <tr>\n",
       "      <th>180514</th>\n",
       "      <td>CASH</td>\n",
       "      <td>0</td>\n",
       "      <td>Home Office</td>\n",
       "      <td>Fan Shop</td>\n",
       "      <td>Pacific Asia</td>\n",
       "      <td>Standard Class</td>\n",
       "    </tr>\n",
       "    <tr>\n",
       "      <th>180515</th>\n",
       "      <td>DEBIT</td>\n",
       "      <td>1</td>\n",
       "      <td>Corporate</td>\n",
       "      <td>Fan Shop</td>\n",
       "      <td>Pacific Asia</td>\n",
       "      <td>Second Class</td>\n",
       "    </tr>\n",
       "    <tr>\n",
       "      <th>180516</th>\n",
       "      <td>TRANSFER</td>\n",
       "      <td>1</td>\n",
       "      <td>Corporate</td>\n",
       "      <td>Fan Shop</td>\n",
       "      <td>Pacific Asia</td>\n",
       "      <td>Standard Class</td>\n",
       "    </tr>\n",
       "    <tr>\n",
       "      <th>180517</th>\n",
       "      <td>PAYMENT</td>\n",
       "      <td>0</td>\n",
       "      <td>Consumer</td>\n",
       "      <td>Fan Shop</td>\n",
       "      <td>Pacific Asia</td>\n",
       "      <td>Standard Class</td>\n",
       "    </tr>\n",
       "    <tr>\n",
       "      <th>180518</th>\n",
       "      <td>PAYMENT</td>\n",
       "      <td>0</td>\n",
       "      <td>Consumer</td>\n",
       "      <td>Fan Shop</td>\n",
       "      <td>Pacific Asia</td>\n",
       "      <td>Standard Class</td>\n",
       "    </tr>\n",
       "  </tbody>\n",
       "</table>\n",
       "<p>180519 rows × 6 columns</p>\n",
       "</div>"
      ],
      "text/plain": [
       "            Type  Late_delivery_risk Customer Segment Department Name  \\\n",
       "0          DEBIT                   0         Consumer         Fitness   \n",
       "1       TRANSFER                   1         Consumer         Fitness   \n",
       "2           CASH                   0         Consumer         Fitness   \n",
       "3          DEBIT                   0      Home Office         Fitness   \n",
       "4        PAYMENT                   0        Corporate         Fitness   \n",
       "...          ...                 ...              ...             ...   \n",
       "180514      CASH                   0      Home Office        Fan Shop   \n",
       "180515     DEBIT                   1        Corporate        Fan Shop   \n",
       "180516  TRANSFER                   1        Corporate        Fan Shop   \n",
       "180517   PAYMENT                   0         Consumer        Fan Shop   \n",
       "180518   PAYMENT                   0         Consumer        Fan Shop   \n",
       "\n",
       "              Market   Shipping Mode  \n",
       "0       Pacific Asia  Standard Class  \n",
       "1       Pacific Asia  Standard Class  \n",
       "2       Pacific Asia  Standard Class  \n",
       "3       Pacific Asia  Standard Class  \n",
       "4       Pacific Asia  Standard Class  \n",
       "...              ...             ...  \n",
       "180514  Pacific Asia  Standard Class  \n",
       "180515  Pacific Asia    Second Class  \n",
       "180516  Pacific Asia  Standard Class  \n",
       "180517  Pacific Asia  Standard Class  \n",
       "180518  Pacific Asia  Standard Class  \n",
       "\n",
       "[180519 rows x 6 columns]"
      ]
     },
     "execution_count": 74,
     "metadata": {},
     "output_type": "execute_result"
    }
   ],
   "source": [
    "df_a.drop(['Delivery Status','Customer Country','Customer State','Product Name'], axis=1, inplace=True)\n",
    "df_a"
   ]
  },
  {
   "cell_type": "code",
   "execution_count": 63,
   "metadata": {},
   "outputs": [
    {
     "name": "stderr",
     "output_type": "stream",
     "text": [
      "/var/folders/b7/jt29m60j4hd6pw18z289tgh40000gn/T/ipykernel_41967/1425087389.py:1: SettingWithCopyWarning:\n",
      "\n",
      "\n",
      "A value is trying to be set on a copy of a slice from a DataFrame\n",
      "\n",
      "See the caveats in the documentation: https://pandas.pydata.org/pandas-docs/stable/user_guide/indexing.html#returning-a-view-versus-a-copy\n",
      "\n"
     ]
    }
   ],
   "source": [
    "df_Cust = df_a.drop(['Type','Department Name', 'Market', 'Shipping Mode'], axis=1, inplace=True)\n",
    "df_Cust"
   ]
  },
  {
   "cell_type": "code",
   "execution_count": 64,
   "metadata": {},
   "outputs": [
    {
     "data": {
      "text/html": [
       "<div>\n",
       "<style scoped>\n",
       "    .dataframe tbody tr th:only-of-type {\n",
       "        vertical-align: middle;\n",
       "    }\n",
       "\n",
       "    .dataframe tbody tr th {\n",
       "        vertical-align: top;\n",
       "    }\n",
       "\n",
       "    .dataframe thead th {\n",
       "        text-align: right;\n",
       "    }\n",
       "</style>\n",
       "<table border=\"1\" class=\"dataframe\">\n",
       "  <thead>\n",
       "    <tr style=\"text-align: right;\">\n",
       "      <th></th>\n",
       "      <th>Late_delivery_risk</th>\n",
       "      <th>Customer Segment_Consumer</th>\n",
       "      <th>Customer Segment_Corporate</th>\n",
       "      <th>Customer Segment_Home Office</th>\n",
       "    </tr>\n",
       "  </thead>\n",
       "  <tbody>\n",
       "    <tr>\n",
       "      <th>0</th>\n",
       "      <td>0</td>\n",
       "      <td>1</td>\n",
       "      <td>0</td>\n",
       "      <td>0</td>\n",
       "    </tr>\n",
       "    <tr>\n",
       "      <th>1</th>\n",
       "      <td>1</td>\n",
       "      <td>1</td>\n",
       "      <td>0</td>\n",
       "      <td>0</td>\n",
       "    </tr>\n",
       "    <tr>\n",
       "      <th>2</th>\n",
       "      <td>0</td>\n",
       "      <td>1</td>\n",
       "      <td>0</td>\n",
       "      <td>0</td>\n",
       "    </tr>\n",
       "    <tr>\n",
       "      <th>3</th>\n",
       "      <td>0</td>\n",
       "      <td>0</td>\n",
       "      <td>0</td>\n",
       "      <td>1</td>\n",
       "    </tr>\n",
       "    <tr>\n",
       "      <th>4</th>\n",
       "      <td>0</td>\n",
       "      <td>0</td>\n",
       "      <td>1</td>\n",
       "      <td>0</td>\n",
       "    </tr>\n",
       "    <tr>\n",
       "      <th>...</th>\n",
       "      <td>...</td>\n",
       "      <td>...</td>\n",
       "      <td>...</td>\n",
       "      <td>...</td>\n",
       "    </tr>\n",
       "    <tr>\n",
       "      <th>180514</th>\n",
       "      <td>0</td>\n",
       "      <td>0</td>\n",
       "      <td>0</td>\n",
       "      <td>1</td>\n",
       "    </tr>\n",
       "    <tr>\n",
       "      <th>180515</th>\n",
       "      <td>1</td>\n",
       "      <td>0</td>\n",
       "      <td>1</td>\n",
       "      <td>0</td>\n",
       "    </tr>\n",
       "    <tr>\n",
       "      <th>180516</th>\n",
       "      <td>1</td>\n",
       "      <td>0</td>\n",
       "      <td>1</td>\n",
       "      <td>0</td>\n",
       "    </tr>\n",
       "    <tr>\n",
       "      <th>180517</th>\n",
       "      <td>0</td>\n",
       "      <td>1</td>\n",
       "      <td>0</td>\n",
       "      <td>0</td>\n",
       "    </tr>\n",
       "    <tr>\n",
       "      <th>180518</th>\n",
       "      <td>0</td>\n",
       "      <td>1</td>\n",
       "      <td>0</td>\n",
       "      <td>0</td>\n",
       "    </tr>\n",
       "  </tbody>\n",
       "</table>\n",
       "<p>180519 rows × 4 columns</p>\n",
       "</div>"
      ],
      "text/plain": [
       "        Late_delivery_risk  Customer Segment_Consumer  \\\n",
       "0                        0                          1   \n",
       "1                        1                          1   \n",
       "2                        0                          1   \n",
       "3                        0                          0   \n",
       "4                        0                          0   \n",
       "...                    ...                        ...   \n",
       "180514                   0                          0   \n",
       "180515                   1                          0   \n",
       "180516                   1                          0   \n",
       "180517                   0                          1   \n",
       "180518                   0                          1   \n",
       "\n",
       "        Customer Segment_Corporate  Customer Segment_Home Office  \n",
       "0                                0                             0  \n",
       "1                                0                             0  \n",
       "2                                0                             0  \n",
       "3                                0                             1  \n",
       "4                                1                             0  \n",
       "...                            ...                           ...  \n",
       "180514                           0                             1  \n",
       "180515                           1                             0  \n",
       "180516                           1                             0  \n",
       "180517                           0                             0  \n",
       "180518                           0                             0  \n",
       "\n",
       "[180519 rows x 4 columns]"
      ]
     },
     "execution_count": 64,
     "metadata": {},
     "output_type": "execute_result"
    }
   ],
   "source": [
    "dummy_1 = pd.get_dummies(df_a)\n",
    "dummy_1"
   ]
  },
  {
   "cell_type": "code",
   "execution_count": 77,
   "metadata": {},
   "outputs": [],
   "source": [
    "# Split our preprocessed data into our features and target arrays\n",
    "y=dummy_1[\"Late_delivery_risk\"]\n",
    "x=dummy_1.drop([\"Late_delivery_risk\"], axis=1)\n",
    "\n",
    "# Split the preprocessed data into a training and testing dataset\n",
    "X_train, X_test, y_train, y_test = train_test_split(x, y, random_state=78)"
   ]
  },
  {
   "cell_type": "code",
   "execution_count": 78,
   "metadata": {},
   "outputs": [],
   "source": [
    "# Create a StandardScaler instances\n",
    "scaler = StandardScaler()\n",
    "\n",
    "# Fit the StandardScaler\n",
    "X_scaler = scaler.fit(X_train)\n",
    "\n",
    "# Scale the data\n",
    "X_train_scaled = X_scaler.transform(X_train)\n",
    "X_test_scaled = X_scaler.transform(X_test)"
   ]
  },
  {
   "cell_type": "code",
   "execution_count": 79,
   "metadata": {},
   "outputs": [
    {
     "name": "stdout",
     "output_type": "stream",
     "text": [
      "Model: \"sequential_2\"\n",
      "_________________________________________________________________\n",
      " Layer (type)                Output Shape              Param #   \n",
      "=================================================================\n",
      " dense_6 (Dense)             (None, 9)                 36        \n",
      "                                                                 \n",
      " dense_7 (Dense)             (None, 18)                180       \n",
      "                                                                 \n",
      " dense_8 (Dense)             (None, 1)                 19        \n",
      "                                                                 \n",
      "=================================================================\n",
      "Total params: 235\n",
      "Trainable params: 235\n",
      "Non-trainable params: 0\n",
      "_________________________________________________________________\n"
     ]
    }
   ],
   "source": [
    "# Define the model - deep neural net, i.e., the number of input features and hidden nodes for each layer.\n",
    "number_input_features = len(X_train_scaled[0])\n",
    "hidden_nodes_layer1 = 9\n",
    "hidden_nodes_layer2 = 18\n",
    "\n",
    "nn = tf.keras.models.Sequential()\n",
    "\n",
    "# First hidden layer\n",
    "nn.add(tf.keras.layers.Dense(units=hidden_nodes_layer1, input_dim=number_input_features, activation=\"relu\"))\n",
    "\n",
    "# Second hidden layer\n",
    "nn.add(tf.keras.layers.Dense(units=hidden_nodes_layer2, activation=\"relu\"))\n",
    "\n",
    "# Output layer\n",
    "nn.add(tf.keras.layers.Dense(units=1, activation=\"sigmoid\"))\n",
    "\n",
    "# Check the structure of the model\n",
    "nn.summary()"
   ]
  },
  {
   "cell_type": "code",
   "execution_count": 80,
   "metadata": {},
   "outputs": [],
   "source": [
    "#Compile the model\n",
    "nn.compile(loss=\"binary_crossentropy\", optimizer=\"adam\", metrics=[\"accuracy\"])"
   ]
  },
  {
   "cell_type": "code",
   "execution_count": 81,
   "metadata": {},
   "outputs": [
    {
     "name": "stdout",
     "output_type": "stream",
     "text": [
      "Epoch 1/100\n",
      "4231/4231 [==============================] - 25s 5ms/step - loss: 0.6887 - accuracy: 0.5482\n",
      "Epoch 2/100\n",
      "4231/4231 [==============================] - 20s 5ms/step - loss: 0.6886 - accuracy: 0.5487\n",
      "Epoch 3/100\n",
      "4231/4231 [==============================] - 19s 4ms/step - loss: 0.6885 - accuracy: 0.5487\n",
      "Epoch 4/100\n",
      "4231/4231 [==============================] - 19s 5ms/step - loss: 0.6885 - accuracy: 0.5487\n",
      "Epoch 5/100\n",
      "4231/4231 [==============================] - 21s 5ms/step - loss: 0.6885 - accuracy: 0.5487\n",
      "Epoch 6/100\n",
      "4231/4231 [==============================] - 19s 5ms/step - loss: 0.6885 - accuracy: 0.5487\n",
      "Epoch 7/100\n",
      "4231/4231 [==============================] - 21s 5ms/step - loss: 0.6884 - accuracy: 0.5487\n",
      "Epoch 8/100\n",
      "4231/4231 [==============================] - 19s 4ms/step - loss: 0.6885 - accuracy: 0.5487\n",
      "Epoch 9/100\n",
      "4231/4231 [==============================] - 20s 5ms/step - loss: 0.6884 - accuracy: 0.5487\n",
      "Epoch 10/100\n",
      "4231/4231 [==============================] - 19s 4ms/step - loss: 0.6885 - accuracy: 0.5487\n",
      "Epoch 11/100\n",
      "4231/4231 [==============================] - 19s 5ms/step - loss: 0.6885 - accuracy: 0.5487\n",
      "Epoch 12/100\n",
      "4231/4231 [==============================] - 19s 5ms/step - loss: 0.6884 - accuracy: 0.5487\n",
      "Epoch 13/100\n",
      "4231/4231 [==============================] - 22s 5ms/step - loss: 0.6884 - accuracy: 0.5487\n",
      "Epoch 14/100\n",
      "4231/4231 [==============================] - 25s 6ms/step - loss: 0.6884 - accuracy: 0.5487\n",
      "Epoch 15/100\n",
      "4231/4231 [==============================] - 72s 17ms/step - loss: 0.6884 - accuracy: 0.5487\n",
      "Epoch 16/100\n",
      "4231/4231 [==============================] - 70s 17ms/step - loss: 0.6884 - accuracy: 0.5487\n",
      "Epoch 17/100\n",
      "4231/4231 [==============================] - 54s 13ms/step - loss: 0.6884 - accuracy: 0.5487\n",
      "Epoch 18/100\n",
      "4231/4231 [==============================] - 25s 6ms/step - loss: 0.6884 - accuracy: 0.5487\n",
      "Epoch 19/100\n",
      "4231/4231 [==============================] - 25s 6ms/step - loss: 0.6884 - accuracy: 0.5487\n",
      "Epoch 20/100\n",
      "4231/4231 [==============================] - 25s 6ms/step - loss: 0.6884 - accuracy: 0.5487\n",
      "Epoch 21/100\n",
      "4231/4231 [==============================] - 28s 7ms/step - loss: 0.6884 - accuracy: 0.5487\n",
      "Epoch 22/100\n",
      "4231/4231 [==============================] - 26s 6ms/step - loss: 0.6884 - accuracy: 0.5487\n",
      "Epoch 23/100\n",
      "4231/4231 [==============================] - 78s 18ms/step - loss: 0.6884 - accuracy: 0.5487\n",
      "Epoch 24/100\n",
      "4231/4231 [==============================] - 85s 20ms/step - loss: 0.6884 - accuracy: 0.5487\n",
      "Epoch 25/100\n",
      "4231/4231 [==============================] - 88s 21ms/step - loss: 0.6884 - accuracy: 0.5487\n",
      "Epoch 26/100\n",
      "4231/4231 [==============================] - 73s 17ms/step - loss: 0.6884 - accuracy: 0.5487\n",
      "Epoch 27/100\n",
      "4231/4231 [==============================] - 25s 6ms/step - loss: 0.6884 - accuracy: 0.5487\n",
      "Epoch 28/100\n",
      "4231/4231 [==============================] - 10s 2ms/step - loss: 0.6884 - accuracy: 0.5487\n",
      "Epoch 29/100\n",
      "4231/4231 [==============================] - 10s 2ms/step - loss: 0.6884 - accuracy: 0.5487\n",
      "Epoch 30/100\n",
      "4231/4231 [==============================] - 10s 2ms/step - loss: 0.6884 - accuracy: 0.5487\n",
      "Epoch 31/100\n",
      "4231/4231 [==============================] - 10s 2ms/step - loss: 0.6884 - accuracy: 0.5487\n",
      "Epoch 32/100\n",
      "4231/4231 [==============================] - 11s 3ms/step - loss: 0.6884 - accuracy: 0.5487\n",
      "Epoch 33/100\n",
      "4231/4231 [==============================] - 10s 2ms/step - loss: 0.6884 - accuracy: 0.5487\n",
      "Epoch 34/100\n",
      "4231/4231 [==============================] - 10s 2ms/step - loss: 0.6884 - accuracy: 0.5487\n",
      "Epoch 35/100\n",
      "4231/4231 [==============================] - 10s 2ms/step - loss: 0.6884 - accuracy: 0.5487\n",
      "Epoch 36/100\n",
      "4231/4231 [==============================] - 10s 2ms/step - loss: 0.6884 - accuracy: 0.5487\n",
      "Epoch 37/100\n",
      "4231/4231 [==============================] - 10s 2ms/step - loss: 0.6884 - accuracy: 0.5487\n",
      "Epoch 38/100\n",
      "4231/4231 [==============================] - 10s 2ms/step - loss: 0.6884 - accuracy: 0.5487\n",
      "Epoch 39/100\n",
      "4231/4231 [==============================] - 10s 2ms/step - loss: 0.6884 - accuracy: 0.5487\n",
      "Epoch 40/100\n",
      "4231/4231 [==============================] - 10s 2ms/step - loss: 0.6884 - accuracy: 0.5487\n",
      "Epoch 41/100\n",
      "4231/4231 [==============================] - 10s 2ms/step - loss: 0.6884 - accuracy: 0.5487\n",
      "Epoch 42/100\n",
      "4231/4231 [==============================] - 10s 2ms/step - loss: 0.6884 - accuracy: 0.5487\n",
      "Epoch 43/100\n",
      "4231/4231 [==============================] - 10s 2ms/step - loss: 0.6884 - accuracy: 0.5487\n",
      "Epoch 44/100\n",
      "4231/4231 [==============================] - 10s 2ms/step - loss: 0.6884 - accuracy: 0.5487\n",
      "Epoch 45/100\n",
      "4231/4231 [==============================] - 10s 2ms/step - loss: 0.6884 - accuracy: 0.5487\n",
      "Epoch 46/100\n",
      "4231/4231 [==============================] - 10s 2ms/step - loss: 0.6884 - accuracy: 0.5487\n",
      "Epoch 47/100\n",
      "4231/4231 [==============================] - 10s 2ms/step - loss: 0.6884 - accuracy: 0.5487\n",
      "Epoch 48/100\n",
      "4231/4231 [==============================] - 11s 2ms/step - loss: 0.6884 - accuracy: 0.5487\n",
      "Epoch 49/100\n",
      "4231/4231 [==============================] - 10s 2ms/step - loss: 0.6884 - accuracy: 0.5487\n",
      "Epoch 50/100\n",
      "4231/4231 [==============================] - 10s 2ms/step - loss: 0.6884 - accuracy: 0.5487\n",
      "Epoch 51/100\n",
      "4231/4231 [==============================] - 10s 2ms/step - loss: 0.6884 - accuracy: 0.5487\n",
      "Epoch 52/100\n",
      "4231/4231 [==============================] - 10s 2ms/step - loss: 0.6884 - accuracy: 0.5487\n",
      "Epoch 53/100\n",
      "4231/4231 [==============================] - 10s 2ms/step - loss: 0.6884 - accuracy: 0.5487\n",
      "Epoch 54/100\n",
      "4231/4231 [==============================] - 10s 2ms/step - loss: 0.6884 - accuracy: 0.5487\n",
      "Epoch 55/100\n",
      "4231/4231 [==============================] - 10s 2ms/step - loss: 0.6884 - accuracy: 0.5487\n",
      "Epoch 56/100\n",
      "4231/4231 [==============================] - 10s 2ms/step - loss: 0.6884 - accuracy: 0.5487\n",
      "Epoch 57/100\n",
      "4231/4231 [==============================] - 11s 3ms/step - loss: 0.6884 - accuracy: 0.5487\n",
      "Epoch 58/100\n",
      "4231/4231 [==============================] - 14s 3ms/step - loss: 0.6884 - accuracy: 0.5487\n",
      "Epoch 59/100\n",
      "4231/4231 [==============================] - 17s 4ms/step - loss: 0.6884 - accuracy: 0.5487\n",
      "Epoch 60/100\n",
      "4231/4231 [==============================] - 16s 4ms/step - loss: 0.6884 - accuracy: 0.5487\n",
      "Epoch 61/100\n",
      "4231/4231 [==============================] - 16s 4ms/step - loss: 0.6884 - accuracy: 0.5487\n",
      "Epoch 62/100\n",
      "4231/4231 [==============================] - 18s 4ms/step - loss: 0.6884 - accuracy: 0.5487\n",
      "Epoch 63/100\n",
      "4231/4231 [==============================] - 15s 4ms/step - loss: 0.6884 - accuracy: 0.5487\n",
      "Epoch 64/100\n",
      "4231/4231 [==============================] - 15s 3ms/step - loss: 0.6884 - accuracy: 0.5487\n",
      "Epoch 65/100\n",
      "4231/4231 [==============================] - 15s 4ms/step - loss: 0.6884 - accuracy: 0.5487\n",
      "Epoch 66/100\n",
      "4231/4231 [==============================] - 15s 3ms/step - loss: 0.6884 - accuracy: 0.5487\n",
      "Epoch 67/100\n",
      "4231/4231 [==============================] - 15s 4ms/step - loss: 0.6884 - accuracy: 0.5487\n",
      "Epoch 68/100\n",
      "4231/4231 [==============================] - 15s 3ms/step - loss: 0.6884 - accuracy: 0.5487\n",
      "Epoch 69/100\n",
      "4231/4231 [==============================] - 15s 4ms/step - loss: 0.6884 - accuracy: 0.5487\n",
      "Epoch 70/100\n",
      "4231/4231 [==============================] - 15s 3ms/step - loss: 0.6884 - accuracy: 0.5487\n",
      "Epoch 71/100\n",
      "4231/4231 [==============================] - 15s 4ms/step - loss: 0.6884 - accuracy: 0.5487\n",
      "Epoch 72/100\n",
      "4231/4231 [==============================] - 13s 3ms/step - loss: 0.6884 - accuracy: 0.5487\n",
      "Epoch 73/100\n",
      "4231/4231 [==============================] - 14s 3ms/step - loss: 0.6884 - accuracy: 0.5487\n",
      "Epoch 74/100\n",
      "4231/4231 [==============================] - 12s 3ms/step - loss: 0.6884 - accuracy: 0.5487\n",
      "Epoch 75/100\n",
      "4231/4231 [==============================] - 13s 3ms/step - loss: 0.6884 - accuracy: 0.5487\n",
      "Epoch 76/100\n",
      "4231/4231 [==============================] - 12s 3ms/step - loss: 0.6884 - accuracy: 0.5487\n",
      "Epoch 77/100\n",
      "4231/4231 [==============================] - 11s 3ms/step - loss: 0.6884 - accuracy: 0.5487\n",
      "Epoch 78/100\n",
      "4231/4231 [==============================] - 23s 5ms/step - loss: 0.6884 - accuracy: 0.5487\n",
      "Epoch 79/100\n",
      "4231/4231 [==============================] - 11s 3ms/step - loss: 0.6884 - accuracy: 0.5487\n",
      "Epoch 80/100\n",
      "4231/4231 [==============================] - 21s 5ms/step - loss: 0.6884 - accuracy: 0.5487\n",
      "Epoch 81/100\n",
      "4231/4231 [==============================] - 10s 2ms/step - loss: 0.6884 - accuracy: 0.5487\n",
      "Epoch 82/100\n",
      "4231/4231 [==============================] - 10s 2ms/step - loss: 0.6884 - accuracy: 0.5487\n",
      "Epoch 83/100\n",
      "4231/4231 [==============================] - 10s 2ms/step - loss: 0.6884 - accuracy: 0.5487\n",
      "Epoch 84/100\n",
      "4231/4231 [==============================] - 11s 3ms/step - loss: 0.6884 - accuracy: 0.5487\n",
      "Epoch 85/100\n",
      "4231/4231 [==============================] - 96s 23ms/step - loss: 0.6884 - accuracy: 0.5487\n",
      "Epoch 86/100\n",
      "4231/4231 [==============================] - 23s 5ms/step - loss: 0.6884 - accuracy: 0.5487\n",
      "Epoch 87/100\n",
      "4231/4231 [==============================] - 17s 4ms/step - loss: 0.6884 - accuracy: 0.5487\n",
      "Epoch 88/100\n",
      "4231/4231 [==============================] - 16s 4ms/step - loss: 0.6884 - accuracy: 0.5487\n",
      "Epoch 89/100\n",
      "4231/4231 [==============================] - 18s 4ms/step - loss: 0.6884 - accuracy: 0.5487\n",
      "Epoch 90/100\n",
      "4231/4231 [==============================] - 16s 4ms/step - loss: 0.6884 - accuracy: 0.5487\n",
      "Epoch 91/100\n",
      "4231/4231 [==============================] - 21s 5ms/step - loss: 0.6884 - accuracy: 0.5487\n",
      "Epoch 92/100\n",
      "4231/4231 [==============================] - 21s 5ms/step - loss: 0.6884 - accuracy: 0.5487\n",
      "Epoch 93/100\n",
      "4231/4231 [==============================] - 22s 5ms/step - loss: 0.6884 - accuracy: 0.5487\n",
      "Epoch 94/100\n",
      "4231/4231 [==============================] - 16s 4ms/step - loss: 0.6884 - accuracy: 0.5487\n",
      "Epoch 95/100\n",
      "4231/4231 [==============================] - 16s 4ms/step - loss: 0.6884 - accuracy: 0.5487\n",
      "Epoch 96/100\n",
      "4231/4231 [==============================] - 16s 4ms/step - loss: 0.6884 - accuracy: 0.5487\n",
      "Epoch 97/100\n",
      "4231/4231 [==============================] - 15s 4ms/step - loss: 0.6884 - accuracy: 0.5487\n",
      "Epoch 98/100\n",
      "4231/4231 [==============================] - 16s 4ms/step - loss: 0.6884 - accuracy: 0.5487\n",
      "Epoch 99/100\n",
      "4231/4231 [==============================] - 16s 4ms/step - loss: 0.6884 - accuracy: 0.5487\n",
      "Epoch 100/100\n",
      "4231/4231 [==============================] - 16s 4ms/step - loss: 0.6884 - accuracy: 0.5487\n"
     ]
    }
   ],
   "source": [
    "#Train the model\n",
    "fit_model = nn.fit(X_train_scaled,y_train,epochs=100)\n"
   ]
  },
  {
   "cell_type": "code",
   "execution_count": 82,
   "metadata": {},
   "outputs": [
    {
     "name": "stdout",
     "output_type": "stream",
     "text": [
      "1411/1411 - 4s - loss: 0.6887 - accuracy: 0.5472 - 4s/epoch - 3ms/step\n",
      "Loss: 0.6887302398681641, Accuracy: 0.5471969842910767\n"
     ]
    }
   ],
   "source": [
    "# Evaluate the model using the test data\n",
    "model_loss, model_accuracy = nn.evaluate(X_test_scaled,y_test,verbose=2)\n",
    "print(f\"Loss: {model_loss}, Accuracy: {model_accuracy}\")"
   ]
  },
  {
   "cell_type": "code",
   "execution_count": 75,
   "metadata": {},
   "outputs": [
    {
     "name": "stderr",
     "output_type": "stream",
     "text": [
      "/var/folders/b7/jt29m60j4hd6pw18z289tgh40000gn/T/ipykernel_41967/494700134.py:1: SettingWithCopyWarning:\n",
      "\n",
      "\n",
      "A value is trying to be set on a copy of a slice from a DataFrame\n",
      "\n",
      "See the caveats in the documentation: https://pandas.pydata.org/pandas-docs/stable/user_guide/indexing.html#returning-a-view-versus-a-copy\n",
      "\n"
     ]
    }
   ],
   "source": [
    "df_Shipmode = df_a.drop(['Type','Department Name', 'Market', 'Customer Segment'], axis=1, inplace=True)\n",
    "df_Shipmode"
   ]
  },
  {
   "cell_type": "code",
   "execution_count": 76,
   "metadata": {},
   "outputs": [
    {
     "data": {
      "text/html": [
       "<div>\n",
       "<style scoped>\n",
       "    .dataframe tbody tr th:only-of-type {\n",
       "        vertical-align: middle;\n",
       "    }\n",
       "\n",
       "    .dataframe tbody tr th {\n",
       "        vertical-align: top;\n",
       "    }\n",
       "\n",
       "    .dataframe thead th {\n",
       "        text-align: right;\n",
       "    }\n",
       "</style>\n",
       "<table border=\"1\" class=\"dataframe\">\n",
       "  <thead>\n",
       "    <tr style=\"text-align: right;\">\n",
       "      <th></th>\n",
       "      <th>Late_delivery_risk</th>\n",
       "      <th>Shipping Mode_First Class</th>\n",
       "      <th>Shipping Mode_Same Day</th>\n",
       "      <th>Shipping Mode_Second Class</th>\n",
       "      <th>Shipping Mode_Standard Class</th>\n",
       "    </tr>\n",
       "  </thead>\n",
       "  <tbody>\n",
       "    <tr>\n",
       "      <th>0</th>\n",
       "      <td>0</td>\n",
       "      <td>0</td>\n",
       "      <td>0</td>\n",
       "      <td>0</td>\n",
       "      <td>1</td>\n",
       "    </tr>\n",
       "    <tr>\n",
       "      <th>1</th>\n",
       "      <td>1</td>\n",
       "      <td>0</td>\n",
       "      <td>0</td>\n",
       "      <td>0</td>\n",
       "      <td>1</td>\n",
       "    </tr>\n",
       "    <tr>\n",
       "      <th>2</th>\n",
       "      <td>0</td>\n",
       "      <td>0</td>\n",
       "      <td>0</td>\n",
       "      <td>0</td>\n",
       "      <td>1</td>\n",
       "    </tr>\n",
       "    <tr>\n",
       "      <th>3</th>\n",
       "      <td>0</td>\n",
       "      <td>0</td>\n",
       "      <td>0</td>\n",
       "      <td>0</td>\n",
       "      <td>1</td>\n",
       "    </tr>\n",
       "    <tr>\n",
       "      <th>4</th>\n",
       "      <td>0</td>\n",
       "      <td>0</td>\n",
       "      <td>0</td>\n",
       "      <td>0</td>\n",
       "      <td>1</td>\n",
       "    </tr>\n",
       "    <tr>\n",
       "      <th>...</th>\n",
       "      <td>...</td>\n",
       "      <td>...</td>\n",
       "      <td>...</td>\n",
       "      <td>...</td>\n",
       "      <td>...</td>\n",
       "    </tr>\n",
       "    <tr>\n",
       "      <th>180514</th>\n",
       "      <td>0</td>\n",
       "      <td>0</td>\n",
       "      <td>0</td>\n",
       "      <td>0</td>\n",
       "      <td>1</td>\n",
       "    </tr>\n",
       "    <tr>\n",
       "      <th>180515</th>\n",
       "      <td>1</td>\n",
       "      <td>0</td>\n",
       "      <td>0</td>\n",
       "      <td>1</td>\n",
       "      <td>0</td>\n",
       "    </tr>\n",
       "    <tr>\n",
       "      <th>180516</th>\n",
       "      <td>1</td>\n",
       "      <td>0</td>\n",
       "      <td>0</td>\n",
       "      <td>0</td>\n",
       "      <td>1</td>\n",
       "    </tr>\n",
       "    <tr>\n",
       "      <th>180517</th>\n",
       "      <td>0</td>\n",
       "      <td>0</td>\n",
       "      <td>0</td>\n",
       "      <td>0</td>\n",
       "      <td>1</td>\n",
       "    </tr>\n",
       "    <tr>\n",
       "      <th>180518</th>\n",
       "      <td>0</td>\n",
       "      <td>0</td>\n",
       "      <td>0</td>\n",
       "      <td>0</td>\n",
       "      <td>1</td>\n",
       "    </tr>\n",
       "  </tbody>\n",
       "</table>\n",
       "<p>180519 rows × 5 columns</p>\n",
       "</div>"
      ],
      "text/plain": [
       "        Late_delivery_risk  Shipping Mode_First Class  Shipping Mode_Same Day  \\\n",
       "0                        0                          0                       0   \n",
       "1                        1                          0                       0   \n",
       "2                        0                          0                       0   \n",
       "3                        0                          0                       0   \n",
       "4                        0                          0                       0   \n",
       "...                    ...                        ...                     ...   \n",
       "180514                   0                          0                       0   \n",
       "180515                   1                          0                       0   \n",
       "180516                   1                          0                       0   \n",
       "180517                   0                          0                       0   \n",
       "180518                   0                          0                       0   \n",
       "\n",
       "        Shipping Mode_Second Class  Shipping Mode_Standard Class  \n",
       "0                                0                             1  \n",
       "1                                0                             1  \n",
       "2                                0                             1  \n",
       "3                                0                             1  \n",
       "4                                0                             1  \n",
       "...                            ...                           ...  \n",
       "180514                           0                             1  \n",
       "180515                           1                             0  \n",
       "180516                           0                             1  \n",
       "180517                           0                             1  \n",
       "180518                           0                             1  \n",
       "\n",
       "[180519 rows x 5 columns]"
      ]
     },
     "execution_count": 76,
     "metadata": {},
     "output_type": "execute_result"
    }
   ],
   "source": [
    "dummy2 = pd.get_dummies(df_a)\n",
    "dummy2"
   ]
  },
  {
   "cell_type": "code",
   "execution_count": 83,
   "metadata": {},
   "outputs": [],
   "source": [
    "# Split our preprocessed data into our features and target arrays\n",
    "y=dummy2[\"Late_delivery_risk\"]\n",
    "x=dummy2.drop([\"Late_delivery_risk\"], axis=1)\n",
    "\n",
    "# Split the preprocessed data into a training and testing dataset\n",
    "X_train, X_test, y_train, y_test = train_test_split(x, y, random_state=78)"
   ]
  },
  {
   "cell_type": "code",
   "execution_count": 84,
   "metadata": {},
   "outputs": [],
   "source": [
    "# Create a StandardScaler instances\n",
    "scaler = StandardScaler()\n",
    "\n",
    "# Fit the StandardScaler\n",
    "X_scaler = scaler.fit(X_train)\n",
    "\n",
    "# Scale the data\n",
    "X_train_scaled = X_scaler.transform(X_train)\n",
    "X_test_scaled = X_scaler.transform(X_test)"
   ]
  },
  {
   "cell_type": "code",
   "execution_count": 85,
   "metadata": {},
   "outputs": [
    {
     "name": "stdout",
     "output_type": "stream",
     "text": [
      "Model: \"sequential_3\"\n",
      "_________________________________________________________________\n",
      " Layer (type)                Output Shape              Param #   \n",
      "=================================================================\n",
      " dense_9 (Dense)             (None, 9)                 45        \n",
      "                                                                 \n",
      " dense_10 (Dense)            (None, 18)                180       \n",
      "                                                                 \n",
      " dense_11 (Dense)            (None, 1)                 19        \n",
      "                                                                 \n",
      "=================================================================\n",
      "Total params: 244\n",
      "Trainable params: 244\n",
      "Non-trainable params: 0\n",
      "_________________________________________________________________\n"
     ]
    }
   ],
   "source": [
    "# Define the model - deep neural net, i.e., the number of input features and hidden nodes for each layer.\n",
    "number_input_features = len(X_train_scaled[0])\n",
    "hidden_nodes_layer1 = 9\n",
    "hidden_nodes_layer2 = 18\n",
    "\n",
    "nn = tf.keras.models.Sequential()\n",
    "\n",
    "# First hidden layer\n",
    "nn.add(tf.keras.layers.Dense(units=hidden_nodes_layer1, input_dim=number_input_features, activation=\"relu\"))\n",
    "\n",
    "# Second hidden layer\n",
    "nn.add(tf.keras.layers.Dense(units=hidden_nodes_layer2, activation=\"relu\"))\n",
    "\n",
    "# Output layer\n",
    "nn.add(tf.keras.layers.Dense(units=1, activation=\"sigmoid\"))\n",
    "\n",
    "# Check the structure of the model\n",
    "nn.summary()"
   ]
  },
  {
   "cell_type": "code",
   "execution_count": 86,
   "metadata": {},
   "outputs": [],
   "source": [
    "#Compile the model\n",
    "nn.compile(loss=\"binary_crossentropy\", optimizer=\"adam\", metrics=[\"accuracy\"])"
   ]
  },
  {
   "cell_type": "code",
   "execution_count": 87,
   "metadata": {},
   "outputs": [
    {
     "name": "stdout",
     "output_type": "stream",
     "text": [
      "Epoch 1/100\n",
      "4231/4231 [==============================] - 19s 4ms/step - loss: 0.5722 - accuracy: 0.6934\n",
      "Epoch 2/100\n",
      "4231/4231 [==============================] - 14s 3ms/step - loss: 0.5706 - accuracy: 0.6936\n",
      "Epoch 3/100\n",
      "4231/4231 [==============================] - 14s 3ms/step - loss: 0.5706 - accuracy: 0.6938\n",
      "Epoch 4/100\n",
      "4231/4231 [==============================] - 14s 3ms/step - loss: 0.5704 - accuracy: 0.6935\n",
      "Epoch 5/100\n",
      "4231/4231 [==============================] - 14s 3ms/step - loss: 0.5704 - accuracy: 0.6937\n",
      "Epoch 6/100\n",
      "4231/4231 [==============================] - 15s 3ms/step - loss: 0.5704 - accuracy: 0.6939\n",
      "Epoch 7/100\n",
      "4231/4231 [==============================] - 14s 3ms/step - loss: 0.5704 - accuracy: 0.6938\n",
      "Epoch 8/100\n",
      "4231/4231 [==============================] - 14s 3ms/step - loss: 0.5704 - accuracy: 0.6938\n",
      "Epoch 9/100\n",
      "4231/4231 [==============================] - 15s 4ms/step - loss: 0.5704 - accuracy: 0.6938\n",
      "Epoch 10/100\n",
      "4231/4231 [==============================] - 14s 3ms/step - loss: 0.5704 - accuracy: 0.6937\n",
      "Epoch 11/100\n",
      "4231/4231 [==============================] - 15s 4ms/step - loss: 0.5704 - accuracy: 0.6939\n",
      "Epoch 12/100\n",
      "4231/4231 [==============================] - 16s 4ms/step - loss: 0.5704 - accuracy: 0.6939\n",
      "Epoch 13/100\n",
      "4231/4231 [==============================] - 15s 3ms/step - loss: 0.5704 - accuracy: 0.6939\n",
      "Epoch 14/100\n",
      "4231/4231 [==============================] - 14s 3ms/step - loss: 0.5704 - accuracy: 0.6939\n",
      "Epoch 15/100\n",
      "4231/4231 [==============================] - 10s 2ms/step - loss: 0.5704 - accuracy: 0.6939\n",
      "Epoch 16/100\n",
      "4231/4231 [==============================] - 12s 3ms/step - loss: 0.5704 - accuracy: 0.6939\n",
      "Epoch 17/100\n",
      "4231/4231 [==============================] - 10s 2ms/step - loss: 0.5703 - accuracy: 0.6939\n",
      "Epoch 18/100\n",
      "4231/4231 [==============================] - 10s 2ms/step - loss: 0.5703 - accuracy: 0.6939\n",
      "Epoch 19/100\n",
      "4231/4231 [==============================] - 70059s 17s/step - loss: 0.5703 - accuracy: 0.6939\n",
      "Epoch 20/100\n",
      "4231/4231 [==============================] - 41s 10ms/step - loss: 0.5704 - accuracy: 0.6939\n",
      "Epoch 21/100\n",
      "4231/4231 [==============================] - 32s 8ms/step - loss: 0.5703 - accuracy: 0.6939\n",
      "Epoch 22/100\n",
      "4231/4231 [==============================] - 33s 8ms/step - loss: 0.5703 - accuracy: 0.6939\n",
      "Epoch 23/100\n",
      "4231/4231 [==============================] - 29s 7ms/step - loss: 0.5703 - accuracy: 0.6939\n",
      "Epoch 24/100\n",
      "4231/4231 [==============================] - 32s 8ms/step - loss: 0.5704 - accuracy: 0.6939\n",
      "Epoch 25/100\n",
      "4231/4231 [==============================] - 26s 6ms/step - loss: 0.5703 - accuracy: 0.6939\n",
      "Epoch 26/100\n",
      "4231/4231 [==============================] - 22s 5ms/step - loss: 0.5703 - accuracy: 0.6939\n",
      "Epoch 27/100\n",
      "4231/4231 [==============================] - 25s 6ms/step - loss: 0.5703 - accuracy: 0.6939\n",
      "Epoch 28/100\n",
      "4231/4231 [==============================] - 23s 5ms/step - loss: 0.5703 - accuracy: 0.6939\n",
      "Epoch 29/100\n",
      "4231/4231 [==============================] - 21s 5ms/step - loss: 0.5704 - accuracy: 0.6938\n",
      "Epoch 30/100\n",
      "4231/4231 [==============================] - 22s 5ms/step - loss: 0.5704 - accuracy: 0.6939\n",
      "Epoch 31/100\n",
      "4231/4231 [==============================] - 22s 5ms/step - loss: 0.5703 - accuracy: 0.6939\n",
      "Epoch 32/100\n",
      "4231/4231 [==============================] - 20s 5ms/step - loss: 0.5703 - accuracy: 0.6939\n",
      "Epoch 33/100\n",
      "4231/4231 [==============================] - 21s 5ms/step - loss: 0.5703 - accuracy: 0.6939\n",
      "Epoch 34/100\n",
      "4231/4231 [==============================] - 22s 5ms/step - loss: 0.5703 - accuracy: 0.6939\n",
      "Epoch 35/100\n",
      "4231/4231 [==============================] - 20s 5ms/step - loss: 0.5703 - accuracy: 0.6939\n",
      "Epoch 36/100\n",
      "4231/4231 [==============================] - 18s 4ms/step - loss: 0.5703 - accuracy: 0.6939\n",
      "Epoch 37/100\n",
      "4231/4231 [==============================] - 16s 4ms/step - loss: 0.5703 - accuracy: 0.6939\n",
      "Epoch 38/100\n",
      "4231/4231 [==============================] - 16s 4ms/step - loss: 0.5703 - accuracy: 0.6939\n",
      "Epoch 39/100\n",
      "4231/4231 [==============================] - 17s 4ms/step - loss: 0.5703 - accuracy: 0.6939\n",
      "Epoch 40/100\n",
      "4231/4231 [==============================] - 16s 4ms/step - loss: 0.5703 - accuracy: 0.6939\n",
      "Epoch 41/100\n",
      "4231/4231 [==============================] - 16s 4ms/step - loss: 0.5703 - accuracy: 0.6939\n",
      "Epoch 42/100\n",
      "4231/4231 [==============================] - 16s 4ms/step - loss: 0.5703 - accuracy: 0.6939\n",
      "Epoch 43/100\n",
      "4231/4231 [==============================] - 16s 4ms/step - loss: 0.5703 - accuracy: 0.6939\n",
      "Epoch 44/100\n",
      "4231/4231 [==============================] - 16s 4ms/step - loss: 0.5703 - accuracy: 0.6939\n",
      "Epoch 45/100\n",
      "4231/4231 [==============================] - 16s 4ms/step - loss: 0.5703 - accuracy: 0.6939\n",
      "Epoch 46/100\n",
      "4231/4231 [==============================] - 21s 5ms/step - loss: 0.5703 - accuracy: 0.6939\n",
      "Epoch 47/100\n",
      "4231/4231 [==============================] - 16s 4ms/step - loss: 0.5703 - accuracy: 0.6939\n",
      "Epoch 48/100\n",
      "4231/4231 [==============================] - 17s 4ms/step - loss: 0.5703 - accuracy: 0.6939\n",
      "Epoch 49/100\n",
      "4231/4231 [==============================] - 16s 4ms/step - loss: 0.5703 - accuracy: 0.6939\n",
      "Epoch 50/100\n",
      "4231/4231 [==============================] - 16s 4ms/step - loss: 0.5703 - accuracy: 0.6939\n",
      "Epoch 51/100\n",
      "4231/4231 [==============================] - 16s 4ms/step - loss: 0.5703 - accuracy: 0.6939\n",
      "Epoch 52/100\n",
      "4231/4231 [==============================] - 16s 4ms/step - loss: 0.5703 - accuracy: 0.6939\n",
      "Epoch 53/100\n",
      "4231/4231 [==============================] - 16s 4ms/step - loss: 0.5703 - accuracy: 0.6939\n",
      "Epoch 54/100\n",
      "4231/4231 [==============================] - 16s 4ms/step - loss: 0.5703 - accuracy: 0.6939\n",
      "Epoch 55/100\n",
      "4231/4231 [==============================] - 16s 4ms/step - loss: 0.5702 - accuracy: 0.6939\n",
      "Epoch 56/100\n",
      "4231/4231 [==============================] - 17s 4ms/step - loss: 0.5703 - accuracy: 0.6939\n",
      "Epoch 57/100\n",
      "4231/4231 [==============================] - 17s 4ms/step - loss: 0.5703 - accuracy: 0.6939\n",
      "Epoch 58/100\n",
      "4231/4231 [==============================] - 16s 4ms/step - loss: 0.5703 - accuracy: 0.6939\n",
      "Epoch 59/100\n",
      "4231/4231 [==============================] - 16s 4ms/step - loss: 0.5703 - accuracy: 0.6939\n",
      "Epoch 60/100\n",
      "4231/4231 [==============================] - 16s 4ms/step - loss: 0.5703 - accuracy: 0.6939\n",
      "Epoch 61/100\n",
      "4231/4231 [==============================] - 20s 5ms/step - loss: 0.5703 - accuracy: 0.6939\n",
      "Epoch 62/100\n",
      "4231/4231 [==============================] - 20s 5ms/step - loss: 0.5702 - accuracy: 0.6939\n",
      "Epoch 63/100\n",
      "4231/4231 [==============================] - 16s 4ms/step - loss: 0.5703 - accuracy: 0.6939\n",
      "Epoch 64/100\n",
      "4231/4231 [==============================] - 16s 4ms/step - loss: 0.5703 - accuracy: 0.6939\n",
      "Epoch 65/100\n",
      "4231/4231 [==============================] - 16s 4ms/step - loss: 0.5703 - accuracy: 0.6939\n",
      "Epoch 66/100\n",
      "4231/4231 [==============================] - 16s 4ms/step - loss: 0.5702 - accuracy: 0.6939\n",
      "Epoch 67/100\n",
      "4231/4231 [==============================] - 16s 4ms/step - loss: 0.5703 - accuracy: 0.6939\n",
      "Epoch 68/100\n",
      "4231/4231 [==============================] - 19s 4ms/step - loss: 0.5702 - accuracy: 0.6939\n",
      "Epoch 69/100\n",
      "4231/4231 [==============================] - 16s 4ms/step - loss: 0.5703 - accuracy: 0.6939\n",
      "Epoch 70/100\n",
      "4231/4231 [==============================] - 16s 4ms/step - loss: 0.5703 - accuracy: 0.6939\n",
      "Epoch 71/100\n",
      "4231/4231 [==============================] - 16s 4ms/step - loss: 0.5702 - accuracy: 0.6939\n",
      "Epoch 72/100\n",
      "4231/4231 [==============================] - 16s 4ms/step - loss: 0.5703 - accuracy: 0.6939\n",
      "Epoch 73/100\n",
      "4231/4231 [==============================] - 16s 4ms/step - loss: 0.5702 - accuracy: 0.6939\n",
      "Epoch 74/100\n",
      "4231/4231 [==============================] - 16s 4ms/step - loss: 0.5703 - accuracy: 0.6939\n",
      "Epoch 75/100\n",
      "4231/4231 [==============================] - 17s 4ms/step - loss: 0.5703 - accuracy: 0.6939\n",
      "Epoch 76/100\n",
      "4231/4231 [==============================] - 16s 4ms/step - loss: 0.5702 - accuracy: 0.6939\n",
      "Epoch 77/100\n",
      "4231/4231 [==============================] - 16s 4ms/step - loss: 0.5703 - accuracy: 0.6939\n",
      "Epoch 78/100\n",
      "4231/4231 [==============================] - 16s 4ms/step - loss: 0.5703 - accuracy: 0.6939\n",
      "Epoch 79/100\n",
      "4231/4231 [==============================] - 16s 4ms/step - loss: 0.5703 - accuracy: 0.6939\n",
      "Epoch 80/100\n",
      "4231/4231 [==============================] - 16s 4ms/step - loss: 0.5703 - accuracy: 0.6939\n",
      "Epoch 81/100\n",
      "4231/4231 [==============================] - 17s 4ms/step - loss: 0.5702 - accuracy: 0.6939\n",
      "Epoch 82/100\n",
      "4231/4231 [==============================] - 16s 4ms/step - loss: 0.5703 - accuracy: 0.6939\n",
      "Epoch 83/100\n",
      "4231/4231 [==============================] - 16s 4ms/step - loss: 0.5703 - accuracy: 0.6939\n",
      "Epoch 84/100\n",
      "4231/4231 [==============================] - 16s 4ms/step - loss: 0.5702 - accuracy: 0.6939\n",
      "Epoch 85/100\n",
      "4231/4231 [==============================] - 16s 4ms/step - loss: 0.5702 - accuracy: 0.6939\n",
      "Epoch 86/100\n",
      "4231/4231 [==============================] - 16s 4ms/step - loss: 0.5702 - accuracy: 0.6939\n",
      "Epoch 87/100\n",
      "4231/4231 [==============================] - 16s 4ms/step - loss: 0.5702 - accuracy: 0.6939\n",
      "Epoch 88/100\n",
      "4231/4231 [==============================] - 16s 4ms/step - loss: 0.5702 - accuracy: 0.6939\n",
      "Epoch 89/100\n",
      "4231/4231 [==============================] - 17s 4ms/step - loss: 0.5703 - accuracy: 0.6939\n",
      "Epoch 90/100\n",
      "4231/4231 [==============================] - 17s 4ms/step - loss: 0.5702 - accuracy: 0.6939\n",
      "Epoch 91/100\n",
      "4231/4231 [==============================] - 16s 4ms/step - loss: 0.5702 - accuracy: 0.6939\n",
      "Epoch 92/100\n",
      "4231/4231 [==============================] - 16s 4ms/step - loss: 0.5702 - accuracy: 0.6939\n",
      "Epoch 93/100\n",
      "4231/4231 [==============================] - 16s 4ms/step - loss: 0.5703 - accuracy: 0.6939\n",
      "Epoch 94/100\n",
      "4231/4231 [==============================] - 16s 4ms/step - loss: 0.5702 - accuracy: 0.6939\n",
      "Epoch 95/100\n",
      "4231/4231 [==============================] - 16s 4ms/step - loss: 0.5702 - accuracy: 0.6939\n",
      "Epoch 96/100\n",
      "4231/4231 [==============================] - 16s 4ms/step - loss: 0.5702 - accuracy: 0.6939\n",
      "Epoch 97/100\n",
      "4231/4231 [==============================] - 16s 4ms/step - loss: 0.5703 - accuracy: 0.6939\n",
      "Epoch 98/100\n",
      "4231/4231 [==============================] - 16s 4ms/step - loss: 0.5703 - accuracy: 0.6939\n",
      "Epoch 99/100\n",
      "4231/4231 [==============================] - 16s 4ms/step - loss: 0.5703 - accuracy: 0.6939\n",
      "Epoch 100/100\n",
      "4231/4231 [==============================] - 17s 4ms/step - loss: 0.5703 - accuracy: 0.6939\n"
     ]
    }
   ],
   "source": [
    "#Train the model\n",
    "fit_model = nn.fit(X_train_scaled,y_train,epochs=100)"
   ]
  },
  {
   "cell_type": "code",
   "execution_count": 88,
   "metadata": {},
   "outputs": [
    {
     "name": "stdout",
     "output_type": "stream",
     "text": [
      "1411/1411 - 4s - loss: 0.5656 - accuracy: 0.6994 - 4s/epoch - 3ms/step\n",
      "Loss: 0.5656244158744812, Accuracy: 0.699379563331604\n"
     ]
    }
   ],
   "source": [
    "# Evaluate the model using the test data\n",
    "model_loss, model_accuracy = nn.evaluate(X_test_scaled,y_test,verbose=2)\n",
    "print(f\"Loss: {model_loss}, Accuracy: {model_accuracy}\")"
   ]
  }
 ],
 "metadata": {
  "kernelspec": {
   "display_name": "dev",
   "language": "python",
   "name": "python3"
  },
  "language_info": {
   "codemirror_mode": {
    "name": "ipython",
    "version": 3
   },
   "file_extension": ".py",
   "mimetype": "text/x-python",
   "name": "python",
   "nbconvert_exporter": "python",
   "pygments_lexer": "ipython3",
   "version": "3.10.11"
  },
  "orig_nbformat": 4
 },
 "nbformat": 4,
 "nbformat_minor": 2
}
